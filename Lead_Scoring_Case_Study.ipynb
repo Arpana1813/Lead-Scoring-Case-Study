{
 "cells": [
  {
   "cell_type": "markdown",
   "id": "d1795b1d",
   "metadata": {},
   "source": [
    "### Lead Scoring Assignment By Arpana, Jayanand and Rajesh\n",
    "\n",
    "#### Problem Statement\n",
    "- An education company named X Education sells online courses to industry professionals. On any given day, many professionals who are interested in the courses land on their website and browse for courses. The company markets its courses on several websites and search engines like Google. Once these people land on the website, they might browse the courses or fill up a form for the course or watch some videos. When these people fill up a form providing their email address or phone number, they are classified to be a lead. Moreover, the company also gets leads through past referrals. Once these leads are acquired, employees from the sales team start making calls, writing emails, etc. Through this process, some of the leads get converted while most do not. The typical lead conversion rate at X education is around 30%. \n",
    "\n",
    "#### Goals\n",
    "   - To build a logistic regression model to assign a lead score between 0 and 100 to each of the leads which can be used by the company to target potential leads. A higher score would mean that the lead is hot, i.e. is most likely to convert whereas a lower score would mean that the lead is cold and will mostly not get converted."
   ]
  },
  {
   "cell_type": "markdown",
   "id": "79a6b70f",
   "metadata": {},
   "source": [
    "#### Importing the required libraries"
   ]
  },
  {
   "cell_type": "code",
   "execution_count": 166,
   "id": "c9eebb68",
   "metadata": {},
   "outputs": [],
   "source": [
    "import numpy as np\n",
    "import pandas as pd\n",
    "import matplotlib.pyplot as plt\n",
    "import seaborn as sns\n",
    "from sklearn.preprocessing import StandardScaler\n",
    "from sklearn.model_selection import train_test_split\n",
    "#Supressing warnings\n",
    "import warnings\n",
    "warnings.filterwarnings('ignore')\n",
    "\n",
    "from scipy import stats\n",
    "import statsmodels.api as sm\n",
    "\n",
    "from sklearn.linear_model import LogisticRegression\n",
    "from sklearn.feature_selection import RFE"
   ]
  },
  {
   "cell_type": "markdown",
   "id": "9e2dc16d",
   "metadata": {},
   "source": [
    "### Step 1: Reading and Understanding the dataset"
   ]
  },
  {
   "cell_type": "code",
   "execution_count": 167,
   "id": "17d5118c",
   "metadata": {},
   "outputs": [
    {
     "data": {
      "text/html": [
       "<div>\n",
       "<style scoped>\n",
       "    .dataframe tbody tr th:only-of-type {\n",
       "        vertical-align: middle;\n",
       "    }\n",
       "\n",
       "    .dataframe tbody tr th {\n",
       "        vertical-align: top;\n",
       "    }\n",
       "\n",
       "    .dataframe thead th {\n",
       "        text-align: right;\n",
       "    }\n",
       "</style>\n",
       "<table border=\"1\" class=\"dataframe\">\n",
       "  <thead>\n",
       "    <tr style=\"text-align: right;\">\n",
       "      <th></th>\n",
       "      <th>Prospect ID</th>\n",
       "      <th>Lead Number</th>\n",
       "      <th>Lead Origin</th>\n",
       "      <th>Lead Source</th>\n",
       "      <th>Do Not Email</th>\n",
       "      <th>Do Not Call</th>\n",
       "      <th>Converted</th>\n",
       "      <th>TotalVisits</th>\n",
       "      <th>Total Time Spent on Website</th>\n",
       "      <th>Page Views Per Visit</th>\n",
       "      <th>...</th>\n",
       "      <th>Get updates on DM Content</th>\n",
       "      <th>Lead Profile</th>\n",
       "      <th>City</th>\n",
       "      <th>Asymmetrique Activity Index</th>\n",
       "      <th>Asymmetrique Profile Index</th>\n",
       "      <th>Asymmetrique Activity Score</th>\n",
       "      <th>Asymmetrique Profile Score</th>\n",
       "      <th>I agree to pay the amount through cheque</th>\n",
       "      <th>A free copy of Mastering The Interview</th>\n",
       "      <th>Last Notable Activity</th>\n",
       "    </tr>\n",
       "  </thead>\n",
       "  <tbody>\n",
       "    <tr>\n",
       "      <th>0</th>\n",
       "      <td>7927b2df-8bba-4d29-b9a2-b6e0beafe620</td>\n",
       "      <td>660737</td>\n",
       "      <td>API</td>\n",
       "      <td>Olark Chat</td>\n",
       "      <td>No</td>\n",
       "      <td>No</td>\n",
       "      <td>0</td>\n",
       "      <td>0.0</td>\n",
       "      <td>0</td>\n",
       "      <td>0.0</td>\n",
       "      <td>...</td>\n",
       "      <td>No</td>\n",
       "      <td>Select</td>\n",
       "      <td>Select</td>\n",
       "      <td>02.Medium</td>\n",
       "      <td>02.Medium</td>\n",
       "      <td>15.0</td>\n",
       "      <td>15.0</td>\n",
       "      <td>No</td>\n",
       "      <td>No</td>\n",
       "      <td>Modified</td>\n",
       "    </tr>\n",
       "    <tr>\n",
       "      <th>1</th>\n",
       "      <td>2a272436-5132-4136-86fa-dcc88c88f482</td>\n",
       "      <td>660728</td>\n",
       "      <td>API</td>\n",
       "      <td>Organic Search</td>\n",
       "      <td>No</td>\n",
       "      <td>No</td>\n",
       "      <td>0</td>\n",
       "      <td>5.0</td>\n",
       "      <td>674</td>\n",
       "      <td>2.5</td>\n",
       "      <td>...</td>\n",
       "      <td>No</td>\n",
       "      <td>Select</td>\n",
       "      <td>Select</td>\n",
       "      <td>02.Medium</td>\n",
       "      <td>02.Medium</td>\n",
       "      <td>15.0</td>\n",
       "      <td>15.0</td>\n",
       "      <td>No</td>\n",
       "      <td>No</td>\n",
       "      <td>Email Opened</td>\n",
       "    </tr>\n",
       "    <tr>\n",
       "      <th>2</th>\n",
       "      <td>8cc8c611-a219-4f35-ad23-fdfd2656bd8a</td>\n",
       "      <td>660727</td>\n",
       "      <td>Landing Page Submission</td>\n",
       "      <td>Direct Traffic</td>\n",
       "      <td>No</td>\n",
       "      <td>No</td>\n",
       "      <td>1</td>\n",
       "      <td>2.0</td>\n",
       "      <td>1532</td>\n",
       "      <td>2.0</td>\n",
       "      <td>...</td>\n",
       "      <td>No</td>\n",
       "      <td>Potential Lead</td>\n",
       "      <td>Mumbai</td>\n",
       "      <td>02.Medium</td>\n",
       "      <td>01.High</td>\n",
       "      <td>14.0</td>\n",
       "      <td>20.0</td>\n",
       "      <td>No</td>\n",
       "      <td>Yes</td>\n",
       "      <td>Email Opened</td>\n",
       "    </tr>\n",
       "    <tr>\n",
       "      <th>3</th>\n",
       "      <td>0cc2df48-7cf4-4e39-9de9-19797f9b38cc</td>\n",
       "      <td>660719</td>\n",
       "      <td>Landing Page Submission</td>\n",
       "      <td>Direct Traffic</td>\n",
       "      <td>No</td>\n",
       "      <td>No</td>\n",
       "      <td>0</td>\n",
       "      <td>1.0</td>\n",
       "      <td>305</td>\n",
       "      <td>1.0</td>\n",
       "      <td>...</td>\n",
       "      <td>No</td>\n",
       "      <td>Select</td>\n",
       "      <td>Mumbai</td>\n",
       "      <td>02.Medium</td>\n",
       "      <td>01.High</td>\n",
       "      <td>13.0</td>\n",
       "      <td>17.0</td>\n",
       "      <td>No</td>\n",
       "      <td>No</td>\n",
       "      <td>Modified</td>\n",
       "    </tr>\n",
       "    <tr>\n",
       "      <th>4</th>\n",
       "      <td>3256f628-e534-4826-9d63-4a8b88782852</td>\n",
       "      <td>660681</td>\n",
       "      <td>Landing Page Submission</td>\n",
       "      <td>Google</td>\n",
       "      <td>No</td>\n",
       "      <td>No</td>\n",
       "      <td>1</td>\n",
       "      <td>2.0</td>\n",
       "      <td>1428</td>\n",
       "      <td>1.0</td>\n",
       "      <td>...</td>\n",
       "      <td>No</td>\n",
       "      <td>Select</td>\n",
       "      <td>Mumbai</td>\n",
       "      <td>02.Medium</td>\n",
       "      <td>01.High</td>\n",
       "      <td>15.0</td>\n",
       "      <td>18.0</td>\n",
       "      <td>No</td>\n",
       "      <td>No</td>\n",
       "      <td>Modified</td>\n",
       "    </tr>\n",
       "  </tbody>\n",
       "</table>\n",
       "<p>5 rows × 37 columns</p>\n",
       "</div>"
      ],
      "text/plain": [
       "                            Prospect ID  Lead Number              Lead Origin  \\\n",
       "0  7927b2df-8bba-4d29-b9a2-b6e0beafe620       660737                      API   \n",
       "1  2a272436-5132-4136-86fa-dcc88c88f482       660728                      API   \n",
       "2  8cc8c611-a219-4f35-ad23-fdfd2656bd8a       660727  Landing Page Submission   \n",
       "3  0cc2df48-7cf4-4e39-9de9-19797f9b38cc       660719  Landing Page Submission   \n",
       "4  3256f628-e534-4826-9d63-4a8b88782852       660681  Landing Page Submission   \n",
       "\n",
       "      Lead Source Do Not Email Do Not Call  Converted  TotalVisits  \\\n",
       "0      Olark Chat           No          No          0          0.0   \n",
       "1  Organic Search           No          No          0          5.0   \n",
       "2  Direct Traffic           No          No          1          2.0   \n",
       "3  Direct Traffic           No          No          0          1.0   \n",
       "4          Google           No          No          1          2.0   \n",
       "\n",
       "   Total Time Spent on Website  Page Views Per Visit  ...  \\\n",
       "0                            0                   0.0  ...   \n",
       "1                          674                   2.5  ...   \n",
       "2                         1532                   2.0  ...   \n",
       "3                          305                   1.0  ...   \n",
       "4                         1428                   1.0  ...   \n",
       "\n",
       "  Get updates on DM Content    Lead Profile    City  \\\n",
       "0                        No          Select  Select   \n",
       "1                        No          Select  Select   \n",
       "2                        No  Potential Lead  Mumbai   \n",
       "3                        No          Select  Mumbai   \n",
       "4                        No          Select  Mumbai   \n",
       "\n",
       "  Asymmetrique Activity Index Asymmetrique Profile Index  \\\n",
       "0                   02.Medium                  02.Medium   \n",
       "1                   02.Medium                  02.Medium   \n",
       "2                   02.Medium                    01.High   \n",
       "3                   02.Medium                    01.High   \n",
       "4                   02.Medium                    01.High   \n",
       "\n",
       "  Asymmetrique Activity Score Asymmetrique Profile Score  \\\n",
       "0                        15.0                       15.0   \n",
       "1                        15.0                       15.0   \n",
       "2                        14.0                       20.0   \n",
       "3                        13.0                       17.0   \n",
       "4                        15.0                       18.0   \n",
       "\n",
       "  I agree to pay the amount through cheque  \\\n",
       "0                                       No   \n",
       "1                                       No   \n",
       "2                                       No   \n",
       "3                                       No   \n",
       "4                                       No   \n",
       "\n",
       "  A free copy of Mastering The Interview Last Notable Activity  \n",
       "0                                     No              Modified  \n",
       "1                                     No          Email Opened  \n",
       "2                                    Yes          Email Opened  \n",
       "3                                     No              Modified  \n",
       "4                                     No              Modified  \n",
       "\n",
       "[5 rows x 37 columns]"
      ]
     },
     "execution_count": 167,
     "metadata": {},
     "output_type": "execute_result"
    }
   ],
   "source": [
    "#Reading the dataset and printing the first 5 rows\n",
    "df_lead = pd.read_csv(\"Leads.csv\")\n",
    "df_lead.head()"
   ]
  },
  {
   "cell_type": "code",
   "execution_count": 168,
   "id": "ce2ef788",
   "metadata": {},
   "outputs": [
    {
     "data": {
      "text/plain": [
       "(9240, 37)"
      ]
     },
     "execution_count": 168,
     "metadata": {},
     "output_type": "execute_result"
    }
   ],
   "source": [
    "#checking the dimensions of the dataframe\n",
    "df_lead.shape"
   ]
  },
  {
   "cell_type": "code",
   "execution_count": 169,
   "id": "6a19c736",
   "metadata": {},
   "outputs": [
    {
     "name": "stdout",
     "output_type": "stream",
     "text": [
      "<class 'pandas.core.frame.DataFrame'>\n",
      "RangeIndex: 9240 entries, 0 to 9239\n",
      "Data columns (total 37 columns):\n",
      "Prospect ID                                      9240 non-null object\n",
      "Lead Number                                      9240 non-null int64\n",
      "Lead Origin                                      9240 non-null object\n",
      "Lead Source                                      9204 non-null object\n",
      "Do Not Email                                     9240 non-null object\n",
      "Do Not Call                                      9240 non-null object\n",
      "Converted                                        9240 non-null int64\n",
      "TotalVisits                                      9103 non-null float64\n",
      "Total Time Spent on Website                      9240 non-null int64\n",
      "Page Views Per Visit                             9103 non-null float64\n",
      "Last Activity                                    9137 non-null object\n",
      "Country                                          6779 non-null object\n",
      "Specialization                                   7802 non-null object\n",
      "How did you hear about X Education               7033 non-null object\n",
      "What is your current occupation                  6550 non-null object\n",
      "What matters most to you in choosing a course    6531 non-null object\n",
      "Search                                           9240 non-null object\n",
      "Magazine                                         9240 non-null object\n",
      "Newspaper Article                                9240 non-null object\n",
      "X Education Forums                               9240 non-null object\n",
      "Newspaper                                        9240 non-null object\n",
      "Digital Advertisement                            9240 non-null object\n",
      "Through Recommendations                          9240 non-null object\n",
      "Receive More Updates About Our Courses           9240 non-null object\n",
      "Tags                                             5887 non-null object\n",
      "Lead Quality                                     4473 non-null object\n",
      "Update me on Supply Chain Content                9240 non-null object\n",
      "Get updates on DM Content                        9240 non-null object\n",
      "Lead Profile                                     6531 non-null object\n",
      "City                                             7820 non-null object\n",
      "Asymmetrique Activity Index                      5022 non-null object\n",
      "Asymmetrique Profile Index                       5022 non-null object\n",
      "Asymmetrique Activity Score                      5022 non-null float64\n",
      "Asymmetrique Profile Score                       5022 non-null float64\n",
      "I agree to pay the amount through cheque         9240 non-null object\n",
      "A free copy of Mastering The Interview           9240 non-null object\n",
      "Last Notable Activity                            9240 non-null object\n",
      "dtypes: float64(4), int64(3), object(30)\n",
      "memory usage: 2.6+ MB\n"
     ]
    }
   ],
   "source": [
    "#From the result, we can observe that there are null values in some columns\n",
    "df_lead.info()"
   ]
  },
  {
   "cell_type": "code",
   "execution_count": 170,
   "id": "6757e5f4",
   "metadata": {},
   "outputs": [
    {
     "data": {
      "text/html": [
       "<div>\n",
       "<style scoped>\n",
       "    .dataframe tbody tr th:only-of-type {\n",
       "        vertical-align: middle;\n",
       "    }\n",
       "\n",
       "    .dataframe tbody tr th {\n",
       "        vertical-align: top;\n",
       "    }\n",
       "\n",
       "    .dataframe thead th {\n",
       "        text-align: right;\n",
       "    }\n",
       "</style>\n",
       "<table border=\"1\" class=\"dataframe\">\n",
       "  <thead>\n",
       "    <tr style=\"text-align: right;\">\n",
       "      <th></th>\n",
       "      <th>Lead Number</th>\n",
       "      <th>Converted</th>\n",
       "      <th>TotalVisits</th>\n",
       "      <th>Total Time Spent on Website</th>\n",
       "      <th>Page Views Per Visit</th>\n",
       "      <th>Asymmetrique Activity Score</th>\n",
       "      <th>Asymmetrique Profile Score</th>\n",
       "    </tr>\n",
       "  </thead>\n",
       "  <tbody>\n",
       "    <tr>\n",
       "      <th>count</th>\n",
       "      <td>9240.000000</td>\n",
       "      <td>9240.000000</td>\n",
       "      <td>9103.000000</td>\n",
       "      <td>9240.000000</td>\n",
       "      <td>9103.000000</td>\n",
       "      <td>5022.000000</td>\n",
       "      <td>5022.000000</td>\n",
       "    </tr>\n",
       "    <tr>\n",
       "      <th>mean</th>\n",
       "      <td>617188.435606</td>\n",
       "      <td>0.385390</td>\n",
       "      <td>3.445238</td>\n",
       "      <td>487.698268</td>\n",
       "      <td>2.362820</td>\n",
       "      <td>14.306252</td>\n",
       "      <td>16.344883</td>\n",
       "    </tr>\n",
       "    <tr>\n",
       "      <th>std</th>\n",
       "      <td>23405.995698</td>\n",
       "      <td>0.486714</td>\n",
       "      <td>4.854853</td>\n",
       "      <td>548.021466</td>\n",
       "      <td>2.161418</td>\n",
       "      <td>1.386694</td>\n",
       "      <td>1.811395</td>\n",
       "    </tr>\n",
       "    <tr>\n",
       "      <th>min</th>\n",
       "      <td>579533.000000</td>\n",
       "      <td>0.000000</td>\n",
       "      <td>0.000000</td>\n",
       "      <td>0.000000</td>\n",
       "      <td>0.000000</td>\n",
       "      <td>7.000000</td>\n",
       "      <td>11.000000</td>\n",
       "    </tr>\n",
       "    <tr>\n",
       "      <th>25%</th>\n",
       "      <td>596484.500000</td>\n",
       "      <td>0.000000</td>\n",
       "      <td>1.000000</td>\n",
       "      <td>12.000000</td>\n",
       "      <td>1.000000</td>\n",
       "      <td>14.000000</td>\n",
       "      <td>15.000000</td>\n",
       "    </tr>\n",
       "    <tr>\n",
       "      <th>50%</th>\n",
       "      <td>615479.000000</td>\n",
       "      <td>0.000000</td>\n",
       "      <td>3.000000</td>\n",
       "      <td>248.000000</td>\n",
       "      <td>2.000000</td>\n",
       "      <td>14.000000</td>\n",
       "      <td>16.000000</td>\n",
       "    </tr>\n",
       "    <tr>\n",
       "      <th>75%</th>\n",
       "      <td>637387.250000</td>\n",
       "      <td>1.000000</td>\n",
       "      <td>5.000000</td>\n",
       "      <td>936.000000</td>\n",
       "      <td>3.000000</td>\n",
       "      <td>15.000000</td>\n",
       "      <td>18.000000</td>\n",
       "    </tr>\n",
       "    <tr>\n",
       "      <th>max</th>\n",
       "      <td>660737.000000</td>\n",
       "      <td>1.000000</td>\n",
       "      <td>251.000000</td>\n",
       "      <td>2272.000000</td>\n",
       "      <td>55.000000</td>\n",
       "      <td>18.000000</td>\n",
       "      <td>20.000000</td>\n",
       "    </tr>\n",
       "  </tbody>\n",
       "</table>\n",
       "</div>"
      ],
      "text/plain": [
       "         Lead Number    Converted  TotalVisits  Total Time Spent on Website  \\\n",
       "count    9240.000000  9240.000000  9103.000000                  9240.000000   \n",
       "mean   617188.435606     0.385390     3.445238                   487.698268   \n",
       "std     23405.995698     0.486714     4.854853                   548.021466   \n",
       "min    579533.000000     0.000000     0.000000                     0.000000   \n",
       "25%    596484.500000     0.000000     1.000000                    12.000000   \n",
       "50%    615479.000000     0.000000     3.000000                   248.000000   \n",
       "75%    637387.250000     1.000000     5.000000                   936.000000   \n",
       "max    660737.000000     1.000000   251.000000                  2272.000000   \n",
       "\n",
       "       Page Views Per Visit  Asymmetrique Activity Score  \\\n",
       "count           9103.000000                  5022.000000   \n",
       "mean               2.362820                    14.306252   \n",
       "std                2.161418                     1.386694   \n",
       "min                0.000000                     7.000000   \n",
       "25%                1.000000                    14.000000   \n",
       "50%                2.000000                    14.000000   \n",
       "75%                3.000000                    15.000000   \n",
       "max               55.000000                    18.000000   \n",
       "\n",
       "       Asymmetrique Profile Score  \n",
       "count                 5022.000000  \n",
       "mean                    16.344883  \n",
       "std                      1.811395  \n",
       "min                     11.000000  \n",
       "25%                     15.000000  \n",
       "50%                     16.000000  \n",
       "75%                     18.000000  \n",
       "max                     20.000000  "
      ]
     },
     "execution_count": 170,
     "metadata": {},
     "output_type": "execute_result"
    }
   ],
   "source": [
    "#Describing the dataframe\n",
    "df_lead.describe()"
   ]
  },
  {
   "cell_type": "markdown",
   "id": "ba23b41e",
   "metadata": {},
   "source": [
    "### Step 2: Data Cleaning\n",
    "\n",
    "#### 1) Dropping unecessary columns."
   ]
  },
  {
   "cell_type": "code",
   "execution_count": 171,
   "id": "20ed0790",
   "metadata": {},
   "outputs": [
    {
     "data": {
      "text/html": [
       "<div>\n",
       "<style scoped>\n",
       "    .dataframe tbody tr th:only-of-type {\n",
       "        vertical-align: middle;\n",
       "    }\n",
       "\n",
       "    .dataframe tbody tr th {\n",
       "        vertical-align: top;\n",
       "    }\n",
       "\n",
       "    .dataframe thead th {\n",
       "        text-align: right;\n",
       "    }\n",
       "</style>\n",
       "<table border=\"1\" class=\"dataframe\">\n",
       "  <thead>\n",
       "    <tr style=\"text-align: right;\">\n",
       "      <th></th>\n",
       "      <th>Lead Number</th>\n",
       "      <th>Lead Origin</th>\n",
       "      <th>Lead Source</th>\n",
       "      <th>Do Not Email</th>\n",
       "      <th>Do Not Call</th>\n",
       "      <th>Converted</th>\n",
       "      <th>TotalVisits</th>\n",
       "      <th>Total Time Spent on Website</th>\n",
       "      <th>Page Views Per Visit</th>\n",
       "      <th>Last Activity</th>\n",
       "      <th>...</th>\n",
       "      <th>Get updates on DM Content</th>\n",
       "      <th>Lead Profile</th>\n",
       "      <th>City</th>\n",
       "      <th>Asymmetrique Activity Index</th>\n",
       "      <th>Asymmetrique Profile Index</th>\n",
       "      <th>Asymmetrique Activity Score</th>\n",
       "      <th>Asymmetrique Profile Score</th>\n",
       "      <th>I agree to pay the amount through cheque</th>\n",
       "      <th>A free copy of Mastering The Interview</th>\n",
       "      <th>Last Notable Activity</th>\n",
       "    </tr>\n",
       "  </thead>\n",
       "  <tbody>\n",
       "    <tr>\n",
       "      <th>0</th>\n",
       "      <td>660737</td>\n",
       "      <td>API</td>\n",
       "      <td>Olark Chat</td>\n",
       "      <td>No</td>\n",
       "      <td>No</td>\n",
       "      <td>0</td>\n",
       "      <td>0.0</td>\n",
       "      <td>0</td>\n",
       "      <td>0.0</td>\n",
       "      <td>Page Visited on Website</td>\n",
       "      <td>...</td>\n",
       "      <td>No</td>\n",
       "      <td>Select</td>\n",
       "      <td>Select</td>\n",
       "      <td>02.Medium</td>\n",
       "      <td>02.Medium</td>\n",
       "      <td>15.0</td>\n",
       "      <td>15.0</td>\n",
       "      <td>No</td>\n",
       "      <td>No</td>\n",
       "      <td>Modified</td>\n",
       "    </tr>\n",
       "    <tr>\n",
       "      <th>1</th>\n",
       "      <td>660728</td>\n",
       "      <td>API</td>\n",
       "      <td>Organic Search</td>\n",
       "      <td>No</td>\n",
       "      <td>No</td>\n",
       "      <td>0</td>\n",
       "      <td>5.0</td>\n",
       "      <td>674</td>\n",
       "      <td>2.5</td>\n",
       "      <td>Email Opened</td>\n",
       "      <td>...</td>\n",
       "      <td>No</td>\n",
       "      <td>Select</td>\n",
       "      <td>Select</td>\n",
       "      <td>02.Medium</td>\n",
       "      <td>02.Medium</td>\n",
       "      <td>15.0</td>\n",
       "      <td>15.0</td>\n",
       "      <td>No</td>\n",
       "      <td>No</td>\n",
       "      <td>Email Opened</td>\n",
       "    </tr>\n",
       "    <tr>\n",
       "      <th>2</th>\n",
       "      <td>660727</td>\n",
       "      <td>Landing Page Submission</td>\n",
       "      <td>Direct Traffic</td>\n",
       "      <td>No</td>\n",
       "      <td>No</td>\n",
       "      <td>1</td>\n",
       "      <td>2.0</td>\n",
       "      <td>1532</td>\n",
       "      <td>2.0</td>\n",
       "      <td>Email Opened</td>\n",
       "      <td>...</td>\n",
       "      <td>No</td>\n",
       "      <td>Potential Lead</td>\n",
       "      <td>Mumbai</td>\n",
       "      <td>02.Medium</td>\n",
       "      <td>01.High</td>\n",
       "      <td>14.0</td>\n",
       "      <td>20.0</td>\n",
       "      <td>No</td>\n",
       "      <td>Yes</td>\n",
       "      <td>Email Opened</td>\n",
       "    </tr>\n",
       "    <tr>\n",
       "      <th>3</th>\n",
       "      <td>660719</td>\n",
       "      <td>Landing Page Submission</td>\n",
       "      <td>Direct Traffic</td>\n",
       "      <td>No</td>\n",
       "      <td>No</td>\n",
       "      <td>0</td>\n",
       "      <td>1.0</td>\n",
       "      <td>305</td>\n",
       "      <td>1.0</td>\n",
       "      <td>Unreachable</td>\n",
       "      <td>...</td>\n",
       "      <td>No</td>\n",
       "      <td>Select</td>\n",
       "      <td>Mumbai</td>\n",
       "      <td>02.Medium</td>\n",
       "      <td>01.High</td>\n",
       "      <td>13.0</td>\n",
       "      <td>17.0</td>\n",
       "      <td>No</td>\n",
       "      <td>No</td>\n",
       "      <td>Modified</td>\n",
       "    </tr>\n",
       "    <tr>\n",
       "      <th>4</th>\n",
       "      <td>660681</td>\n",
       "      <td>Landing Page Submission</td>\n",
       "      <td>Google</td>\n",
       "      <td>No</td>\n",
       "      <td>No</td>\n",
       "      <td>1</td>\n",
       "      <td>2.0</td>\n",
       "      <td>1428</td>\n",
       "      <td>1.0</td>\n",
       "      <td>Converted to Lead</td>\n",
       "      <td>...</td>\n",
       "      <td>No</td>\n",
       "      <td>Select</td>\n",
       "      <td>Mumbai</td>\n",
       "      <td>02.Medium</td>\n",
       "      <td>01.High</td>\n",
       "      <td>15.0</td>\n",
       "      <td>18.0</td>\n",
       "      <td>No</td>\n",
       "      <td>No</td>\n",
       "      <td>Modified</td>\n",
       "    </tr>\n",
       "  </tbody>\n",
       "</table>\n",
       "<p>5 rows × 36 columns</p>\n",
       "</div>"
      ],
      "text/plain": [
       "   Lead Number              Lead Origin     Lead Source Do Not Email  \\\n",
       "0       660737                      API      Olark Chat           No   \n",
       "1       660728                      API  Organic Search           No   \n",
       "2       660727  Landing Page Submission  Direct Traffic           No   \n",
       "3       660719  Landing Page Submission  Direct Traffic           No   \n",
       "4       660681  Landing Page Submission          Google           No   \n",
       "\n",
       "  Do Not Call  Converted  TotalVisits  Total Time Spent on Website  \\\n",
       "0          No          0          0.0                            0   \n",
       "1          No          0          5.0                          674   \n",
       "2          No          1          2.0                         1532   \n",
       "3          No          0          1.0                          305   \n",
       "4          No          1          2.0                         1428   \n",
       "\n",
       "   Page Views Per Visit            Last Activity  ...  \\\n",
       "0                   0.0  Page Visited on Website  ...   \n",
       "1                   2.5             Email Opened  ...   \n",
       "2                   2.0             Email Opened  ...   \n",
       "3                   1.0              Unreachable  ...   \n",
       "4                   1.0        Converted to Lead  ...   \n",
       "\n",
       "  Get updates on DM Content    Lead Profile    City  \\\n",
       "0                        No          Select  Select   \n",
       "1                        No          Select  Select   \n",
       "2                        No  Potential Lead  Mumbai   \n",
       "3                        No          Select  Mumbai   \n",
       "4                        No          Select  Mumbai   \n",
       "\n",
       "  Asymmetrique Activity Index Asymmetrique Profile Index  \\\n",
       "0                   02.Medium                  02.Medium   \n",
       "1                   02.Medium                  02.Medium   \n",
       "2                   02.Medium                    01.High   \n",
       "3                   02.Medium                    01.High   \n",
       "4                   02.Medium                    01.High   \n",
       "\n",
       "  Asymmetrique Activity Score Asymmetrique Profile Score  \\\n",
       "0                        15.0                       15.0   \n",
       "1                        15.0                       15.0   \n",
       "2                        14.0                       20.0   \n",
       "3                        13.0                       17.0   \n",
       "4                        15.0                       18.0   \n",
       "\n",
       "  I agree to pay the amount through cheque  \\\n",
       "0                                       No   \n",
       "1                                       No   \n",
       "2                                       No   \n",
       "3                                       No   \n",
       "4                                       No   \n",
       "\n",
       "  A free copy of Mastering The Interview Last Notable Activity  \n",
       "0                                     No              Modified  \n",
       "1                                     No          Email Opened  \n",
       "2                                    Yes          Email Opened  \n",
       "3                                     No              Modified  \n",
       "4                                     No              Modified  \n",
       "\n",
       "[5 rows x 36 columns]"
      ]
     },
     "execution_count": 171,
     "metadata": {},
     "output_type": "execute_result"
    }
   ],
   "source": [
    "#Dropping the column 'Prospect ID' as it only indicates the ID of the people who are contacted and has all unique values\n",
    "df_lead = df_lead.drop(['Prospect ID'], 1)\n",
    "df_lead.head()"
   ]
  },
  {
   "cell_type": "markdown",
   "id": "0beebe18",
   "metadata": {},
   "source": [
    "#### Column 'Lead Number' also has all unique values. But, let's not drop it as it is useful for the identification of leads."
   ]
  },
  {
   "cell_type": "code",
   "execution_count": 172,
   "id": "291be667",
   "metadata": {},
   "outputs": [
    {
     "data": {
      "text/html": [
       "<div>\n",
       "<style scoped>\n",
       "    .dataframe tbody tr th:only-of-type {\n",
       "        vertical-align: middle;\n",
       "    }\n",
       "\n",
       "    .dataframe tbody tr th {\n",
       "        vertical-align: top;\n",
       "    }\n",
       "\n",
       "    .dataframe thead th {\n",
       "        text-align: right;\n",
       "    }\n",
       "</style>\n",
       "<table border=\"1\" class=\"dataframe\">\n",
       "  <thead>\n",
       "    <tr style=\"text-align: right;\">\n",
       "      <th></th>\n",
       "      <th>Lead Number</th>\n",
       "      <th>Lead Origin</th>\n",
       "      <th>Lead Source</th>\n",
       "      <th>Do Not Email</th>\n",
       "      <th>Do Not Call</th>\n",
       "      <th>Converted</th>\n",
       "      <th>TotalVisits</th>\n",
       "      <th>Total Time Spent on Website</th>\n",
       "      <th>Page Views Per Visit</th>\n",
       "      <th>Last Activity</th>\n",
       "      <th>...</th>\n",
       "      <th>Tags</th>\n",
       "      <th>Lead Quality</th>\n",
       "      <th>Lead Profile</th>\n",
       "      <th>City</th>\n",
       "      <th>Asymmetrique Activity Index</th>\n",
       "      <th>Asymmetrique Profile Index</th>\n",
       "      <th>Asymmetrique Activity Score</th>\n",
       "      <th>Asymmetrique Profile Score</th>\n",
       "      <th>A free copy of Mastering The Interview</th>\n",
       "      <th>Last Notable Activity</th>\n",
       "    </tr>\n",
       "  </thead>\n",
       "  <tbody>\n",
       "    <tr>\n",
       "      <th>0</th>\n",
       "      <td>660737</td>\n",
       "      <td>API</td>\n",
       "      <td>Olark Chat</td>\n",
       "      <td>No</td>\n",
       "      <td>No</td>\n",
       "      <td>0</td>\n",
       "      <td>0.0</td>\n",
       "      <td>0</td>\n",
       "      <td>0.0</td>\n",
       "      <td>Page Visited on Website</td>\n",
       "      <td>...</td>\n",
       "      <td>Interested in other courses</td>\n",
       "      <td>Low in Relevance</td>\n",
       "      <td>Select</td>\n",
       "      <td>Select</td>\n",
       "      <td>02.Medium</td>\n",
       "      <td>02.Medium</td>\n",
       "      <td>15.0</td>\n",
       "      <td>15.0</td>\n",
       "      <td>No</td>\n",
       "      <td>Modified</td>\n",
       "    </tr>\n",
       "    <tr>\n",
       "      <th>1</th>\n",
       "      <td>660728</td>\n",
       "      <td>API</td>\n",
       "      <td>Organic Search</td>\n",
       "      <td>No</td>\n",
       "      <td>No</td>\n",
       "      <td>0</td>\n",
       "      <td>5.0</td>\n",
       "      <td>674</td>\n",
       "      <td>2.5</td>\n",
       "      <td>Email Opened</td>\n",
       "      <td>...</td>\n",
       "      <td>Ringing</td>\n",
       "      <td>NaN</td>\n",
       "      <td>Select</td>\n",
       "      <td>Select</td>\n",
       "      <td>02.Medium</td>\n",
       "      <td>02.Medium</td>\n",
       "      <td>15.0</td>\n",
       "      <td>15.0</td>\n",
       "      <td>No</td>\n",
       "      <td>Email Opened</td>\n",
       "    </tr>\n",
       "    <tr>\n",
       "      <th>2</th>\n",
       "      <td>660727</td>\n",
       "      <td>Landing Page Submission</td>\n",
       "      <td>Direct Traffic</td>\n",
       "      <td>No</td>\n",
       "      <td>No</td>\n",
       "      <td>1</td>\n",
       "      <td>2.0</td>\n",
       "      <td>1532</td>\n",
       "      <td>2.0</td>\n",
       "      <td>Email Opened</td>\n",
       "      <td>...</td>\n",
       "      <td>Will revert after reading the email</td>\n",
       "      <td>Might be</td>\n",
       "      <td>Potential Lead</td>\n",
       "      <td>Mumbai</td>\n",
       "      <td>02.Medium</td>\n",
       "      <td>01.High</td>\n",
       "      <td>14.0</td>\n",
       "      <td>20.0</td>\n",
       "      <td>Yes</td>\n",
       "      <td>Email Opened</td>\n",
       "    </tr>\n",
       "    <tr>\n",
       "      <th>3</th>\n",
       "      <td>660719</td>\n",
       "      <td>Landing Page Submission</td>\n",
       "      <td>Direct Traffic</td>\n",
       "      <td>No</td>\n",
       "      <td>No</td>\n",
       "      <td>0</td>\n",
       "      <td>1.0</td>\n",
       "      <td>305</td>\n",
       "      <td>1.0</td>\n",
       "      <td>Unreachable</td>\n",
       "      <td>...</td>\n",
       "      <td>Ringing</td>\n",
       "      <td>Not Sure</td>\n",
       "      <td>Select</td>\n",
       "      <td>Mumbai</td>\n",
       "      <td>02.Medium</td>\n",
       "      <td>01.High</td>\n",
       "      <td>13.0</td>\n",
       "      <td>17.0</td>\n",
       "      <td>No</td>\n",
       "      <td>Modified</td>\n",
       "    </tr>\n",
       "    <tr>\n",
       "      <th>4</th>\n",
       "      <td>660681</td>\n",
       "      <td>Landing Page Submission</td>\n",
       "      <td>Google</td>\n",
       "      <td>No</td>\n",
       "      <td>No</td>\n",
       "      <td>1</td>\n",
       "      <td>2.0</td>\n",
       "      <td>1428</td>\n",
       "      <td>1.0</td>\n",
       "      <td>Converted to Lead</td>\n",
       "      <td>...</td>\n",
       "      <td>Will revert after reading the email</td>\n",
       "      <td>Might be</td>\n",
       "      <td>Select</td>\n",
       "      <td>Mumbai</td>\n",
       "      <td>02.Medium</td>\n",
       "      <td>01.High</td>\n",
       "      <td>15.0</td>\n",
       "      <td>18.0</td>\n",
       "      <td>No</td>\n",
       "      <td>Modified</td>\n",
       "    </tr>\n",
       "  </tbody>\n",
       "</table>\n",
       "<p>5 rows × 31 columns</p>\n",
       "</div>"
      ],
      "text/plain": [
       "   Lead Number              Lead Origin     Lead Source Do Not Email  \\\n",
       "0       660737                      API      Olark Chat           No   \n",
       "1       660728                      API  Organic Search           No   \n",
       "2       660727  Landing Page Submission  Direct Traffic           No   \n",
       "3       660719  Landing Page Submission  Direct Traffic           No   \n",
       "4       660681  Landing Page Submission          Google           No   \n",
       "\n",
       "  Do Not Call  Converted  TotalVisits  Total Time Spent on Website  \\\n",
       "0          No          0          0.0                            0   \n",
       "1          No          0          5.0                          674   \n",
       "2          No          1          2.0                         1532   \n",
       "3          No          0          1.0                          305   \n",
       "4          No          1          2.0                         1428   \n",
       "\n",
       "   Page Views Per Visit            Last Activity  ...  \\\n",
       "0                   0.0  Page Visited on Website  ...   \n",
       "1                   2.5             Email Opened  ...   \n",
       "2                   2.0             Email Opened  ...   \n",
       "3                   1.0              Unreachable  ...   \n",
       "4                   1.0        Converted to Lead  ...   \n",
       "\n",
       "                                  Tags      Lead Quality    Lead Profile  \\\n",
       "0          Interested in other courses  Low in Relevance          Select   \n",
       "1                              Ringing               NaN          Select   \n",
       "2  Will revert after reading the email          Might be  Potential Lead   \n",
       "3                              Ringing          Not Sure          Select   \n",
       "4  Will revert after reading the email          Might be          Select   \n",
       "\n",
       "     City Asymmetrique Activity Index Asymmetrique Profile Index  \\\n",
       "0  Select                   02.Medium                  02.Medium   \n",
       "1  Select                   02.Medium                  02.Medium   \n",
       "2  Mumbai                   02.Medium                    01.High   \n",
       "3  Mumbai                   02.Medium                    01.High   \n",
       "4  Mumbai                   02.Medium                    01.High   \n",
       "\n",
       "  Asymmetrique Activity Score Asymmetrique Profile Score  \\\n",
       "0                        15.0                       15.0   \n",
       "1                        15.0                       15.0   \n",
       "2                        14.0                       20.0   \n",
       "3                        13.0                       17.0   \n",
       "4                        15.0                       18.0   \n",
       "\n",
       "  A free copy of Mastering The Interview Last Notable Activity  \n",
       "0                                     No              Modified  \n",
       "1                                     No          Email Opened  \n",
       "2                                    Yes          Email Opened  \n",
       "3                                     No              Modified  \n",
       "4                                     No              Modified  \n",
       "\n",
       "[5 rows x 31 columns]"
      ]
     },
     "execution_count": 172,
     "metadata": {},
     "output_type": "execute_result"
    }
   ],
   "source": [
    "#The columns which have only 1 unique values for all the leads can be dropped\n",
    "columns = []\n",
    "for i in df_lead.columns:\n",
    "    if df_lead[i].nunique() ==1:\n",
    "        columns.append(i)\n",
    "df_lead.drop(columns, axis =1,inplace = True)\n",
    "df_lead.head()"
   ]
  },
  {
   "cell_type": "code",
   "execution_count": 173,
   "id": "e53c5f86",
   "metadata": {},
   "outputs": [
    {
     "data": {
      "image/png": "[encoded data removed]",
      "text/plain": [
       "<Figure size 720x360 with 1 Axes>"
      ]
     },
     "metadata": {
      "needs_background": "light"
     },
     "output_type": "display_data"
    }
   ],
   "source": [
    "#Using count plot to understand the relationship between the score and index assigned to each user based on their activity \n",
    "plt.figure(figsize = (10,5))\n",
    "plt.title(\"Activity Score vs Activity Index\")\n",
    "sns.countplot(x = 'Asymmetrique Activity Score', hue ='Asymmetrique Activity Index',data = df_lead)\n",
    "plt.show()"
   ]
  },
  {
   "cell_type": "markdown",
   "id": "cef194c7",
   "metadata": {},
   "source": [
    "#### Inferences from the above count plot\n",
    "    - Leads with Activity Score 7-12 have Low Activity Index.\n",
    "    - Leads with Activity Score 13-15 have Medium Activity Index.\n",
    "    - Leads with Activity Score 16-18 have High Activity Index."
   ]
  },
  {
   "cell_type": "code",
   "execution_count": 174,
   "id": "6344df75",
   "metadata": {},
   "outputs": [
    {
     "data": {
      "image/png": "[encoded data removed]",
      "text/plain": [
       "<Figure size 720x360 with 1 Axes>"
      ]
     },
     "metadata": {
      "needs_background": "light"
     },
     "output_type": "display_data"
    }
   ],
   "source": [
    "#Using count plot to understand the relationship between the score and index assigned to each user based on their profile\n",
    "plt.figure(figsize = (10,5))\n",
    "plt.title(\"Profile Score vs Profile Index\")\n",
    "sns.countplot(x = 'Asymmetrique Profile Score', hue ='Asymmetrique Profile Index',data = df_lead)\n",
    "plt.show()"
   ]
  },
  {
   "cell_type": "markdown",
   "id": "853c7562",
   "metadata": {},
   "source": [
    "#### Inferences from the above count plot\n",
    "    - Leads with Profile Score 11,12 have Low Profile Index.\n",
    "    - Leads with Profile Score 13-16 have Medium Profile Index.\n",
    "    - Leads with Profile Score 17-20 have High Profile Index."
   ]
  },
  {
   "cell_type": "markdown",
   "id": "aa0475b1",
   "metadata": {},
   "source": [
    "#### From the above two plots, we can observe that the column 'Asymmetrique Activity Score' is very well explained by the column 'Asymmetrique Activity Index' and 'Asymmetrique Profile Score' by 'Asymmetrique Profile Index'\n",
    "\n",
    "#### Hence, 'Asymmetrique Activity Score'  and 'Asymmetrique Profile Score' can be dropped"
   ]
  },
  {
   "cell_type": "code",
   "execution_count": 175,
   "id": "ca590bdd",
   "metadata": {},
   "outputs": [
    {
     "data": {
      "text/plain": [
       "(9240, 29)"
      ]
     },
     "execution_count": 175,
     "metadata": {},
     "output_type": "execute_result"
    }
   ],
   "source": [
    "#Dropping the columns 'Asymmetrique Profile Score' & 'Asymmetrique Activity Score'.\n",
    "df_lead.drop(['Asymmetrique Profile Score','Asymmetrique Activity Score'], axis = 1, inplace = True)\n",
    "df_lead.shape"
   ]
  },
  {
   "cell_type": "markdown",
   "id": "dcd844b6",
   "metadata": {},
   "source": [
    "#### 2) Dealing with uncertain values of the Leads\n",
    "\n",
    "The dataset has many columns with values as 'Select'. This is because customer did not select any option from the list. It might be left unselected due to the below reasons:\n",
    " - Mistake in data entry. In this case, it is preferred to impute NaN as imputing with any other values might affect the analysis\n",
    " - The user didn't find any relevant option in the given list of options. In this case, it is preferred to impute 'Select' with 'Other'"
   ]
  },
  {
   "cell_type": "code",
   "execution_count": 176,
   "id": "bb2ac753",
   "metadata": {},
   "outputs": [
    {
     "data": {
      "text/plain": [
       "Index(['Specialization', 'How did you hear about X Education', 'Lead Profile',\n",
       "       'City'],\n",
       "      dtype='object')"
      ]
     },
     "execution_count": 176,
     "metadata": {},
     "output_type": "execute_result"
    }
   ],
   "source": [
    "#Finding the columns which have 'Select' values\n",
    "df_lead.columns[df_lead.isin(['Select']).any()]"
   ]
  },
  {
   "cell_type": "code",
   "execution_count": 177,
   "id": "5649bf43",
   "metadata": {},
   "outputs": [
    {
     "data": {
      "text/plain": [
       "Select                               1942\n",
       "Finance Management                    976\n",
       "Human Resource Management             848\n",
       "Marketing Management                  838\n",
       "Operations Management                 503\n",
       "Business Administration               403\n",
       "IT Projects Management                366\n",
       "Supply Chain Management               349\n",
       "Banking, Investment And Insurance     338\n",
       "Travel and Tourism                    203\n",
       "Media and Advertising                 203\n",
       "International Business                178\n",
       "Healthcare Management                 159\n",
       "Hospitality Management                114\n",
       "E-COMMERCE                            112\n",
       "Retail Management                     100\n",
       "Rural and Agribusiness                 73\n",
       "E-Business                             57\n",
       "Services Excellence                    40\n",
       "Name: Specialization, dtype: int64"
      ]
     },
     "execution_count": 177,
     "metadata": {},
     "output_type": "execute_result"
    }
   ],
   "source": [
    "# Handling Specialization column\n",
    "df_lead['Specialization'].value_counts()"
   ]
  },
  {
   "cell_type": "code",
   "execution_count": 178,
   "id": "8838dbb3",
   "metadata": {},
   "outputs": [],
   "source": [
    "#Select category has the maximum counts than other specializations\n",
    "#Imputing with NaN value as imputing with some other value might affect the analysis\n",
    "df_lead['Specialization'] = df_lead['Specialization'].replace('Select', np.nan)"
   ]
  },
  {
   "cell_type": "code",
   "execution_count": 179,
   "id": "ca5b8763",
   "metadata": {},
   "outputs": [
    {
     "data": {
      "text/plain": [
       "Select                   5043\n",
       "Online Search             808\n",
       "Word Of Mouth             348\n",
       "Student of SomeSchool     310\n",
       "Other                     186\n",
       "Multiple Sources          152\n",
       "Advertisements             70\n",
       "Social Media               67\n",
       "Email                      26\n",
       "SMS                        23\n",
       "Name: How did you hear about X Education, dtype: int64"
      ]
     },
     "execution_count": 179,
     "metadata": {},
     "output_type": "execute_result"
    }
   ],
   "source": [
    "# Handling `How did you hear about X Education` column\n",
    "df_lead['How did you hear about X Education'].value_counts()"
   ]
  },
  {
   "cell_type": "code",
   "execution_count": 180,
   "id": "16283d09",
   "metadata": {},
   "outputs": [],
   "source": [
    "#Select category has the maximum counts in this column as well\n",
    "#Imputing with NaN value as imputing with some other value might affect the analysis\n",
    "df_lead['How did you hear about X Education'] = df_lead['How did you hear about X Education'].replace('Select',np.nan)"
   ]
  },
  {
   "cell_type": "code",
   "execution_count": 181,
   "id": "3970bb8b",
   "metadata": {},
   "outputs": [
    {
     "data": {
      "text/plain": [
       "Select                         4146\n",
       "Potential Lead                 1613\n",
       "Other Leads                     487\n",
       "Student of SomeSchool           241\n",
       "Lateral Student                  24\n",
       "Dual Specialization Student      20\n",
       "Name: Lead Profile, dtype: int64"
      ]
     },
     "execution_count": 181,
     "metadata": {},
     "output_type": "execute_result"
    }
   ],
   "source": [
    "# Handling `Lead Profile` column\n",
    "df_lead['Lead Profile'].value_counts()"
   ]
  },
  {
   "cell_type": "code",
   "execution_count": 182,
   "id": "7bc1f8e1",
   "metadata": {},
   "outputs": [],
   "source": [
    "#Select category has the maximum counts in this column as well\n",
    "#Imputing with NaN value as imputing with some other value might affect the analysis\n",
    "df_lead['Lead Profile'] = df_lead['Lead Profile'].replace('Select',np.nan)"
   ]
  },
  {
   "cell_type": "code",
   "execution_count": 183,
   "id": "8442d77e",
   "metadata": {},
   "outputs": [
    {
     "data": {
      "text/plain": [
       "Mumbai                         3222\n",
       "Select                         2249\n",
       "Thane & Outskirts               752\n",
       "Other Cities                    686\n",
       "Other Cities of Maharashtra     457\n",
       "Other Metro Cities              380\n",
       "Tier II Cities                   74\n",
       "Name: City, dtype: int64"
      ]
     },
     "execution_count": 183,
     "metadata": {},
     "output_type": "execute_result"
    }
   ],
   "source": [
    "# Handling `City` column\n",
    "df_lead['City'].value_counts()"
   ]
  },
  {
   "cell_type": "code",
   "execution_count": 184,
   "id": "4835af9b",
   "metadata": {},
   "outputs": [],
   "source": [
    "#Select category has the maximum counts in this column as well\n",
    "#Imputing with NaN value as imputing with some other value might affect the analysis\n",
    "df_lead['City'] = df_lead['City'].replace('Select',np.nan)"
   ]
  },
  {
   "cell_type": "markdown",
   "id": "7737586c",
   "metadata": {},
   "source": [
    "#### 3) Handling Missing values"
   ]
  },
  {
   "cell_type": "code",
   "execution_count": 185,
   "id": "b789b1ca",
   "metadata": {},
   "outputs": [
    {
     "data": {
      "text/plain": [
       "How did you hear about X Education               78.46\n",
       "Lead Profile                                     74.19\n",
       "Lead Quality                                     51.59\n",
       "Asymmetrique Profile Index                       45.65\n",
       "Asymmetrique Activity Index                      45.65\n",
       "City                                             39.71\n",
       "Specialization                                   36.58\n",
       "Tags                                             36.29\n",
       "What matters most to you in choosing a course    29.32\n",
       "What is your current occupation                  29.11\n",
       "Country                                          26.63\n",
       "TotalVisits                                       1.48\n",
       "Page Views Per Visit                              1.48\n",
       "Last Activity                                     1.11\n",
       "Lead Source                                       0.39\n",
       "Total Time Spent on Website                       0.00\n",
       "Converted                                         0.00\n",
       "Do Not Call                                       0.00\n",
       "Lead Origin                                       0.00\n",
       "Do Not Email                                      0.00\n",
       "Last Notable Activity                             0.00\n",
       "A free copy of Mastering The Interview            0.00\n",
       "Search                                            0.00\n",
       "Newspaper Article                                 0.00\n",
       "X Education Forums                                0.00\n",
       "Newspaper                                         0.00\n",
       "Digital Advertisement                             0.00\n",
       "Through Recommendations                           0.00\n",
       "Lead Number                                       0.00\n",
       "dtype: float64"
      ]
     },
     "execution_count": 185,
     "metadata": {},
     "output_type": "execute_result"
    }
   ],
   "source": [
    "#checking the percentage of missng values in columns\n",
    "round((df_lead.isnull().sum()/len(df_lead.index) *100),2).sort_values(ascending = False)"
   ]
  },
  {
   "cell_type": "code",
   "execution_count": 186,
   "id": "2b22b420",
   "metadata": {},
   "outputs": [],
   "source": [
    "#Dropping the columns which have missing values more than 40% \n",
    "df_lead.drop(df_lead.loc[:,list(round((df_lead.isnull().sum()/len(df_lead.index)*100),2)>40)].columns,axis =1, inplace = True)"
   ]
  },
  {
   "cell_type": "code",
   "execution_count": 187,
   "id": "362b8cbd",
   "metadata": {},
   "outputs": [
    {
     "data": {
      "text/plain": [
       "City                                             39.71\n",
       "Specialization                                   36.58\n",
       "Tags                                             36.29\n",
       "What matters most to you in choosing a course    29.32\n",
       "What is your current occupation                  29.11\n",
       "Country                                          26.63\n",
       "Page Views Per Visit                              1.48\n",
       "TotalVisits                                       1.48\n",
       "Last Activity                                     1.11\n",
       "Lead Source                                       0.39\n",
       "Lead Origin                                       0.00\n",
       "Do Not Email                                      0.00\n",
       "Do Not Call                                       0.00\n",
       "Converted                                         0.00\n",
       "Total Time Spent on Website                       0.00\n",
       "Last Notable Activity                             0.00\n",
       "A free copy of Mastering The Interview            0.00\n",
       "Search                                            0.00\n",
       "Newspaper Article                                 0.00\n",
       "X Education Forums                                0.00\n",
       "Newspaper                                         0.00\n",
       "Digital Advertisement                             0.00\n",
       "Through Recommendations                           0.00\n",
       "Lead Number                                       0.00\n",
       "dtype: float64"
      ]
     },
     "execution_count": 187,
     "metadata": {},
     "output_type": "execute_result"
    }
   ],
   "source": [
    "#checking the percentage of missng values in columns again\n",
    "round((df_lead.isnull().sum()/len(df_lead.index) *100),2).sort_values(ascending = False)"
   ]
  },
  {
   "cell_type": "markdown",
   "id": "1f73325b",
   "metadata": {},
   "source": [
    "#### Imputing the missing values of the columns 'City', 'What matters most to you in choosing a course', 'What is your current occupation', 'Country with mode'"
   ]
  },
  {
   "cell_type": "code",
   "execution_count": 188,
   "id": "39e9b34d",
   "metadata": {},
   "outputs": [],
   "source": [
    "df_lead['City'].fillna(df_lead.City.mode()[0],inplace = True)\n",
    "df_lead['What matters most to you in choosing a course'].fillna(df_lead['What matters most to you in choosing a course'].mode()[0],inplace = True)\n",
    "df_lead['What is your current occupation'].fillna(df_lead['What is your current occupation'].mode()[0],inplace = True)\n",
    "df_lead['Country'].fillna(df_lead.Country.mode()[0],inplace = True)"
   ]
  },
  {
   "cell_type": "code",
   "execution_count": 189,
   "id": "b1291962",
   "metadata": {},
   "outputs": [
    {
     "data": {
      "text/plain": [
       "NaN                                  3380\n",
       "Finance Management                    976\n",
       "Human Resource Management             848\n",
       "Marketing Management                  838\n",
       "Operations Management                 503\n",
       "Business Administration               403\n",
       "IT Projects Management                366\n",
       "Supply Chain Management               349\n",
       "Banking, Investment And Insurance     338\n",
       "Travel and Tourism                    203\n",
       "Media and Advertising                 203\n",
       "International Business                178\n",
       "Healthcare Management                 159\n",
       "Hospitality Management                114\n",
       "E-COMMERCE                            112\n",
       "Retail Management                     100\n",
       "Rural and Agribusiness                 73\n",
       "E-Business                             57\n",
       "Services Excellence                    40\n",
       "Name: Specialization, dtype: int64"
      ]
     },
     "execution_count": 189,
     "metadata": {},
     "output_type": "execute_result"
    }
   ],
   "source": [
    "df_lead['Specialization'].value_counts(dropna = False)"
   ]
  },
  {
   "cell_type": "markdown",
   "id": "ccf9b6ed",
   "metadata": {},
   "source": [
    "#### Grouping similar specialisations into a category to gain more meaningful insights."
   ]
  },
  {
   "cell_type": "code",
   "execution_count": 190,
   "id": "1d3cc052",
   "metadata": {},
   "outputs": [],
   "source": [
    "# Grouping all the management specialisations into 'Management'\n",
    "manage_cols = ['Finance Management','Human Resource Management','Marketing Management','Operations Management','IT Projects Management','Supply Chain Management','Healthcare Management','Hospitality Management','Retail Management']\n",
    "df_lead['Specialization'] = df_lead['Specialization'].replace(manage_cols,'Management')\n",
    "\n",
    "# Grouping all the E-Commerce specialisations into 'E-Business'\n",
    "df_lead['Specialization'] = df_lead['Specialization'].replace('E-COMMERCE','E-Business')"
   ]
  },
  {
   "cell_type": "code",
   "execution_count": 191,
   "id": "21895138",
   "metadata": {},
   "outputs": [
    {
     "data": {
      "text/plain": [
       "Management                           4253\n",
       "NaN                                  3380\n",
       "Business Administration               403\n",
       "Banking, Investment And Insurance     338\n",
       "Travel and Tourism                    203\n",
       "Media and Advertising                 203\n",
       "International Business                178\n",
       "E-Business                            169\n",
       "Rural and Agribusiness                 73\n",
       "Services Excellence                    40\n",
       "Name: Specialization, dtype: int64"
      ]
     },
     "execution_count": 191,
     "metadata": {},
     "output_type": "execute_result"
    }
   ],
   "source": [
    "#Checking the unique values\n",
    "df_lead['Specialization'].value_counts(dropna=False)"
   ]
  },
  {
   "cell_type": "code",
   "execution_count": 192,
   "id": "144a8d84",
   "metadata": {},
   "outputs": [],
   "source": [
    "#Imputing NaN values with 'Other' as imputing with mode will affect the analysis\n",
    "df_lead['Specialization'] = df_lead['Specialization'].replace(np.nan,'Others')"
   ]
  },
  {
   "cell_type": "code",
   "execution_count": 193,
   "id": "fcab9d93",
   "metadata": {},
   "outputs": [
    {
     "data": {
      "text/plain": [
       "NaN                                                  3353\n",
       "Will revert after reading the email                  2072\n",
       "Ringing                                              1203\n",
       "Interested in other courses                           513\n",
       "Already a student                                     465\n",
       "Closed by Horizzon                                    358\n",
       "switched off                                          240\n",
       "Busy                                                  186\n",
       "Lost to EINS                                          175\n",
       "Not doing further education                           145\n",
       "Interested  in full time MBA                          117\n",
       "Graduation in progress                                111\n",
       "invalid number                                         83\n",
       "Diploma holder (Not Eligible)                          63\n",
       "wrong number given                                     47\n",
       "opp hangup                                             33\n",
       "number not provided                                    27\n",
       "in touch with EINS                                     12\n",
       "Lost to Others                                          7\n",
       "Want to take admission but has financial problems       6\n",
       "Still Thinking                                          6\n",
       "In confusion whether part time or DLP                   5\n",
       "Interested in Next batch                                5\n",
       "Lateral student                                         3\n",
       "Shall take in the next coming month                     2\n",
       "University not recognized                               2\n",
       "Recognition issue (DEC approval)                        1\n",
       "Name: Tags, dtype: int64"
      ]
     },
     "execution_count": 193,
     "metadata": {},
     "output_type": "execute_result"
    }
   ],
   "source": [
    "#Checking the unique values in Tags column\n",
    "df_lead['Tags'].value_counts(dropna = False)"
   ]
  },
  {
   "cell_type": "markdown",
   "id": "40b71892",
   "metadata": {},
   "source": [
    "#### Grouping similar Tags into a category to gain more meaningful insights."
   ]
  },
  {
   "cell_type": "code",
   "execution_count": 194,
   "id": "ee02ff2d",
   "metadata": {},
   "outputs": [],
   "source": [
    "# Grouping similar tags intp one category \n",
    "df_lead['Tags'] = df_lead['Tags'].replace(['Ringing','switched off','Busy','opp hangup'],'Try Calling again')\n",
    "df_lead['Tags'] = df_lead['Tags'].replace(['Lost to EINS','Lost to Others'],'Lost')\n",
    "df_lead['Tags'] = df_lead['Tags'].replace(['Not doing further education','Diploma holder (Not Eligible)'],'Not Eligible/Not Interested')\n",
    "df_lead['Tags'] = df_lead['Tags'].replace(['invalid number','wrong number given','number not provided'],'No Phone Number')"
   ]
  },
  {
   "cell_type": "code",
   "execution_count": 195,
   "id": "82c19c35",
   "metadata": {},
   "outputs": [],
   "source": [
    "#Imputing NaN values with 'Other' as imputing with mode will affect the analysis\n",
    "df_lead['Tags'] = df_lead['Tags'].replace(np.nan,'Others')"
   ]
  },
  {
   "cell_type": "code",
   "execution_count": 196,
   "id": "55498092",
   "metadata": {},
   "outputs": [
    {
     "data": {
      "text/plain": [
       "TotalVisits                                      1.48\n",
       "Page Views Per Visit                             1.48\n",
       "Last Activity                                    1.11\n",
       "Lead Source                                      0.39\n",
       "Last Notable Activity                            0.00\n",
       "A free copy of Mastering The Interview           0.00\n",
       "Lead Origin                                      0.00\n",
       "Do Not Email                                     0.00\n",
       "Do Not Call                                      0.00\n",
       "Converted                                        0.00\n",
       "Total Time Spent on Website                      0.00\n",
       "Country                                          0.00\n",
       "Specialization                                   0.00\n",
       "What is your current occupation                  0.00\n",
       "What matters most to you in choosing a course    0.00\n",
       "Search                                           0.00\n",
       "Newspaper Article                                0.00\n",
       "X Education Forums                               0.00\n",
       "Newspaper                                        0.00\n",
       "Digital Advertisement                            0.00\n",
       "Through Recommendations                          0.00\n",
       "Tags                                             0.00\n",
       "City                                             0.00\n",
       "Lead Number                                      0.00\n",
       "dtype: float64"
      ]
     },
     "execution_count": 196,
     "metadata": {},
     "output_type": "execute_result"
    }
   ],
   "source": [
    "#checking the percentage of missng values in columns again\n",
    "round((df_lead.isnull().sum()/len(df_lead.index) *100),2).sort_values(ascending = False)"
   ]
  },
  {
   "cell_type": "code",
   "execution_count": 197,
   "id": "4164a2a5",
   "metadata": {},
   "outputs": [
    {
     "data": {
      "text/plain": [
       "Google               2868\n",
       "Direct Traffic       2543\n",
       "Olark Chat           1755\n",
       "Organic Search       1154\n",
       "Reference             534\n",
       "Welingak Website      142\n",
       "Referral Sites        125\n",
       "Facebook               55\n",
       "NaN                    36\n",
       "bing                    6\n",
       "google                  5\n",
       "Click2call              4\n",
       "Press_Release           2\n",
       "Live Chat               2\n",
       "Social Media            2\n",
       "Pay per Click Ads       1\n",
       "youtubechannel          1\n",
       "testone                 1\n",
       "welearnblog_Home        1\n",
       "blog                    1\n",
       "WeLearn                 1\n",
       "NC_EDM                  1\n",
       "Name: Lead Source, dtype: int64"
      ]
     },
     "execution_count": 197,
     "metadata": {},
     "output_type": "execute_result"
    }
   ],
   "source": [
    "#Checking Lead Source column\n",
    "df_lead['Lead Source'].value_counts(dropna = False)"
   ]
  },
  {
   "cell_type": "code",
   "execution_count": 198,
   "id": "90d8dfeb",
   "metadata": {},
   "outputs": [],
   "source": [
    "#Grouping similar categories to avoid confusion\n",
    "df_lead['Lead Source'] = df_lead['Lead Source'].replace('google','Google')\n",
    "df_lead['Lead Source'] = df_lead['Lead Source'].replace('Facebook','Social Media')"
   ]
  },
  {
   "cell_type": "code",
   "execution_count": 199,
   "id": "c8e3cb10",
   "metadata": {},
   "outputs": [],
   "source": [
    "#Combining sources that have less value counts to simplify our analysis.\n",
    "less = ['bing','Click2call','Live Chat','Press_Release','welearnblog_Home','blog','testone','NC_EDM','youtubechannel','Pay per Click Ads','WeLearn']\n",
    "df_lead['Lead Source'] = df_lead['Lead Source'].replace(less,'Others')"
   ]
  },
  {
   "cell_type": "code",
   "execution_count": 200,
   "id": "848261d8",
   "metadata": {},
   "outputs": [],
   "source": [
    "#Imputing NaN values with 'Other'\n",
    "df_lead['Lead Source'] = df_lead['Lead Source'].replace(np.nan,'Others')"
   ]
  },
  {
   "cell_type": "code",
   "execution_count": 201,
   "id": "7daf0632",
   "metadata": {},
   "outputs": [
    {
     "data": {
      "text/plain": [
       "Email Opened                    3437\n",
       "SMS Sent                        2745\n",
       "Olark Chat Conversation          973\n",
       "Page Visited on Website          640\n",
       "Converted to Lead                428\n",
       "Email Bounced                    326\n",
       "Email Link Clicked               267\n",
       "Form Submitted on Website        116\n",
       "NaN                              103\n",
       "Unreachable                       93\n",
       "Unsubscribed                      61\n",
       "Had a Phone Conversation          30\n",
       "Approached upfront                 9\n",
       "View in browser link Clicked       6\n",
       "Email Received                     2\n",
       "Email Marked Spam                  2\n",
       "Resubscribed to emails             1\n",
       "Visited Booth in Tradeshow         1\n",
       "Name: Last Activity, dtype: int64"
      ]
     },
     "execution_count": 201,
     "metadata": {},
     "output_type": "execute_result"
    }
   ],
   "source": [
    "#Checking the 'Last Activity' column\n",
    "df_lead['Last Activity'].value_counts(dropna = False)"
   ]
  },
  {
   "cell_type": "code",
   "execution_count": 202,
   "id": "e740f65d",
   "metadata": {},
   "outputs": [],
   "source": [
    "#Imputing NaN values with 'Other'\n",
    "df_lead['Last Activity'] = df_lead['Last Activity'].replace(np.nan,'Others')"
   ]
  },
  {
   "cell_type": "code",
   "execution_count": 203,
   "id": "ae391036",
   "metadata": {},
   "outputs": [],
   "source": [
    "#Combining categories that have less value counts to simplify our analysis.\n",
    "cols =['Had a Phone Conversation','Approached upfront','View in browser link Clicked','Email Marked Spam','Email Received','Resubscribed to emails','Visited Booth in Tradeshow','Unreachable','Unsubscribed']\n",
    "df_lead['Last Activity'] = df_lead['Last Activity'].replace(cols,'others')"
   ]
  },
  {
   "cell_type": "code",
   "execution_count": 204,
   "id": "534c4deb",
   "metadata": {},
   "outputs": [],
   "source": [
    "#Dropping the rows that have very less missing values\n",
    "df_lead.dropna(inplace = True)"
   ]
  },
  {
   "cell_type": "code",
   "execution_count": 205,
   "id": "00fc1c8c",
   "metadata": {},
   "outputs": [
    {
     "data": {
      "text/plain": [
       "Lead Number                                      0.0\n",
       "Lead Origin                                      0.0\n",
       "Lead Source                                      0.0\n",
       "Do Not Email                                     0.0\n",
       "Do Not Call                                      0.0\n",
       "Converted                                        0.0\n",
       "TotalVisits                                      0.0\n",
       "Total Time Spent on Website                      0.0\n",
       "Page Views Per Visit                             0.0\n",
       "Last Activity                                    0.0\n",
       "Country                                          0.0\n",
       "Specialization                                   0.0\n",
       "What is your current occupation                  0.0\n",
       "What matters most to you in choosing a course    0.0\n",
       "Search                                           0.0\n",
       "Newspaper Article                                0.0\n",
       "X Education Forums                               0.0\n",
       "Newspaper                                        0.0\n",
       "Digital Advertisement                            0.0\n",
       "Through Recommendations                          0.0\n",
       "Tags                                             0.0\n",
       "City                                             0.0\n",
       "A free copy of Mastering The Interview           0.0\n",
       "Last Notable Activity                            0.0\n",
       "dtype: float64"
      ]
     },
     "execution_count": 205,
     "metadata": {},
     "output_type": "execute_result"
    }
   ],
   "source": [
    "#Checking the percentage of missing values \n",
    "round((df_lead.isnull().sum()/len(df_lead.index) *100),2)"
   ]
  },
  {
   "cell_type": "markdown",
   "id": "91c3721c",
   "metadata": {},
   "source": [
    "#### Handling duplicates"
   ]
  },
  {
   "cell_type": "code",
   "execution_count": 206,
   "id": "9932c6a2",
   "metadata": {},
   "outputs": [
    {
     "data": {
      "text/plain": [
       "(9103, 24)"
      ]
     },
     "execution_count": 206,
     "metadata": {},
     "output_type": "execute_result"
    }
   ],
   "source": [
    "#Checking and dropping the duplicates\n",
    "df_lead.drop_duplicates(subset=None, inplace=True)\n",
    "df_lead.shape"
   ]
  },
  {
   "cell_type": "markdown",
   "id": "9d5c3ce3",
   "metadata": {},
   "source": [
    "#### Checking null values in rows"
   ]
  },
  {
   "cell_type": "code",
   "execution_count": 207,
   "id": "41dc7dff",
   "metadata": {},
   "outputs": [
    {
     "data": {
      "text/plain": [
       "9239    0\n",
       "3106    0\n",
       "3112    0\n",
       "3111    0\n",
       "3110    0\n",
       "3109    0\n",
       "3108    0\n",
       "3107    0\n",
       "3105    0\n",
       "3114    0\n",
       "3104    0\n",
       "3103    0\n",
       "3102    0\n",
       "3101    0\n",
       "3100    0\n",
       "3099    0\n",
       "3113    0\n",
       "3115    0\n",
       "3097    0\n",
       "3124    0\n",
       "3130    0\n",
       "3129    0\n",
       "3128    0\n",
       "3127    0\n",
       "3126    0\n",
       "3125    0\n",
       "3123    0\n",
       "3116    0\n",
       "3122    0\n",
       "3121    0\n",
       "       ..\n",
       "6161    0\n",
       "6160    0\n",
       "6159    0\n",
       "6158    0\n",
       "6156    0\n",
       "6181    0\n",
       "6155    0\n",
       "6153    0\n",
       "6152    0\n",
       "6151    0\n",
       "6150    0\n",
       "6149    0\n",
       "6164    0\n",
       "6165    0\n",
       "6166    0\n",
       "6167    0\n",
       "6168    0\n",
       "6169    0\n",
       "6170    0\n",
       "6171    0\n",
       "6172    0\n",
       "6173    0\n",
       "6174    0\n",
       "6175    0\n",
       "6176    0\n",
       "6177    0\n",
       "6178    0\n",
       "6179    0\n",
       "6180    0\n",
       "0       0\n",
       "Length: 9103, dtype: int64"
      ]
     },
     "execution_count": 207,
     "metadata": {},
     "output_type": "execute_result"
    }
   ],
   "source": [
    "#null values in rows\n",
    "df_lead.isnull().sum(axis=1).sort_values(ascending=False)"
   ]
  },
  {
   "cell_type": "code",
   "execution_count": 208,
   "id": "dd1396e3",
   "metadata": {},
   "outputs": [],
   "source": [
    "#Combining all the categories of Last Notable Activity which have less count\n",
    "\n",
    "lowCount_cols = ['Email Bounced','Unsubscribed','Unreachable','Had a Phone Conversation','Email Marked Spam','Form Submitted on Website',\n",
    "'Resubscribed to emails','Approached upfront','Email Received','View in browser link Clicked']\n",
    "\n",
    "df_lead['Last Notable Activity'] = df_lead['Last Notable Activity'].replace(lowCount_cols,'Other')"
   ]
  },
  {
   "cell_type": "code",
   "execution_count": 209,
   "id": "03504ac2",
   "metadata": {},
   "outputs": [],
   "source": [
    "#Changing the data type of 'TotalVisits'\n",
    "df_lead['TotalVisits'] = df_lead['TotalVisits'].astype('int64')"
   ]
  },
  {
   "cell_type": "markdown",
   "id": "378c5ca3",
   "metadata": {},
   "source": [
    "### Step 3 :  Exploratory Data Analysis & Outlier treatment"
   ]
  },
  {
   "cell_type": "markdown",
   "id": "9e5cc44c",
   "metadata": {},
   "source": [
    "#### Finding the data imbalance"
   ]
  },
  {
   "cell_type": "code",
   "execution_count": 210,
   "id": "2fc86901",
   "metadata": {},
   "outputs": [
    {
     "data": {
      "text/plain": [
       "38.02"
      ]
     },
     "execution_count": 210,
     "metadata": {},
     "output_type": "execute_result"
    }
   ],
   "source": [
    "#Checking Data imbalance \n",
    "round(((sum(df_lead['Converted'])/len(df_lead.index))*100),2)"
   ]
  },
  {
   "cell_type": "markdown",
   "id": "0a75b4db",
   "metadata": {},
   "source": [
    "#### Clearly, there's imbalance in the data. Only 38% of the leads are converted and the remaining 62% are not converted."
   ]
  },
  {
   "cell_type": "markdown",
   "id": "f1e0bfe9",
   "metadata": {},
   "source": [
    "#### Visualizing numerical columns - Univariate Analysis"
   ]
  },
  {
   "cell_type": "code",
   "execution_count": 211,
   "id": "402f278c",
   "metadata": {},
   "outputs": [
    {
     "data": {
      "image/png": "[encoded data removed]",
      "text/plain": [
       "<Figure size 720x720 with 3 Axes>"
      ]
     },
     "metadata": {
      "needs_background": "light"
     },
     "output_type": "display_data"
    }
   ],
   "source": [
    "plt.figure(figsize=(10, 10))\n",
    "plt.subplot(2,2,1)\n",
    "plt.title(\"TotalVisits\")\n",
    "sns.boxplot(x = 'TotalVisits', data = df_lead)\n",
    "\n",
    "plt.subplot(2,2,2)\n",
    "plt.title(\"Total Time Spent on Website\")\n",
    "sns.boxplot(x = 'Total Time Spent on Website', data = df_lead)\n",
    "\n",
    "plt.subplot(2,2,3)\n",
    "plt.title(\"Page Views Per Visit\")\n",
    "sns.boxplot(x = 'Page Views Per Visit', data = df_lead)\n",
    "\n",
    "plt.show()"
   ]
  },
  {
   "cell_type": "markdown",
   "id": "c3b690ce",
   "metadata": {},
   "source": [
    "#### From the above boxplots we can observe that there are outliers in the columns 'TotalVisits' and 'Page Views Per Visit'"
   ]
  },
  {
   "cell_type": "markdown",
   "id": "2366b55a",
   "metadata": {},
   "source": [
    "#### Handling Outliers"
   ]
  },
  {
   "cell_type": "code",
   "execution_count": 212,
   "id": "3395a82f",
   "metadata": {},
   "outputs": [],
   "source": [
    "#Removing outliers using IQR\n",
    "\n",
    "Q1 = df_lead['Page Views Per Visit'].quantile(0.01)\n",
    "Q3 = df_lead['Page Views Per Visit'].quantile(0.99)\n",
    "df_lead = df_lead.loc[(df_lead['Page Views Per Visit'] >= Q1) & (df_lead['Page Views Per Visit'] <= Q3)]\n",
    "\n",
    "Q1 = df_lead['Total Time Spent on Website'].quantile(0.01)\n",
    "Q3 = df_lead['Total Time Spent on Website'].quantile(0.99)\n",
    "df_lead = df_lead.loc[(df_lead['Total Time Spent on Website'] >= Q1) & (df_lead['Total Time Spent on Website'] <= Q3)]\n",
    "\n",
    "Q1 = df_lead['TotalVisits'].quantile(0.01)\n",
    "Q3 = df_lead['TotalVisits'].quantile(0.99)\n",
    "df_lead = df_lead.loc[(df_lead['TotalVisits'] >= Q1) & (df_lead['TotalVisits'] <= Q3)]"
   ]
  },
  {
   "cell_type": "code",
   "execution_count": 213,
   "id": "ee1858f0",
   "metadata": {},
   "outputs": [
    {
     "data": {
      "image/png": "[encoded data removed]",
      "text/plain": [
       "<Figure size 720x720 with 3 Axes>"
      ]
     },
     "metadata": {
      "needs_background": "light"
     },
     "output_type": "display_data"
    }
   ],
   "source": [
    "#Plotting box plots to check outliers after outlier treatment\n",
    "\n",
    "plt.figure(figsize=(10, 10))\n",
    "plt.subplot(2,2,1)\n",
    "plt.title(\"TotalVisits\")\n",
    "sns.boxplot(x = 'TotalVisits', data = df_lead)\n",
    "\n",
    "plt.subplot(2,2,2)\n",
    "plt.title(\"Total Time Spent on Website\")\n",
    "sns.boxplot(x = 'Total Time Spent on Website', data = df_lead)\n",
    "\n",
    "plt.subplot(2,2,3)\n",
    "plt.title(\"Page Views Per Visit\")\n",
    "sns.boxplot(x = 'Page Views Per Visit', data = df_lead)\n",
    "\n",
    "plt.show()"
   ]
  },
  {
   "cell_type": "code",
   "execution_count": 214,
   "id": "32acb8a7",
   "metadata": {},
   "outputs": [
    {
     "data": {
      "image/png": "[encoded data removed]",
      "text/plain": [
       "<Figure size 432x288 with 2 Axes>"
      ]
     },
     "metadata": {
      "needs_background": "light"
     },
     "output_type": "display_data"
    }
   ],
   "source": [
    "#Checking the correlation between numerical columns\n",
    "sns.heatmap(df_lead.corr(), annot = True, cmap=\"YlGnBu\")\n",
    "plt.show()"
   ]
  },
  {
   "cell_type": "markdown",
   "id": "1b4c2649",
   "metadata": {},
   "source": [
    "#### From the above heatmap, we can observe that there is good correlation between 'TotalVisits' and 'Page Views Per Visit'. Other columns are not highly correalted "
   ]
  },
  {
   "cell_type": "markdown",
   "id": "c1337371",
   "metadata": {},
   "source": [
    "#### Visualizing categorical columns - Univariate Analysis\n",
    "\n",
    "#### Plotting count plots to understand the relationship between predictors and target more clearly and draw useful insights"
   ]
  },
  {
   "cell_type": "code",
   "execution_count": 215,
   "id": "b9bca479",
   "metadata": {},
   "outputs": [],
   "source": [
    "# Defining a custom function which plots count plots for all categorical columns with Converted as hue\n",
    "def count_plot(col):\n",
    "    plt.figure(figsize =(15,5))\n",
    "    sns.countplot(df_lead[col], hue=df_lead.Converted)    \n",
    "    plt.title(col + \" vs Converted\")\n",
    "    plt.xticks(rotation = 90)\n",
    "    plt.show()"
   ]
  },
  {
   "cell_type": "code",
   "execution_count": 216,
   "id": "93231bd8",
   "metadata": {},
   "outputs": [
    {
     "data": {
      "image/png": "[encoded data removed]",
      "text/plain": [
       "<Figure size 1080x360 with 1 Axes>"
      ]
     },
     "metadata": {
      "needs_background": "light"
     },
     "output_type": "display_data"
    },
    {
     "data": {
      "image/png": "[encoded data removed]",
      "text/plain": [
       "<Figure size 1080x360 with 1 Axes>"
      ]
     },
     "metadata": {
      "needs_background": "light"
     },
     "output_type": "display_data"
    },
    {
     "data": {
      "image/png": "[encoded data removed]",
      "text/plain": [
       "<Figure size 1080x360 with 1 Axes>"
      ]
     },
     "metadata": {
      "needs_background": "light"
     },
     "output_type": "display_data"
    },
    {
     "data": {
      "image/png": "[encoded data removed]",
      "text/plain": [
       "<Figure size 1080x360 with 1 Axes>"
      ]
     },
     "metadata": {
      "needs_background": "light"
     },
     "output_type": "display_data"
    },
    {
     "data": {
      "image/png": "[encoded data removed]",
      "text/plain": [
       "<Figure size 1080x360 with 1 Axes>"
      ]
     },
     "metadata": {
      "needs_background": "light"
     },
     "output_type": "display_data"
    },
    {
     "data": {
      "image/png": "[encoded data removed]",
      "text/plain": [
       "<Figure size 1080x360 with 1 Axes>"
      ]
     },
     "metadata": {
      "needs_background": "light"
     },
     "output_type": "display_data"
    },
    {
     "data": {
      "image/png": "[encoded data removed]",
      "text/plain": [
       "<Figure size 1080x360 with 1 Axes>"
      ]
     },
     "metadata": {
      "needs_background": "light"
     },
     "output_type": "display_data"
    },
    {
     "data": {
      "image/png": "[encoded data removed]",
      "text/plain": [
       "<Figure size 1080x360 with 1 Axes>"
      ]
     },
     "metadata": {
      "needs_background": "light"
     },
     "output_type": "display_data"
    },
    {
     "data": {
      "image/png": "[encoded data removed]",
      "text/plain": [
       "<Figure size 1080x360 with 1 Axes>"
      ]
     },
     "metadata": {
      "needs_background": "light"
     },
     "output_type": "display_data"
    },
    {
     "data": {
      "image/png": "[encoded data removed]",
      "text/plain": [
       "<Figure size 1080x360 with 1 Axes>"
      ]
     },
     "metadata": {
      "needs_background": "light"
     },
     "output_type": "display_data"
    },
    {
     "data": {
      "image/png": "[encoded data removed]",
      "text/plain": [
       "<Figure size 1080x360 with 1 Axes>"
      ]
     },
     "metadata": {
      "needs_background": "light"
     },
     "output_type": "display_data"
    },
    {
     "data": {
      "image/png": "[encoded data removed]",
      "text/plain": [
       "<Figure size 1080x360 with 1 Axes>"
      ]
     },
     "metadata": {
      "needs_background": "light"
     },
     "output_type": "display_data"
    },
    {
     "data": {
      "image/png": "[encoded data removed]",
      "text/plain": [
       "<Figure size 1080x360 with 1 Axes>"
      ]
     },
     "metadata": {
      "needs_background": "light"
     },
     "output_type": "display_data"
    },
    {
     "data": {
      "image/png": "[encoded data removed]",
      "text/plain": [
       "<Figure size 1080x360 with 1 Axes>"
      ]
     },
     "metadata": {
      "needs_background": "light"
     },
     "output_type": "display_data"
    },
    {
     "data": {
      "image/png": "[encoded data removed]",
      "text/plain": [
       "<Figure size 1080x360 with 1 Axes>"
      ]
     },
     "metadata": {
      "needs_background": "light"
     },
     "output_type": "display_data"
    },
    {
     "data": {
      "image/png": "[encoded data removed]",
      "text/plain": [
       "<Figure size 1080x360 with 1 Axes>"
      ]
     },
     "metadata": {
      "needs_background": "light"
     },
     "output_type": "display_data"
    },
    {
     "data": {
      "image/png": "[encoded data removed]",
      "text/plain": [
       "<Figure size 1080x360 with 1 Axes>"
      ]
     },
     "metadata": {
      "needs_background": "light"
     },
     "output_type": "display_data"
    },
    {
     "data": {
      "image/png": "[encoded data removed]",
      "text/plain": [
       "<Figure size 1080x360 with 1 Axes>"
      ]
     },
     "metadata": {
      "needs_background": "light"
     },
     "output_type": "display_data"
    },
    {
     "data": {
      "image/png": "[encoded data removed]",
      "text/plain": [
       "<Figure size 1080x360 with 1 Axes>"
      ]
     },
     "metadata": {
      "needs_background": "light"
     },
     "output_type": "display_data"
    }
   ],
   "source": [
    "# Creating a list of all categorical columns and iterating over the list to plot count plots\n",
    "cat_cols = df_lead.select_dtypes(include =\"object\").columns\n",
    "\n",
    "for col in cat_cols:\n",
    "    count_plot(col)"
   ]
  },
  {
   "cell_type": "markdown",
   "id": "7d817b57",
   "metadata": {},
   "source": [
    "### Inferences:\n",
    "    \n",
    " - Lead Origin vs Converted:\n",
    " \n",
    "    - Lead Origin - 'Landing Page submission', constitute the majority of the leads.\n",
    "    - Customers originating from 'Lead Add Form' have high probability of conversion.\n",
    "    - Lead origin-'API' & 'Lead Import' have the least conversion rate. Customers from Lead Import are very few in number.\n",
    "        \n",
    " - Lead Source \n",
    "     - Main sources of the leads are Google & Direct Traffic. \n",
    "     - Customers whose source are 'Google' and 'Reference' are more likely to be converted.\n",
    "     \n",
    "- Specialization\n",
    "   - Most of the customers have specialization as 'Management'.\n",
    "   - Customers with specialization as 'Rural & Agribusiness' are less likely to be converted.\n",
    "    \n",
    "- What is your current occupation\n",
    "    - Customers who are 'Unemployed' are more likely to be converted.\n",
    "    - Very few customers are Housewives.\n",
    "    \n",
    "- What matters most to you in choosing a career\n",
    "    - Most of the customers to whom better career aspects matters most in choosing a career have higher probabilty of conversion.\n",
    "    \n",
    "- Search, Newspaper Article,X Education Forums, Newspaper & Digital Advertisement \n",
    "    - Customers who have seen the add of the education company in any form, are very few in number. Nothing meaningful insight can be concluded from the plot that will impove the overall lead conversion rate.\n",
    "       \n",
    "- Tags\n",
    "    - More focus shall be given on the leads as 'will revert after reading the mail' & 'other' as these are potential leads and have higher rate of conversion.\n",
    "     \n",
    "- City\n",
    "    - Majority of the customers are from 'Mumbai' city. Customers from Mumbai should be targeted more as these are the potential leads.\n",
    "    \n",
    "- A Free Copy Of Mastering the Interview\n",
    "    - Customers who ask for 'afree copy of mastering the interview' are less in number but the conversion probabilty for both type of customers is similar.\n",
    "\n",
    "\n",
    "- Last Notable Activity\n",
    "    - Customers whose last notable activity was 'Modified' are more in number.\n",
    "    - Customers whose last notable activity was 'SMS Sent' have higher probability of conversion.\n",
    "    \n",
    "- Do Not Call\n",
    "   - Customers who do not opt for 'Do Not call' have higher conversion rate which is around 38%.These constitute the majority of the leads.\n",
    "   \n",
    " - Last Activity\n",
    "    - Customers who last activity was 'SMS Sent' have higher conversion rate which is around 63%. \n",
    "    - Customers who last activity was 'Email Opened' constitute majority of the customers. They have around 36% of conversion rate."
   ]
  },
  {
   "cell_type": "markdown",
   "id": "8491f9bb",
   "metadata": {},
   "source": [
    "#### Handling high data imbalance\n",
    "We can observe from the above plots that there is data imbalance in some columns. It is better to drop such columns as they might affect the results."
   ]
  },
  {
   "cell_type": "code",
   "execution_count": 217,
   "id": "c4c8fe94",
   "metadata": {},
   "outputs": [],
   "source": [
    "# Dropping the column which have data imbalance\n",
    "imbalance_cols = ['Do Not Call','Country','Search', 'Digital Advertisement', 'Through Recommendations','What matters most to you in choosing a course','Newspaper Article','X Education Forums','Newspaper']\n",
    "df_lead = df_lead.drop(imbalance_cols,axis =1)"
   ]
  },
  {
   "cell_type": "markdown",
   "id": "262bc50f",
   "metadata": {},
   "source": [
    "#### Visualizing Numerical Columns with Target Column - Bivariate Analysis"
   ]
  },
  {
   "cell_type": "code",
   "execution_count": 218,
   "id": "32561fa4",
   "metadata": {},
   "outputs": [
    {
     "data": {
      "image/png": "[encoded data removed]",
      "text/plain": [
       "<Figure size 720x720 with 3 Axes>"
      ]
     },
     "metadata": {
      "needs_background": "light"
     },
     "output_type": "display_data"
    }
   ],
   "source": [
    "#Plotting box plots to check outliers after outlier treatment\n",
    "\n",
    "plt.figure(figsize=(10, 10))\n",
    "plt.subplot(2,2,1)\n",
    "plt.title(\"Converted vs TotalVisits\")\n",
    "sns.boxplot(x = 'Converted', y = 'TotalVisits', data = df_lead)\n",
    "\n",
    "plt.subplot(2,2,2)\n",
    "plt.title(\"Converted vs Total Time Spent on Website\")\n",
    "sns.boxplot(x = 'Converted', y = 'Total Time Spent on Website', data = df_lead)\n",
    "\n",
    "plt.subplot(2,2,3)\n",
    "plt.title(\"Converted vs Page Views Per Visit\")\n",
    "sns.boxplot(x = 'Converted', y = 'Page Views Per Visit', data = df_lead)\n",
    "\n",
    "plt.show()"
   ]
  },
  {
   "cell_type": "markdown",
   "id": "3dd4eabd",
   "metadata": {},
   "source": [
    "#### Observations from the above box plots\n",
    "\n",
    "- Converted vs Total Time Spent on website\n",
    "     - Users who spend more time on the website, have more chances of converting which is obvious.\n",
    "- There is nothing much to infere from the other two plots as the medians of both converted and non-converted are same."
   ]
  },
  {
   "cell_type": "markdown",
   "id": "7c6ecab5",
   "metadata": {},
   "source": [
    "### Step 4: Data Preparation"
   ]
  },
  {
   "cell_type": "code",
   "execution_count": 219,
   "id": "cd49f2da",
   "metadata": {},
   "outputs": [
    {
     "data": {
      "text/html": [
       "<div>\n",
       "<style scoped>\n",
       "    .dataframe tbody tr th:only-of-type {\n",
       "        vertical-align: middle;\n",
       "    }\n",
       "\n",
       "    .dataframe tbody tr th {\n",
       "        vertical-align: top;\n",
       "    }\n",
       "\n",
       "    .dataframe thead th {\n",
       "        text-align: right;\n",
       "    }\n",
       "</style>\n",
       "<table border=\"1\" class=\"dataframe\">\n",
       "  <thead>\n",
       "    <tr style=\"text-align: right;\">\n",
       "      <th></th>\n",
       "      <th>Lead Number</th>\n",
       "      <th>Lead Origin</th>\n",
       "      <th>Lead Source</th>\n",
       "      <th>Do Not Email</th>\n",
       "      <th>Converted</th>\n",
       "      <th>TotalVisits</th>\n",
       "      <th>Total Time Spent on Website</th>\n",
       "      <th>Page Views Per Visit</th>\n",
       "      <th>Last Activity</th>\n",
       "      <th>Specialization</th>\n",
       "      <th>What is your current occupation</th>\n",
       "      <th>Tags</th>\n",
       "      <th>City</th>\n",
       "      <th>A free copy of Mastering The Interview</th>\n",
       "      <th>Last Notable Activity</th>\n",
       "    </tr>\n",
       "  </thead>\n",
       "  <tbody>\n",
       "    <tr>\n",
       "      <th>0</th>\n",
       "      <td>660737</td>\n",
       "      <td>API</td>\n",
       "      <td>Olark Chat</td>\n",
       "      <td>0</td>\n",
       "      <td>0</td>\n",
       "      <td>0</td>\n",
       "      <td>0</td>\n",
       "      <td>0.0</td>\n",
       "      <td>Page Visited on Website</td>\n",
       "      <td>Others</td>\n",
       "      <td>Unemployed</td>\n",
       "      <td>Interested in other courses</td>\n",
       "      <td>Mumbai</td>\n",
       "      <td>0</td>\n",
       "      <td>Modified</td>\n",
       "    </tr>\n",
       "    <tr>\n",
       "      <th>1</th>\n",
       "      <td>660728</td>\n",
       "      <td>API</td>\n",
       "      <td>Organic Search</td>\n",
       "      <td>0</td>\n",
       "      <td>0</td>\n",
       "      <td>5</td>\n",
       "      <td>674</td>\n",
       "      <td>2.5</td>\n",
       "      <td>Email Opened</td>\n",
       "      <td>Others</td>\n",
       "      <td>Unemployed</td>\n",
       "      <td>Try Calling again</td>\n",
       "      <td>Mumbai</td>\n",
       "      <td>0</td>\n",
       "      <td>Email Opened</td>\n",
       "    </tr>\n",
       "    <tr>\n",
       "      <th>2</th>\n",
       "      <td>660727</td>\n",
       "      <td>Landing Page Submission</td>\n",
       "      <td>Direct Traffic</td>\n",
       "      <td>0</td>\n",
       "      <td>1</td>\n",
       "      <td>2</td>\n",
       "      <td>1532</td>\n",
       "      <td>2.0</td>\n",
       "      <td>Email Opened</td>\n",
       "      <td>Business Administration</td>\n",
       "      <td>Student</td>\n",
       "      <td>Will revert after reading the email</td>\n",
       "      <td>Mumbai</td>\n",
       "      <td>1</td>\n",
       "      <td>Email Opened</td>\n",
       "    </tr>\n",
       "    <tr>\n",
       "      <th>3</th>\n",
       "      <td>660719</td>\n",
       "      <td>Landing Page Submission</td>\n",
       "      <td>Direct Traffic</td>\n",
       "      <td>0</td>\n",
       "      <td>0</td>\n",
       "      <td>1</td>\n",
       "      <td>305</td>\n",
       "      <td>1.0</td>\n",
       "      <td>others</td>\n",
       "      <td>Media and Advertising</td>\n",
       "      <td>Unemployed</td>\n",
       "      <td>Try Calling again</td>\n",
       "      <td>Mumbai</td>\n",
       "      <td>0</td>\n",
       "      <td>Modified</td>\n",
       "    </tr>\n",
       "    <tr>\n",
       "      <th>4</th>\n",
       "      <td>660681</td>\n",
       "      <td>Landing Page Submission</td>\n",
       "      <td>Google</td>\n",
       "      <td>0</td>\n",
       "      <td>1</td>\n",
       "      <td>2</td>\n",
       "      <td>1428</td>\n",
       "      <td>1.0</td>\n",
       "      <td>Converted to Lead</td>\n",
       "      <td>Others</td>\n",
       "      <td>Unemployed</td>\n",
       "      <td>Will revert after reading the email</td>\n",
       "      <td>Mumbai</td>\n",
       "      <td>0</td>\n",
       "      <td>Modified</td>\n",
       "    </tr>\n",
       "  </tbody>\n",
       "</table>\n",
       "</div>"
      ],
      "text/plain": [
       "   Lead Number              Lead Origin     Lead Source  Do Not Email  \\\n",
       "0       660737                      API      Olark Chat             0   \n",
       "1       660728                      API  Organic Search             0   \n",
       "2       660727  Landing Page Submission  Direct Traffic             0   \n",
       "3       660719  Landing Page Submission  Direct Traffic             0   \n",
       "4       660681  Landing Page Submission          Google             0   \n",
       "\n",
       "   Converted  TotalVisits  Total Time Spent on Website  Page Views Per Visit  \\\n",
       "0          0            0                            0                   0.0   \n",
       "1          0            5                          674                   2.5   \n",
       "2          1            2                         1532                   2.0   \n",
       "3          0            1                          305                   1.0   \n",
       "4          1            2                         1428                   1.0   \n",
       "\n",
       "             Last Activity           Specialization  \\\n",
       "0  Page Visited on Website                   Others   \n",
       "1             Email Opened                   Others   \n",
       "2             Email Opened  Business Administration   \n",
       "3                   others    Media and Advertising   \n",
       "4        Converted to Lead                   Others   \n",
       "\n",
       "  What is your current occupation                                 Tags  \\\n",
       "0                      Unemployed          Interested in other courses   \n",
       "1                      Unemployed                    Try Calling again   \n",
       "2                         Student  Will revert after reading the email   \n",
       "3                      Unemployed                    Try Calling again   \n",
       "4                      Unemployed  Will revert after reading the email   \n",
       "\n",
       "     City  A free copy of Mastering The Interview Last Notable Activity  \n",
       "0  Mumbai                                       0              Modified  \n",
       "1  Mumbai                                       0          Email Opened  \n",
       "2  Mumbai                                       1          Email Opened  \n",
       "3  Mumbai                                       0              Modified  \n",
       "4  Mumbai                                       0              Modified  "
      ]
     },
     "execution_count": 219,
     "metadata": {},
     "output_type": "execute_result"
    }
   ],
   "source": [
    "#Converting Binary variables Yes/No to 0 or 1\n",
    "\n",
    "def map_binary(x):\n",
    "    return x.map({'Yes':1,'No':0})\n",
    "\n",
    "df_lead[['Do Not Email','A free copy of Mastering The Interview']] = df_lead[['Do Not Email','A free copy of Mastering The Interview']].apply(map_binary)\n",
    "\n",
    "df_lead.head()"
   ]
  },
  {
   "cell_type": "markdown",
   "id": "ec4b0b7d",
   "metadata": {},
   "source": [
    "#### Dummy variable creation"
   ]
  },
  {
   "cell_type": "code",
   "execution_count": 220,
   "id": "25f024ea",
   "metadata": {},
   "outputs": [
    {
     "data": {
      "text/html": [
       "<div>\n",
       "<style scoped>\n",
       "    .dataframe tbody tr th:only-of-type {\n",
       "        vertical-align: middle;\n",
       "    }\n",
       "\n",
       "    .dataframe tbody tr th {\n",
       "        vertical-align: top;\n",
       "    }\n",
       "\n",
       "    .dataframe thead th {\n",
       "        text-align: right;\n",
       "    }\n",
       "</style>\n",
       "<table border=\"1\" class=\"dataframe\">\n",
       "  <thead>\n",
       "    <tr style=\"text-align: right;\">\n",
       "      <th></th>\n",
       "      <th>Lead Number</th>\n",
       "      <th>Lead Origin</th>\n",
       "      <th>Lead Source</th>\n",
       "      <th>Do Not Email</th>\n",
       "      <th>Converted</th>\n",
       "      <th>TotalVisits</th>\n",
       "      <th>Total Time Spent on Website</th>\n",
       "      <th>Page Views Per Visit</th>\n",
       "      <th>Last Activity</th>\n",
       "      <th>Specialization</th>\n",
       "      <th>What is your current occupation</th>\n",
       "      <th>Tags</th>\n",
       "      <th>City</th>\n",
       "      <th>A free copy of Mastering The Interview</th>\n",
       "      <th>Last Notable Activity</th>\n",
       "    </tr>\n",
       "  </thead>\n",
       "  <tbody>\n",
       "    <tr>\n",
       "      <th>0</th>\n",
       "      <td>660737</td>\n",
       "      <td>API</td>\n",
       "      <td>Olark Chat</td>\n",
       "      <td>0</td>\n",
       "      <td>0</td>\n",
       "      <td>0</td>\n",
       "      <td>0</td>\n",
       "      <td>0.0</td>\n",
       "      <td>Page Visited on Website</td>\n",
       "      <td>Others</td>\n",
       "      <td>Unemployed</td>\n",
       "      <td>Interested in other courses</td>\n",
       "      <td>Mumbai</td>\n",
       "      <td>0</td>\n",
       "      <td>Modified</td>\n",
       "    </tr>\n",
       "    <tr>\n",
       "      <th>1</th>\n",
       "      <td>660728</td>\n",
       "      <td>API</td>\n",
       "      <td>Organic Search</td>\n",
       "      <td>0</td>\n",
       "      <td>0</td>\n",
       "      <td>5</td>\n",
       "      <td>674</td>\n",
       "      <td>2.5</td>\n",
       "      <td>Email Opened</td>\n",
       "      <td>Others</td>\n",
       "      <td>Unemployed</td>\n",
       "      <td>Try Calling again</td>\n",
       "      <td>Mumbai</td>\n",
       "      <td>0</td>\n",
       "      <td>Email Opened</td>\n",
       "    </tr>\n",
       "    <tr>\n",
       "      <th>2</th>\n",
       "      <td>660727</td>\n",
       "      <td>Landing Page Submission</td>\n",
       "      <td>Direct Traffic</td>\n",
       "      <td>0</td>\n",
       "      <td>1</td>\n",
       "      <td>2</td>\n",
       "      <td>1532</td>\n",
       "      <td>2.0</td>\n",
       "      <td>Email Opened</td>\n",
       "      <td>Business Administration</td>\n",
       "      <td>Student</td>\n",
       "      <td>Will revert after reading the email</td>\n",
       "      <td>Mumbai</td>\n",
       "      <td>1</td>\n",
       "      <td>Email Opened</td>\n",
       "    </tr>\n",
       "    <tr>\n",
       "      <th>3</th>\n",
       "      <td>660719</td>\n",
       "      <td>Landing Page Submission</td>\n",
       "      <td>Direct Traffic</td>\n",
       "      <td>0</td>\n",
       "      <td>0</td>\n",
       "      <td>1</td>\n",
       "      <td>305</td>\n",
       "      <td>1.0</td>\n",
       "      <td>others</td>\n",
       "      <td>Media and Advertising</td>\n",
       "      <td>Unemployed</td>\n",
       "      <td>Try Calling again</td>\n",
       "      <td>Mumbai</td>\n",
       "      <td>0</td>\n",
       "      <td>Modified</td>\n",
       "    </tr>\n",
       "    <tr>\n",
       "      <th>4</th>\n",
       "      <td>660681</td>\n",
       "      <td>Landing Page Submission</td>\n",
       "      <td>Google</td>\n",
       "      <td>0</td>\n",
       "      <td>1</td>\n",
       "      <td>2</td>\n",
       "      <td>1428</td>\n",
       "      <td>1.0</td>\n",
       "      <td>Converted to Lead</td>\n",
       "      <td>Others</td>\n",
       "      <td>Unemployed</td>\n",
       "      <td>Will revert after reading the email</td>\n",
       "      <td>Mumbai</td>\n",
       "      <td>0</td>\n",
       "      <td>Modified</td>\n",
       "    </tr>\n",
       "  </tbody>\n",
       "</table>\n",
       "</div>"
      ],
      "text/plain": [
       "   Lead Number              Lead Origin     Lead Source  Do Not Email  \\\n",
       "0       660737                      API      Olark Chat             0   \n",
       "1       660728                      API  Organic Search             0   \n",
       "2       660727  Landing Page Submission  Direct Traffic             0   \n",
       "3       660719  Landing Page Submission  Direct Traffic             0   \n",
       "4       660681  Landing Page Submission          Google             0   \n",
       "\n",
       "   Converted  TotalVisits  Total Time Spent on Website  Page Views Per Visit  \\\n",
       "0          0            0                            0                   0.0   \n",
       "1          0            5                          674                   2.5   \n",
       "2          1            2                         1532                   2.0   \n",
       "3          0            1                          305                   1.0   \n",
       "4          1            2                         1428                   1.0   \n",
       "\n",
       "             Last Activity           Specialization  \\\n",
       "0  Page Visited on Website                   Others   \n",
       "1             Email Opened                   Others   \n",
       "2             Email Opened  Business Administration   \n",
       "3                   others    Media and Advertising   \n",
       "4        Converted to Lead                   Others   \n",
       "\n",
       "  What is your current occupation                                 Tags  \\\n",
       "0                      Unemployed          Interested in other courses   \n",
       "1                      Unemployed                    Try Calling again   \n",
       "2                         Student  Will revert after reading the email   \n",
       "3                      Unemployed                    Try Calling again   \n",
       "4                      Unemployed  Will revert after reading the email   \n",
       "\n",
       "     City  A free copy of Mastering The Interview Last Notable Activity  \n",
       "0  Mumbai                                       0              Modified  \n",
       "1  Mumbai                                       0          Email Opened  \n",
       "2  Mumbai                                       1          Email Opened  \n",
       "3  Mumbai                                       0              Modified  \n",
       "4  Mumbai                                       0              Modified  "
      ]
     },
     "execution_count": 220,
     "metadata": {},
     "output_type": "execute_result"
    }
   ],
   "source": [
    "#creating dummy variables and dropping the first column\n",
    "\n",
    "cols_cat = [i for i in df_lead.select_dtypes(include ='object').columns if len(df_lead[i].value_counts()) >2 and i != 'Lead Number']\n",
    "\n",
    "dummy_df = pd.get_dummies(df_lead[cols_cat], drop_first= True)\n",
    "df_lead.head()"
   ]
  },
  {
   "cell_type": "code",
   "execution_count": 221,
   "id": "fbdb790d",
   "metadata": {},
   "outputs": [
    {
     "data": {
      "text/plain": [
       "(8849, 78)"
      ]
     },
     "execution_count": 221,
     "metadata": {},
     "output_type": "execute_result"
    }
   ],
   "source": [
    "#concatenating the dummy variables with Original DataFrame\n",
    "df_lead = pd.concat([df_lead,dummy_df], axis =1)\n",
    "df_lead.shape"
   ]
  },
  {
   "cell_type": "code",
   "execution_count": 222,
   "id": "64855d73",
   "metadata": {},
   "outputs": [
    {
     "data": {
      "text/plain": [
       "(8849, 70)"
      ]
     },
     "execution_count": 222,
     "metadata": {},
     "output_type": "execute_result"
    }
   ],
   "source": [
    "#Dropping the variables which were converted into Dummies\n",
    "df_lead.drop(cols_cat, axis =1, inplace = True)\n",
    "df_lead.shape"
   ]
  },
  {
   "cell_type": "code",
   "execution_count": 223,
   "id": "d703e92d",
   "metadata": {},
   "outputs": [],
   "source": [
    "#Creating X and y variables\n",
    "y = df_lead['Converted']\n",
    "X = df_lead.drop(['Converted','Lead Number'],axis = 1)"
   ]
  },
  {
   "cell_type": "code",
   "execution_count": 224,
   "id": "61583829",
   "metadata": {},
   "outputs": [
    {
     "data": {
      "text/plain": [
       "0    0\n",
       "1    0\n",
       "2    1\n",
       "3    0\n",
       "4    1\n",
       "Name: Converted, dtype: int64"
      ]
     },
     "execution_count": 224,
     "metadata": {},
     "output_type": "execute_result"
    }
   ],
   "source": [
    "y.head()"
   ]
  },
  {
   "cell_type": "code",
   "execution_count": 225,
   "id": "3ee86053",
   "metadata": {},
   "outputs": [
    {
     "data": {
      "text/html": [
       "<div>\n",
       "<style scoped>\n",
       "    .dataframe tbody tr th:only-of-type {\n",
       "        vertical-align: middle;\n",
       "    }\n",
       "\n",
       "    .dataframe tbody tr th {\n",
       "        vertical-align: top;\n",
       "    }\n",
       "\n",
       "    .dataframe thead th {\n",
       "        text-align: right;\n",
       "    }\n",
       "</style>\n",
       "<table border=\"1\" class=\"dataframe\">\n",
       "  <thead>\n",
       "    <tr style=\"text-align: right;\">\n",
       "      <th></th>\n",
       "      <th>Do Not Email</th>\n",
       "      <th>TotalVisits</th>\n",
       "      <th>Total Time Spent on Website</th>\n",
       "      <th>Page Views Per Visit</th>\n",
       "      <th>A free copy of Mastering The Interview</th>\n",
       "      <th>Lead Origin_Landing Page Submission</th>\n",
       "      <th>Lead Origin_Lead Add Form</th>\n",
       "      <th>Lead Origin_Lead Import</th>\n",
       "      <th>Lead Source_Google</th>\n",
       "      <th>Lead Source_Olark Chat</th>\n",
       "      <th>...</th>\n",
       "      <th>City_Other Cities of Maharashtra</th>\n",
       "      <th>City_Other Metro Cities</th>\n",
       "      <th>City_Thane &amp; Outskirts</th>\n",
       "      <th>City_Tier II Cities</th>\n",
       "      <th>Last Notable Activity_Email Opened</th>\n",
       "      <th>Last Notable Activity_Modified</th>\n",
       "      <th>Last Notable Activity_Olark Chat Conversation</th>\n",
       "      <th>Last Notable Activity_Other</th>\n",
       "      <th>Last Notable Activity_Page Visited on Website</th>\n",
       "      <th>Last Notable Activity_SMS Sent</th>\n",
       "    </tr>\n",
       "  </thead>\n",
       "  <tbody>\n",
       "    <tr>\n",
       "      <th>0</th>\n",
       "      <td>0</td>\n",
       "      <td>0</td>\n",
       "      <td>0</td>\n",
       "      <td>0.0</td>\n",
       "      <td>0</td>\n",
       "      <td>0</td>\n",
       "      <td>0</td>\n",
       "      <td>0</td>\n",
       "      <td>0</td>\n",
       "      <td>1</td>\n",
       "      <td>...</td>\n",
       "      <td>0</td>\n",
       "      <td>0</td>\n",
       "      <td>0</td>\n",
       "      <td>0</td>\n",
       "      <td>0</td>\n",
       "      <td>1</td>\n",
       "      <td>0</td>\n",
       "      <td>0</td>\n",
       "      <td>0</td>\n",
       "      <td>0</td>\n",
       "    </tr>\n",
       "    <tr>\n",
       "      <th>1</th>\n",
       "      <td>0</td>\n",
       "      <td>5</td>\n",
       "      <td>674</td>\n",
       "      <td>2.5</td>\n",
       "      <td>0</td>\n",
       "      <td>0</td>\n",
       "      <td>0</td>\n",
       "      <td>0</td>\n",
       "      <td>0</td>\n",
       "      <td>0</td>\n",
       "      <td>...</td>\n",
       "      <td>0</td>\n",
       "      <td>0</td>\n",
       "      <td>0</td>\n",
       "      <td>0</td>\n",
       "      <td>1</td>\n",
       "      <td>0</td>\n",
       "      <td>0</td>\n",
       "      <td>0</td>\n",
       "      <td>0</td>\n",
       "      <td>0</td>\n",
       "    </tr>\n",
       "    <tr>\n",
       "      <th>2</th>\n",
       "      <td>0</td>\n",
       "      <td>2</td>\n",
       "      <td>1532</td>\n",
       "      <td>2.0</td>\n",
       "      <td>1</td>\n",
       "      <td>1</td>\n",
       "      <td>0</td>\n",
       "      <td>0</td>\n",
       "      <td>0</td>\n",
       "      <td>0</td>\n",
       "      <td>...</td>\n",
       "      <td>0</td>\n",
       "      <td>0</td>\n",
       "      <td>0</td>\n",
       "      <td>0</td>\n",
       "      <td>1</td>\n",
       "      <td>0</td>\n",
       "      <td>0</td>\n",
       "      <td>0</td>\n",
       "      <td>0</td>\n",
       "      <td>0</td>\n",
       "    </tr>\n",
       "    <tr>\n",
       "      <th>3</th>\n",
       "      <td>0</td>\n",
       "      <td>1</td>\n",
       "      <td>305</td>\n",
       "      <td>1.0</td>\n",
       "      <td>0</td>\n",
       "      <td>1</td>\n",
       "      <td>0</td>\n",
       "      <td>0</td>\n",
       "      <td>0</td>\n",
       "      <td>0</td>\n",
       "      <td>...</td>\n",
       "      <td>0</td>\n",
       "      <td>0</td>\n",
       "      <td>0</td>\n",
       "      <td>0</td>\n",
       "      <td>0</td>\n",
       "      <td>1</td>\n",
       "      <td>0</td>\n",
       "      <td>0</td>\n",
       "      <td>0</td>\n",
       "      <td>0</td>\n",
       "    </tr>\n",
       "    <tr>\n",
       "      <th>4</th>\n",
       "      <td>0</td>\n",
       "      <td>2</td>\n",
       "      <td>1428</td>\n",
       "      <td>1.0</td>\n",
       "      <td>0</td>\n",
       "      <td>1</td>\n",
       "      <td>0</td>\n",
       "      <td>0</td>\n",
       "      <td>1</td>\n",
       "      <td>0</td>\n",
       "      <td>...</td>\n",
       "      <td>0</td>\n",
       "      <td>0</td>\n",
       "      <td>0</td>\n",
       "      <td>0</td>\n",
       "      <td>0</td>\n",
       "      <td>1</td>\n",
       "      <td>0</td>\n",
       "      <td>0</td>\n",
       "      <td>0</td>\n",
       "      <td>0</td>\n",
       "    </tr>\n",
       "  </tbody>\n",
       "</table>\n",
       "<p>5 rows × 68 columns</p>\n",
       "</div>"
      ],
      "text/plain": [
       "   Do Not Email  TotalVisits  Total Time Spent on Website  \\\n",
       "0             0            0                            0   \n",
       "1             0            5                          674   \n",
       "2             0            2                         1532   \n",
       "3             0            1                          305   \n",
       "4             0            2                         1428   \n",
       "\n",
       "   Page Views Per Visit  A free copy of Mastering The Interview  \\\n",
       "0                   0.0                                       0   \n",
       "1                   2.5                                       0   \n",
       "2                   2.0                                       1   \n",
       "3                   1.0                                       0   \n",
       "4                   1.0                                       0   \n",
       "\n",
       "   Lead Origin_Landing Page Submission  Lead Origin_Lead Add Form  \\\n",
       "0                                    0                          0   \n",
       "1                                    0                          0   \n",
       "2                                    1                          0   \n",
       "3                                    1                          0   \n",
       "4                                    1                          0   \n",
       "\n",
       "   Lead Origin_Lead Import  Lead Source_Google  Lead Source_Olark Chat  ...  \\\n",
       "0                        0                   0                       1  ...   \n",
       "1                        0                   0                       0  ...   \n",
       "2                        0                   0                       0  ...   \n",
       "3                        0                   0                       0  ...   \n",
       "4                        0                   1                       0  ...   \n",
       "\n",
       "   City_Other Cities of Maharashtra  City_Other Metro Cities  \\\n",
       "0                                 0                        0   \n",
       "1                                 0                        0   \n",
       "2                                 0                        0   \n",
       "3                                 0                        0   \n",
       "4                                 0                        0   \n",
       "\n",
       "   City_Thane & Outskirts  City_Tier II Cities  \\\n",
       "0                       0                    0   \n",
       "1                       0                    0   \n",
       "2                       0                    0   \n",
       "3                       0                    0   \n",
       "4                       0                    0   \n",
       "\n",
       "   Last Notable Activity_Email Opened  Last Notable Activity_Modified  \\\n",
       "0                                   0                               1   \n",
       "1                                   1                               0   \n",
       "2                                   1                               0   \n",
       "3                                   0                               1   \n",
       "4                                   0                               1   \n",
       "\n",
       "   Last Notable Activity_Olark Chat Conversation  Last Notable Activity_Other  \\\n",
       "0                                              0                            0   \n",
       "1                                              0                            0   \n",
       "2                                              0                            0   \n",
       "3                                              0                            0   \n",
       "4                                              0                            0   \n",
       "\n",
       "   Last Notable Activity_Page Visited on Website  \\\n",
       "0                                              0   \n",
       "1                                              0   \n",
       "2                                              0   \n",
       "3                                              0   \n",
       "4                                              0   \n",
       "\n",
       "   Last Notable Activity_SMS Sent  \n",
       "0                               0  \n",
       "1                               0  \n",
       "2                               0  \n",
       "3                               0  \n",
       "4                               0  \n",
       "\n",
       "[5 rows x 68 columns]"
      ]
     },
     "execution_count": 225,
     "metadata": {},
     "output_type": "execute_result"
    }
   ],
   "source": [
    "X.head()"
   ]
  },
  {
   "cell_type": "markdown",
   "id": "0f98cf6d",
   "metadata": {},
   "source": [
    "#### Splitting the Data into Train and Test Sets"
   ]
  },
  {
   "cell_type": "code",
   "execution_count": 226,
   "id": "84883163",
   "metadata": {},
   "outputs": [],
   "source": [
    "X_train,X_test,y_train,y_test = train_test_split(X,y,train_size = 0.7, random_state = 100)"
   ]
  },
  {
   "cell_type": "markdown",
   "id": "80d93d6b",
   "metadata": {},
   "source": [
    "#### Feature Scaling"
   ]
  },
  {
   "cell_type": "code",
   "execution_count": 227,
   "id": "b3ab4902",
   "metadata": {},
   "outputs": [
    {
     "data": {
      "text/html": [
       "<div>\n",
       "<style scoped>\n",
       "    .dataframe tbody tr th:only-of-type {\n",
       "        vertical-align: middle;\n",
       "    }\n",
       "\n",
       "    .dataframe tbody tr th {\n",
       "        vertical-align: top;\n",
       "    }\n",
       "\n",
       "    .dataframe thead th {\n",
       "        text-align: right;\n",
       "    }\n",
       "</style>\n",
       "<table border=\"1\" class=\"dataframe\">\n",
       "  <thead>\n",
       "    <tr style=\"text-align: right;\">\n",
       "      <th></th>\n",
       "      <th>Do Not Email</th>\n",
       "      <th>TotalVisits</th>\n",
       "      <th>Total Time Spent on Website</th>\n",
       "      <th>Page Views Per Visit</th>\n",
       "      <th>A free copy of Mastering The Interview</th>\n",
       "      <th>Lead Origin_Landing Page Submission</th>\n",
       "      <th>Lead Origin_Lead Add Form</th>\n",
       "      <th>Lead Origin_Lead Import</th>\n",
       "      <th>Lead Source_Google</th>\n",
       "      <th>Lead Source_Olark Chat</th>\n",
       "      <th>...</th>\n",
       "      <th>City_Other Cities of Maharashtra</th>\n",
       "      <th>City_Other Metro Cities</th>\n",
       "      <th>City_Thane &amp; Outskirts</th>\n",
       "      <th>City_Tier II Cities</th>\n",
       "      <th>Last Notable Activity_Email Opened</th>\n",
       "      <th>Last Notable Activity_Modified</th>\n",
       "      <th>Last Notable Activity_Olark Chat Conversation</th>\n",
       "      <th>Last Notable Activity_Other</th>\n",
       "      <th>Last Notable Activity_Page Visited on Website</th>\n",
       "      <th>Last Notable Activity_SMS Sent</th>\n",
       "    </tr>\n",
       "  </thead>\n",
       "  <tbody>\n",
       "    <tr>\n",
       "      <th>1217</th>\n",
       "      <td>0</td>\n",
       "      <td>-0.394246</td>\n",
       "      <td>-0.468573</td>\n",
       "      <td>-0.137946</td>\n",
       "      <td>1</td>\n",
       "      <td>1</td>\n",
       "      <td>0</td>\n",
       "      <td>0</td>\n",
       "      <td>0</td>\n",
       "      <td>0</td>\n",
       "      <td>...</td>\n",
       "      <td>1</td>\n",
       "      <td>0</td>\n",
       "      <td>0</td>\n",
       "      <td>0</td>\n",
       "      <td>1</td>\n",
       "      <td>0</td>\n",
       "      <td>0</td>\n",
       "      <td>0</td>\n",
       "      <td>0</td>\n",
       "      <td>0</td>\n",
       "    </tr>\n",
       "    <tr>\n",
       "      <th>4659</th>\n",
       "      <td>0</td>\n",
       "      <td>3.104267</td>\n",
       "      <td>0.051778</td>\n",
       "      <td>0.387324</td>\n",
       "      <td>1</td>\n",
       "      <td>1</td>\n",
       "      <td>0</td>\n",
       "      <td>0</td>\n",
       "      <td>0</td>\n",
       "      <td>0</td>\n",
       "      <td>...</td>\n",
       "      <td>0</td>\n",
       "      <td>0</td>\n",
       "      <td>1</td>\n",
       "      <td>0</td>\n",
       "      <td>1</td>\n",
       "      <td>0</td>\n",
       "      <td>0</td>\n",
       "      <td>0</td>\n",
       "      <td>0</td>\n",
       "      <td>0</td>\n",
       "    </tr>\n",
       "    <tr>\n",
       "      <th>3614</th>\n",
       "      <td>0</td>\n",
       "      <td>1.005159</td>\n",
       "      <td>-0.338012</td>\n",
       "      <td>0.387324</td>\n",
       "      <td>1</td>\n",
       "      <td>1</td>\n",
       "      <td>0</td>\n",
       "      <td>0</td>\n",
       "      <td>1</td>\n",
       "      <td>0</td>\n",
       "      <td>...</td>\n",
       "      <td>0</td>\n",
       "      <td>0</td>\n",
       "      <td>1</td>\n",
       "      <td>0</td>\n",
       "      <td>0</td>\n",
       "      <td>0</td>\n",
       "      <td>0</td>\n",
       "      <td>0</td>\n",
       "      <td>0</td>\n",
       "      <td>1</td>\n",
       "    </tr>\n",
       "    <tr>\n",
       "      <th>2194</th>\n",
       "      <td>0</td>\n",
       "      <td>0.305456</td>\n",
       "      <td>1.429287</td>\n",
       "      <td>0.912594</td>\n",
       "      <td>0</td>\n",
       "      <td>1</td>\n",
       "      <td>0</td>\n",
       "      <td>0</td>\n",
       "      <td>1</td>\n",
       "      <td>0</td>\n",
       "      <td>...</td>\n",
       "      <td>0</td>\n",
       "      <td>0</td>\n",
       "      <td>1</td>\n",
       "      <td>0</td>\n",
       "      <td>1</td>\n",
       "      <td>0</td>\n",
       "      <td>0</td>\n",
       "      <td>0</td>\n",
       "      <td>0</td>\n",
       "      <td>0</td>\n",
       "    </tr>\n",
       "    <tr>\n",
       "      <th>437</th>\n",
       "      <td>0</td>\n",
       "      <td>-1.093949</td>\n",
       "      <td>-0.882961</td>\n",
       "      <td>-1.188486</td>\n",
       "      <td>0</td>\n",
       "      <td>0</td>\n",
       "      <td>0</td>\n",
       "      <td>0</td>\n",
       "      <td>0</td>\n",
       "      <td>1</td>\n",
       "      <td>...</td>\n",
       "      <td>0</td>\n",
       "      <td>0</td>\n",
       "      <td>0</td>\n",
       "      <td>0</td>\n",
       "      <td>0</td>\n",
       "      <td>1</td>\n",
       "      <td>0</td>\n",
       "      <td>0</td>\n",
       "      <td>0</td>\n",
       "      <td>0</td>\n",
       "    </tr>\n",
       "  </tbody>\n",
       "</table>\n",
       "<p>5 rows × 68 columns</p>\n",
       "</div>"
      ],
      "text/plain": [
       "      Do Not Email  TotalVisits  Total Time Spent on Website  \\\n",
       "1217             0    -0.394246                    -0.468573   \n",
       "4659             0     3.104267                     0.051778   \n",
       "3614             0     1.005159                    -0.338012   \n",
       "2194             0     0.305456                     1.429287   \n",
       "437              0    -1.093949                    -0.882961   \n",
       "\n",
       "      Page Views Per Visit  A free copy of Mastering The Interview  \\\n",
       "1217             -0.137946                                       1   \n",
       "4659              0.387324                                       1   \n",
       "3614              0.387324                                       1   \n",
       "2194              0.912594                                       0   \n",
       "437              -1.188486                                       0   \n",
       "\n",
       "      Lead Origin_Landing Page Submission  Lead Origin_Lead Add Form  \\\n",
       "1217                                    1                          0   \n",
       "4659                                    1                          0   \n",
       "3614                                    1                          0   \n",
       "2194                                    1                          0   \n",
       "437                                     0                          0   \n",
       "\n",
       "      Lead Origin_Lead Import  Lead Source_Google  Lead Source_Olark Chat  \\\n",
       "1217                        0                   0                       0   \n",
       "4659                        0                   0                       0   \n",
       "3614                        0                   1                       0   \n",
       "2194                        0                   1                       0   \n",
       "437                         0                   0                       1   \n",
       "\n",
       "      ...  City_Other Cities of Maharashtra  City_Other Metro Cities  \\\n",
       "1217  ...                                 1                        0   \n",
       "4659  ...                                 0                        0   \n",
       "3614  ...                                 0                        0   \n",
       "2194  ...                                 0                        0   \n",
       "437   ...                                 0                        0   \n",
       "\n",
       "      City_Thane & Outskirts  City_Tier II Cities  \\\n",
       "1217                       0                    0   \n",
       "4659                       1                    0   \n",
       "3614                       1                    0   \n",
       "2194                       1                    0   \n",
       "437                        0                    0   \n",
       "\n",
       "      Last Notable Activity_Email Opened  Last Notable Activity_Modified  \\\n",
       "1217                                   1                               0   \n",
       "4659                                   1                               0   \n",
       "3614                                   0                               0   \n",
       "2194                                   1                               0   \n",
       "437                                    0                               1   \n",
       "\n",
       "      Last Notable Activity_Olark Chat Conversation  \\\n",
       "1217                                              0   \n",
       "4659                                              0   \n",
       "3614                                              0   \n",
       "2194                                              0   \n",
       "437                                               0   \n",
       "\n",
       "      Last Notable Activity_Other  \\\n",
       "1217                            0   \n",
       "4659                            0   \n",
       "3614                            0   \n",
       "2194                            0   \n",
       "437                             0   \n",
       "\n",
       "      Last Notable Activity_Page Visited on Website  \\\n",
       "1217                                              0   \n",
       "4659                                              0   \n",
       "3614                                              0   \n",
       "2194                                              0   \n",
       "437                                               0   \n",
       "\n",
       "      Last Notable Activity_SMS Sent  \n",
       "1217                               0  \n",
       "4659                               0  \n",
       "3614                               1  \n",
       "2194                               0  \n",
       "437                                0  \n",
       "\n",
       "[5 rows x 68 columns]"
      ]
     },
     "execution_count": 227,
     "metadata": {},
     "output_type": "execute_result"
    }
   ],
   "source": [
    "#Using Standard scaler\n",
    "scale = StandardScaler()\n",
    "X_train[['TotalVisits','Total Time Spent on Website','Page Views Per Visit']] = scale.fit_transform(X_train[['TotalVisits','Total Time Spent on Website','Page Views Per Visit']])\n",
    "X_train.head()     "
   ]
  },
  {
   "cell_type": "markdown",
   "id": "a192a6bb",
   "metadata": {},
   "source": [
    "### Step 5 : Model Building"
   ]
  },
  {
   "cell_type": "code",
   "execution_count": 228,
   "id": "6697a53e",
   "metadata": {},
   "outputs": [
    {
     "data": {
      "text/html": [
       "<table class=\"simpletable\">\n",
       "<caption>Generalized Linear Model Regression Results</caption>\n",
       "<tr>\n",
       "  <th>Dep. Variable:</th>      <td>Converted</td>    <th>  No. Observations:  </th>  <td>  6194</td>  \n",
       "</tr>\n",
       "<tr>\n",
       "  <th>Model:</th>                 <td>GLM</td>       <th>  Df Residuals:      </th>  <td>  6125</td>  \n",
       "</tr>\n",
       "<tr>\n",
       "  <th>Model Family:</th>       <td>Binomial</td>     <th>  Df Model:          </th>  <td>    68</td>  \n",
       "</tr>\n",
       "<tr>\n",
       "  <th>Link Function:</th>        <td>logit</td>      <th>  Scale:             </th> <td>  1.0000</td> \n",
       "</tr>\n",
       "<tr>\n",
       "  <th>Method:</th>               <td>IRLS</td>       <th>  Log-Likelihood:    </th> <td> -1282.2</td> \n",
       "</tr>\n",
       "<tr>\n",
       "  <th>Date:</th>           <td>Sat, 25 Feb 2023</td> <th>  Deviance:          </th> <td>  2564.3</td> \n",
       "</tr>\n",
       "<tr>\n",
       "  <th>Time:</th>               <td>13:46:30</td>     <th>  Pearson chi2:      </th> <td>7.62e+03</td> \n",
       "</tr>\n",
       "<tr>\n",
       "  <th>No. Iterations:</th>        <td>22</td>        <th>  Covariance Type:   </th> <td>nonrobust</td>\n",
       "</tr>\n",
       "</table>\n",
       "<table class=\"simpletable\">\n",
       "<tr>\n",
       "                             <td></td>                               <th>coef</th>     <th>std err</th>      <th>z</th>      <th>P>|z|</th>  <th>[0.025</th>    <th>0.975]</th>  \n",
       "</tr>\n",
       "<tr>\n",
       "  <th>const</th>                                                  <td>   -6.5575</td> <td>    2.176</td> <td>   -3.014</td> <td> 0.003</td> <td>  -10.822</td> <td>   -2.293</td>\n",
       "</tr>\n",
       "<tr>\n",
       "  <th>Do Not Email</th>                                           <td>   -0.7944</td> <td>    0.290</td> <td>   -2.738</td> <td> 0.006</td> <td>   -1.363</td> <td>   -0.226</td>\n",
       "</tr>\n",
       "<tr>\n",
       "  <th>TotalVisits</th>                                            <td>    0.2576</td> <td>    0.081</td> <td>    3.199</td> <td> 0.001</td> <td>    0.100</td> <td>    0.415</td>\n",
       "</tr>\n",
       "<tr>\n",
       "  <th>Total Time Spent on Website</th>                            <td>    1.1246</td> <td>    0.062</td> <td>   18.241</td> <td> 0.000</td> <td>    1.004</td> <td>    1.245</td>\n",
       "</tr>\n",
       "<tr>\n",
       "  <th>Page Views Per Visit</th>                                   <td>   -0.2327</td> <td>    0.092</td> <td>   -2.536</td> <td> 0.011</td> <td>   -0.413</td> <td>   -0.053</td>\n",
       "</tr>\n",
       "<tr>\n",
       "  <th>A free copy of Mastering The Interview</th>                 <td>   -0.0868</td> <td>    0.176</td> <td>   -0.492</td> <td> 0.623</td> <td>   -0.432</td> <td>    0.259</td>\n",
       "</tr>\n",
       "<tr>\n",
       "  <th>Lead Origin_Landing Page Submission</th>                    <td>   -0.2088</td> <td>    0.231</td> <td>   -0.904</td> <td> 0.366</td> <td>   -0.661</td> <td>    0.244</td>\n",
       "</tr>\n",
       "<tr>\n",
       "  <th>Lead Origin_Lead Add Form</th>                              <td>    2.0610</td> <td>    1.233</td> <td>    1.672</td> <td> 0.094</td> <td>   -0.355</td> <td>    4.477</td>\n",
       "</tr>\n",
       "<tr>\n",
       "  <th>Lead Origin_Lead Import</th>                                <td>   22.0460</td> <td> 4.78e+04</td> <td>    0.000</td> <td> 1.000</td> <td>-9.37e+04</td> <td> 9.38e+04</td>\n",
       "</tr>\n",
       "<tr>\n",
       "  <th>Lead Source_Google</th>                                     <td>    0.1122</td> <td>    0.184</td> <td>    0.611</td> <td> 0.541</td> <td>   -0.248</td> <td>    0.472</td>\n",
       "</tr>\n",
       "<tr>\n",
       "  <th>Lead Source_Olark Chat</th>                                 <td>    1.1928</td> <td>    0.246</td> <td>    4.851</td> <td> 0.000</td> <td>    0.711</td> <td>    1.675</td>\n",
       "</tr>\n",
       "<tr>\n",
       "  <th>Lead Source_Organic Search</th>                             <td>    0.1794</td> <td>    0.213</td> <td>    0.841</td> <td> 0.401</td> <td>   -0.239</td> <td>    0.598</td>\n",
       "</tr>\n",
       "<tr>\n",
       "  <th>Lead Source_Others</th>                                     <td>    1.2585</td> <td>    0.904</td> <td>    1.392</td> <td> 0.164</td> <td>   -0.514</td> <td>    3.031</td>\n",
       "</tr>\n",
       "<tr>\n",
       "  <th>Lead Source_Reference</th>                                  <td>   -0.9734</td> <td>    1.295</td> <td>   -0.752</td> <td> 0.452</td> <td>   -3.512</td> <td>    1.565</td>\n",
       "</tr>\n",
       "<tr>\n",
       "  <th>Lead Source_Referral Sites</th>                             <td>    0.2001</td> <td>    0.479</td> <td>    0.418</td> <td> 0.676</td> <td>   -0.739</td> <td>    1.139</td>\n",
       "</tr>\n",
       "<tr>\n",
       "  <th>Lead Source_Social Media</th>                               <td>  -20.9484</td> <td> 4.78e+04</td> <td>   -0.000</td> <td> 1.000</td> <td>-9.38e+04</td> <td> 9.37e+04</td>\n",
       "</tr>\n",
       "<tr>\n",
       "  <th>Lead Source_Welingak Website</th>                           <td>    3.2252</td> <td>    1.438</td> <td>    2.243</td> <td> 0.025</td> <td>    0.407</td> <td>    6.043</td>\n",
       "</tr>\n",
       "<tr>\n",
       "  <th>Last Activity_Email Bounced</th>                            <td>   -0.3571</td> <td>    0.699</td> <td>   -0.511</td> <td> 0.609</td> <td>   -1.727</td> <td>    1.013</td>\n",
       "</tr>\n",
       "<tr>\n",
       "  <th>Last Activity_Email Link Clicked</th>                       <td>    1.1942</td> <td>    0.602</td> <td>    1.982</td> <td> 0.047</td> <td>    0.013</td> <td>    2.375</td>\n",
       "</tr>\n",
       "<tr>\n",
       "  <th>Last Activity_Email Opened</th>                             <td>    0.7230</td> <td>    0.405</td> <td>    1.786</td> <td> 0.074</td> <td>   -0.070</td> <td>    1.516</td>\n",
       "</tr>\n",
       "<tr>\n",
       "  <th>Last Activity_Form Submitted on Website</th>                <td>    0.5981</td> <td>    0.658</td> <td>    0.909</td> <td> 0.363</td> <td>   -0.692</td> <td>    1.888</td>\n",
       "</tr>\n",
       "<tr>\n",
       "  <th>Last Activity_Olark Chat Conversation</th>                  <td>    0.0444</td> <td>    0.407</td> <td>    0.109</td> <td> 0.913</td> <td>   -0.754</td> <td>    0.843</td>\n",
       "</tr>\n",
       "<tr>\n",
       "  <th>Last Activity_Page Visited on Website</th>                  <td>    0.3471</td> <td>    0.500</td> <td>    0.694</td> <td> 0.487</td> <td>   -0.632</td> <td>    1.327</td>\n",
       "</tr>\n",
       "<tr>\n",
       "  <th>Last Activity_SMS Sent</th>                                 <td>    1.7614</td> <td>    0.385</td> <td>    4.580</td> <td> 0.000</td> <td>    1.008</td> <td>    2.515</td>\n",
       "</tr>\n",
       "<tr>\n",
       "  <th>Last Activity_others</th>                                   <td>    0.4967</td> <td>    0.690</td> <td>    0.720</td> <td> 0.471</td> <td>   -0.855</td> <td>    1.848</td>\n",
       "</tr>\n",
       "<tr>\n",
       "  <th>Specialization_Business Administration</th>                 <td>   -0.0122</td> <td>    0.374</td> <td>   -0.033</td> <td> 0.974</td> <td>   -0.746</td> <td>    0.721</td>\n",
       "</tr>\n",
       "<tr>\n",
       "  <th>Specialization_E-Business</th>                              <td>   -0.3435</td> <td>    0.468</td> <td>   -0.735</td> <td> 0.463</td> <td>   -1.260</td> <td>    0.573</td>\n",
       "</tr>\n",
       "<tr>\n",
       "  <th>Specialization_International Business</th>                  <td>   -0.0819</td> <td>    0.485</td> <td>   -0.169</td> <td> 0.866</td> <td>   -1.033</td> <td>    0.869</td>\n",
       "</tr>\n",
       "<tr>\n",
       "  <th>Specialization_Management</th>                              <td>   -0.2017</td> <td>    0.289</td> <td>   -0.698</td> <td> 0.485</td> <td>   -0.768</td> <td>    0.365</td>\n",
       "</tr>\n",
       "<tr>\n",
       "  <th>Specialization_Media and Advertising</th>                   <td>   -0.1672</td> <td>    0.465</td> <td>   -0.360</td> <td> 0.719</td> <td>   -1.078</td> <td>    0.744</td>\n",
       "</tr>\n",
       "<tr>\n",
       "  <th>Specialization_Others</th>                                  <td>   -0.0546</td> <td>    0.350</td> <td>   -0.156</td> <td> 0.876</td> <td>   -0.740</td> <td>    0.631</td>\n",
       "</tr>\n",
       "<tr>\n",
       "  <th>Specialization_Rural and Agribusiness</th>                  <td>   -0.7088</td> <td>    1.014</td> <td>   -0.699</td> <td> 0.484</td> <td>   -2.696</td> <td>    1.278</td>\n",
       "</tr>\n",
       "<tr>\n",
       "  <th>Specialization_Services Excellence</th>                     <td>    0.1466</td> <td>    0.888</td> <td>    0.165</td> <td> 0.869</td> <td>   -1.593</td> <td>    1.887</td>\n",
       "</tr>\n",
       "<tr>\n",
       "  <th>Specialization_Travel and Tourism</th>                      <td>   -0.7166</td> <td>    0.512</td> <td>   -1.400</td> <td> 0.162</td> <td>   -1.720</td> <td>    0.287</td>\n",
       "</tr>\n",
       "<tr>\n",
       "  <th>What is your current occupation_Housewife</th>              <td>   20.0073</td> <td> 3.22e+04</td> <td>    0.001</td> <td> 1.000</td> <td>-6.32e+04</td> <td> 6.32e+04</td>\n",
       "</tr>\n",
       "<tr>\n",
       "  <th>What is your current occupation_Other</th>                  <td>   -0.3819</td> <td>    2.348</td> <td>   -0.163</td> <td> 0.871</td> <td>   -4.984</td> <td>    4.220</td>\n",
       "</tr>\n",
       "<tr>\n",
       "  <th>What is your current occupation_Student</th>                <td>   -0.2829</td> <td>    1.981</td> <td>   -0.143</td> <td> 0.886</td> <td>   -4.165</td> <td>    3.599</td>\n",
       "</tr>\n",
       "<tr>\n",
       "  <th>What is your current occupation_Unemployed</th>             <td>   -0.6123</td> <td>    1.884</td> <td>   -0.325</td> <td> 0.745</td> <td>   -4.305</td> <td>    3.080</td>\n",
       "</tr>\n",
       "<tr>\n",
       "  <th>What is your current occupation_Working Professional</th>   <td>   -0.0457</td> <td>    1.911</td> <td>   -0.024</td> <td> 0.981</td> <td>   -3.790</td> <td>    3.699</td>\n",
       "</tr>\n",
       "<tr>\n",
       "  <th>Tags_Closed by Horizzon</th>                                <td>   10.0139</td> <td>    1.063</td> <td>    9.422</td> <td> 0.000</td> <td>    7.931</td> <td>   12.097</td>\n",
       "</tr>\n",
       "<tr>\n",
       "  <th>Tags_Graduation in progress</th>                            <td>    2.9212</td> <td>    0.904</td> <td>    3.232</td> <td> 0.001</td> <td>    1.150</td> <td>    4.693</td>\n",
       "</tr>\n",
       "<tr>\n",
       "  <th>Tags_In confusion whether part time or DLP</th>             <td>    3.6954</td> <td>    1.781</td> <td>    2.075</td> <td> 0.038</td> <td>    0.205</td> <td>    7.186</td>\n",
       "</tr>\n",
       "<tr>\n",
       "  <th>Tags_Interested  in full time MBA</th>                      <td>    1.5007</td> <td>    1.065</td> <td>    1.409</td> <td> 0.159</td> <td>   -0.588</td> <td>    3.589</td>\n",
       "</tr>\n",
       "<tr>\n",
       "  <th>Tags_Interested in Next batch</th>                          <td>   26.1570</td> <td> 4.44e+04</td> <td>    0.001</td> <td> 1.000</td> <td>-8.69e+04</td> <td>  8.7e+04</td>\n",
       "</tr>\n",
       "<tr>\n",
       "  <th>Tags_Interested in other courses</th>                       <td>    1.4498</td> <td>    0.846</td> <td>    1.713</td> <td> 0.087</td> <td>   -0.209</td> <td>    3.108</td>\n",
       "</tr>\n",
       "<tr>\n",
       "  <th>Tags_Lateral student</th>                                   <td>   27.8525</td> <td> 4.33e+04</td> <td>    0.001</td> <td> 0.999</td> <td>-8.49e+04</td> <td>  8.5e+04</td>\n",
       "</tr>\n",
       "<tr>\n",
       "  <th>Tags_Lost</th>                                              <td>    8.2778</td> <td>    0.844</td> <td>    9.805</td> <td> 0.000</td> <td>    6.623</td> <td>    9.933</td>\n",
       "</tr>\n",
       "<tr>\n",
       "  <th>Tags_No Phone Number</th>                                   <td>   -0.8771</td> <td>    1.284</td> <td>   -0.683</td> <td> 0.495</td> <td>   -3.393</td> <td>    1.639</td>\n",
       "</tr>\n",
       "<tr>\n",
       "  <th>Tags_Not Eligible/Not Interested</th>                       <td>    0.7150</td> <td>    1.271</td> <td>    0.563</td> <td> 0.574</td> <td>   -1.776</td> <td>    3.206</td>\n",
       "</tr>\n",
       "<tr>\n",
       "  <th>Tags_Others</th>                                            <td>    3.5859</td> <td>    0.754</td> <td>    4.758</td> <td> 0.000</td> <td>    2.109</td> <td>    5.063</td>\n",
       "</tr>\n",
       "<tr>\n",
       "  <th>Tags_Recognition issue (DEC approval)</th>                  <td>  -18.9931</td> <td> 7.95e+04</td> <td>   -0.000</td> <td> 1.000</td> <td>-1.56e+05</td> <td> 1.56e+05</td>\n",
       "</tr>\n",
       "<tr>\n",
       "  <th>Tags_Shall take in the next coming month</th>               <td>    4.6926</td> <td>    1.666</td> <td>    2.817</td> <td> 0.005</td> <td>    1.427</td> <td>    7.958</td>\n",
       "</tr>\n",
       "<tr>\n",
       "  <th>Tags_Still Thinking</th>                                    <td>  -19.6374</td> <td> 3.86e+04</td> <td>   -0.001</td> <td> 1.000</td> <td>-7.57e+04</td> <td> 7.57e+04</td>\n",
       "</tr>\n",
       "<tr>\n",
       "  <th>Tags_Try Calling again</th>                                 <td>    1.5276</td> <td>    0.765</td> <td>    1.997</td> <td> 0.046</td> <td>    0.028</td> <td>    3.027</td>\n",
       "</tr>\n",
       "<tr>\n",
       "  <th>Tags_University not recognized</th>                         <td>  -17.7305</td> <td> 7.95e+04</td> <td>   -0.000</td> <td> 1.000</td> <td>-1.56e+05</td> <td> 1.56e+05</td>\n",
       "</tr>\n",
       "<tr>\n",
       "  <th>Tags_Want to take admission but has financial problems</th> <td>  -19.1876</td> <td> 4.19e+04</td> <td>   -0.000</td> <td> 1.000</td> <td>-8.21e+04</td> <td>  8.2e+04</td>\n",
       "</tr>\n",
       "<tr>\n",
       "  <th>Tags_Will revert after reading the email</th>               <td>    8.0498</td> <td>    0.776</td> <td>   10.379</td> <td> 0.000</td> <td>    6.530</td> <td>    9.570</td>\n",
       "</tr>\n",
       "<tr>\n",
       "  <th>Tags_in touch with EINS</th>                                <td>    3.5766</td> <td>    1.326</td> <td>    2.697</td> <td> 0.007</td> <td>    0.977</td> <td>    6.176</td>\n",
       "</tr>\n",
       "<tr>\n",
       "  <th>City_Other Cities</th>                                      <td>    0.0589</td> <td>    0.220</td> <td>    0.268</td> <td> 0.789</td> <td>   -0.372</td> <td>    0.490</td>\n",
       "</tr>\n",
       "<tr>\n",
       "  <th>City_Other Cities of Maharashtra</th>                       <td>   -0.0717</td> <td>    0.265</td> <td>   -0.271</td> <td> 0.786</td> <td>   -0.590</td> <td>    0.447</td>\n",
       "</tr>\n",
       "<tr>\n",
       "  <th>City_Other Metro Cities</th>                                <td>   -0.3023</td> <td>    0.306</td> <td>   -0.986</td> <td> 0.324</td> <td>   -0.903</td> <td>    0.298</td>\n",
       "</tr>\n",
       "<tr>\n",
       "  <th>City_Thane & Outskirts</th>                                 <td>   -0.3044</td> <td>    0.226</td> <td>   -1.346</td> <td> 0.178</td> <td>   -0.748</td> <td>    0.139</td>\n",
       "</tr>\n",
       "<tr>\n",
       "  <th>City_Tier II Cities</th>                                    <td>    0.4444</td> <td>    0.553</td> <td>    0.804</td> <td> 0.421</td> <td>   -0.639</td> <td>    1.528</td>\n",
       "</tr>\n",
       "<tr>\n",
       "  <th>Last Notable Activity_Email Opened</th>                     <td>    1.4595</td> <td>    0.691</td> <td>    2.113</td> <td> 0.035</td> <td>    0.105</td> <td>    2.814</td>\n",
       "</tr>\n",
       "<tr>\n",
       "  <th>Last Notable Activity_Modified</th>                         <td>    0.3954</td> <td>    0.642</td> <td>    0.616</td> <td> 0.538</td> <td>   -0.863</td> <td>    1.654</td>\n",
       "</tr>\n",
       "<tr>\n",
       "  <th>Last Notable Activity_Olark Chat Conversation</th>          <td>    0.4238</td> <td>    0.793</td> <td>    0.534</td> <td> 0.593</td> <td>   -1.131</td> <td>    1.978</td>\n",
       "</tr>\n",
       "<tr>\n",
       "  <th>Last Notable Activity_Other</th>                            <td>    2.2636</td> <td>    0.936</td> <td>    2.419</td> <td> 0.016</td> <td>    0.430</td> <td>    4.098</td>\n",
       "</tr>\n",
       "<tr>\n",
       "  <th>Last Notable Activity_Page Visited on Website</th>          <td>    1.1061</td> <td>    0.816</td> <td>    1.356</td> <td> 0.175</td> <td>   -0.492</td> <td>    2.705</td>\n",
       "</tr>\n",
       "<tr>\n",
       "  <th>Last Notable Activity_SMS Sent</th>                         <td>    2.5787</td> <td>    0.679</td> <td>    3.799</td> <td> 0.000</td> <td>    1.248</td> <td>    3.909</td>\n",
       "</tr>\n",
       "</table>"
      ],
      "text/plain": [
       "<class 'statsmodels.iolib.summary.Summary'>\n",
       "\"\"\"\n",
       "                 Generalized Linear Model Regression Results                  \n",
       "==============================================================================\n",
       "Dep. Variable:              Converted   No. Observations:                 6194\n",
       "Model:                            GLM   Df Residuals:                     6125\n",
       "Model Family:                Binomial   Df Model:                           68\n",
       "Link Function:                  logit   Scale:                          1.0000\n",
       "Method:                          IRLS   Log-Likelihood:                -1282.2\n",
       "Date:                Sat, 25 Feb 2023   Deviance:                       2564.3\n",
       "Time:                        13:46:30   Pearson chi2:                 7.62e+03\n",
       "No. Iterations:                    22   Covariance Type:             nonrobust\n",
       "==========================================================================================================================\n",
       "                                                             coef    std err          z      P>|z|      [0.025      0.975]\n",
       "--------------------------------------------------------------------------------------------------------------------------\n",
       "const                                                     -6.5575      2.176     -3.014      0.003     -10.822      -2.293\n",
       "Do Not Email                                              -0.7944      0.290     -2.738      0.006      -1.363      -0.226\n",
       "TotalVisits                                                0.2576      0.081      3.199      0.001       0.100       0.415\n",
       "Total Time Spent on Website                                1.1246      0.062     18.241      0.000       1.004       1.245\n",
       "Page Views Per Visit                                      -0.2327      0.092     -2.536      0.011      -0.413      -0.053\n",
       "A free copy of Mastering The Interview                    -0.0868      0.176     -0.492      0.623      -0.432       0.259\n",
       "Lead Origin_Landing Page Submission                       -0.2088      0.231     -0.904      0.366      -0.661       0.244\n",
       "Lead Origin_Lead Add Form                                  2.0610      1.233      1.672      0.094      -0.355       4.477\n",
       "Lead Origin_Lead Import                                   22.0460   4.78e+04      0.000      1.000   -9.37e+04    9.38e+04\n",
       "Lead Source_Google                                         0.1122      0.184      0.611      0.541      -0.248       0.472\n",
       "Lead Source_Olark Chat                                     1.1928      0.246      4.851      0.000       0.711       1.675\n",
       "Lead Source_Organic Search                                 0.1794      0.213      0.841      0.401      -0.239       0.598\n",
       "Lead Source_Others                                         1.2585      0.904      1.392      0.164      -0.514       3.031\n",
       "Lead Source_Reference                                     -0.9734      1.295     -0.752      0.452      -3.512       1.565\n",
       "Lead Source_Referral Sites                                 0.2001      0.479      0.418      0.676      -0.739       1.139\n",
       "Lead Source_Social Media                                 -20.9484   4.78e+04     -0.000      1.000   -9.38e+04    9.37e+04\n",
       "Lead Source_Welingak Website                               3.2252      1.438      2.243      0.025       0.407       6.043\n",
       "Last Activity_Email Bounced                               -0.3571      0.699     -0.511      0.609      -1.727       1.013\n",
       "Last Activity_Email Link Clicked                           1.1942      0.602      1.982      0.047       0.013       2.375\n",
       "Last Activity_Email Opened                                 0.7230      0.405      1.786      0.074      -0.070       1.516\n",
       "Last Activity_Form Submitted on Website                    0.5981      0.658      0.909      0.363      -0.692       1.888\n",
       "Last Activity_Olark Chat Conversation                      0.0444      0.407      0.109      0.913      -0.754       0.843\n",
       "Last Activity_Page Visited on Website                      0.3471      0.500      0.694      0.487      -0.632       1.327\n",
       "Last Activity_SMS Sent                                     1.7614      0.385      4.580      0.000       1.008       2.515\n",
       "Last Activity_others                                       0.4967      0.690      0.720      0.471      -0.855       1.848\n",
       "Specialization_Business Administration                    -0.0122      0.374     -0.033      0.974      -0.746       0.721\n",
       "Specialization_E-Business                                 -0.3435      0.468     -0.735      0.463      -1.260       0.573\n",
       "Specialization_International Business                     -0.0819      0.485     -0.169      0.866      -1.033       0.869\n",
       "Specialization_Management                                 -0.2017      0.289     -0.698      0.485      -0.768       0.365\n",
       "Specialization_Media and Advertising                      -0.1672      0.465     -0.360      0.719      -1.078       0.744\n",
       "Specialization_Others                                     -0.0546      0.350     -0.156      0.876      -0.740       0.631\n",
       "Specialization_Rural and Agribusiness                     -0.7088      1.014     -0.699      0.484      -2.696       1.278\n",
       "Specialization_Services Excellence                         0.1466      0.888      0.165      0.869      -1.593       1.887\n",
       "Specialization_Travel and Tourism                         -0.7166      0.512     -1.400      0.162      -1.720       0.287\n",
       "What is your current occupation_Housewife                 20.0073   3.22e+04      0.001      1.000   -6.32e+04    6.32e+04\n",
       "What is your current occupation_Other                     -0.3819      2.348     -0.163      0.871      -4.984       4.220\n",
       "What is your current occupation_Student                   -0.2829      1.981     -0.143      0.886      -4.165       3.599\n",
       "What is your current occupation_Unemployed                -0.6123      1.884     -0.325      0.745      -4.305       3.080\n",
       "What is your current occupation_Working Professional      -0.0457      1.911     -0.024      0.981      -3.790       3.699\n",
       "Tags_Closed by Horizzon                                   10.0139      1.063      9.422      0.000       7.931      12.097\n",
       "Tags_Graduation in progress                                2.9212      0.904      3.232      0.001       1.150       4.693\n",
       "Tags_In confusion whether part time or DLP                 3.6954      1.781      2.075      0.038       0.205       7.186\n",
       "Tags_Interested  in full time MBA                          1.5007      1.065      1.409      0.159      -0.588       3.589\n",
       "Tags_Interested in Next batch                             26.1570   4.44e+04      0.001      1.000   -8.69e+04     8.7e+04\n",
       "Tags_Interested in other courses                           1.4498      0.846      1.713      0.087      -0.209       3.108\n",
       "Tags_Lateral student                                      27.8525   4.33e+04      0.001      0.999   -8.49e+04     8.5e+04\n",
       "Tags_Lost                                                  8.2778      0.844      9.805      0.000       6.623       9.933\n",
       "Tags_No Phone Number                                      -0.8771      1.284     -0.683      0.495      -3.393       1.639\n",
       "Tags_Not Eligible/Not Interested                           0.7150      1.271      0.563      0.574      -1.776       3.206\n",
       "Tags_Others                                                3.5859      0.754      4.758      0.000       2.109       5.063\n",
       "Tags_Recognition issue (DEC approval)                    -18.9931   7.95e+04     -0.000      1.000   -1.56e+05    1.56e+05\n",
       "Tags_Shall take in the next coming month                   4.6926      1.666      2.817      0.005       1.427       7.958\n",
       "Tags_Still Thinking                                      -19.6374   3.86e+04     -0.001      1.000   -7.57e+04    7.57e+04\n",
       "Tags_Try Calling again                                     1.5276      0.765      1.997      0.046       0.028       3.027\n",
       "Tags_University not recognized                           -17.7305   7.95e+04     -0.000      1.000   -1.56e+05    1.56e+05\n",
       "Tags_Want to take admission but has financial problems   -19.1876   4.19e+04     -0.000      1.000   -8.21e+04     8.2e+04\n",
       "Tags_Will revert after reading the email                   8.0498      0.776     10.379      0.000       6.530       9.570\n",
       "Tags_in touch with EINS                                    3.5766      1.326      2.697      0.007       0.977       6.176\n",
       "City_Other Cities                                          0.0589      0.220      0.268      0.789      -0.372       0.490\n",
       "City_Other Cities of Maharashtra                          -0.0717      0.265     -0.271      0.786      -0.590       0.447\n",
       "City_Other Metro Cities                                   -0.3023      0.306     -0.986      0.324      -0.903       0.298\n",
       "City_Thane & Outskirts                                    -0.3044      0.226     -1.346      0.178      -0.748       0.139\n",
       "City_Tier II Cities                                        0.4444      0.553      0.804      0.421      -0.639       1.528\n",
       "Last Notable Activity_Email Opened                         1.4595      0.691      2.113      0.035       0.105       2.814\n",
       "Last Notable Activity_Modified                             0.3954      0.642      0.616      0.538      -0.863       1.654\n",
       "Last Notable Activity_Olark Chat Conversation              0.4238      0.793      0.534      0.593      -1.131       1.978\n",
       "Last Notable Activity_Other                                2.2636      0.936      2.419      0.016       0.430       4.098\n",
       "Last Notable Activity_Page Visited on Website              1.1061      0.816      1.356      0.175      -0.492       2.705\n",
       "Last Notable Activity_SMS Sent                             2.5787      0.679      3.799      0.000       1.248       3.909\n",
       "==========================================================================================================================\n",
       "\"\"\""
      ]
     },
     "execution_count": 228,
     "metadata": {},
     "output_type": "execute_result"
    }
   ],
   "source": [
    "logregmod=sm.GLM(y_train,(sm.add_constant(X_train)),family=sm.families.Binomial())\n",
    "logregmod.fit().summary()"
   ]
  },
  {
   "cell_type": "markdown",
   "id": "df77cb25",
   "metadata": {},
   "source": [
    "#### Feature Selection Using RFE"
   ]
  },
  {
   "cell_type": "code",
   "execution_count": 229,
   "id": "e0d91053",
   "metadata": {},
   "outputs": [
    {
     "data": {
      "text/plain": [
       "array([False, False,  True, False, False, False,  True, False, False,\n",
       "        True, False, False, False, False, False,  True, False, False,\n",
       "       False, False, False, False,  True, False, False, False, False,\n",
       "       False, False, False, False, False, False, False, False, False,\n",
       "       False, False,  True, False, False, False, False, False,  True,\n",
       "        True,  True,  True,  True, False, False, False, False, False,\n",
       "       False,  True, False, False, False, False, False, False, False,\n",
       "        True,  True, False, False,  True])"
      ]
     },
     "execution_count": 229,
     "metadata": {},
     "output_type": "execute_result"
    }
   ],
   "source": [
    "logregmod=LogisticRegression()\n",
    "rfe=RFE(logregmod,15)\n",
    "rfe = rfe.fit(X_train,y_train)\n",
    "rfe.support_"
   ]
  },
  {
   "cell_type": "code",
   "execution_count": 230,
   "id": "0c6b86da",
   "metadata": {},
   "outputs": [
    {
     "data": {
      "text/plain": [
       "[('Do Not Email', False, 5),\n",
       " ('TotalVisits', False, 31),\n",
       " ('Total Time Spent on Website', True, 1),\n",
       " ('Page Views Per Visit', False, 32),\n",
       " ('A free copy of Mastering The Interview', False, 34),\n",
       " ('Lead Origin_Landing Page Submission', False, 14),\n",
       " ('Lead Origin_Lead Add Form', True, 1),\n",
       " ('Lead Origin_Lead Import', False, 17),\n",
       " ('Lead Source_Google', False, 51),\n",
       " ('Lead Source_Olark Chat', True, 1),\n",
       " ('Lead Source_Organic Search', False, 43),\n",
       " ('Lead Source_Others', False, 4),\n",
       " ('Lead Source_Reference', False, 13),\n",
       " ('Lead Source_Referral Sites', False, 45),\n",
       " ('Lead Source_Social Media', False, 26),\n",
       " ('Lead Source_Welingak Website', True, 1),\n",
       " ('Last Activity_Email Bounced', False, 21),\n",
       " ('Last Activity_Email Link Clicked', False, 46),\n",
       " ('Last Activity_Email Opened', False, 11),\n",
       " ('Last Activity_Form Submitted on Website', False, 40),\n",
       " ('Last Activity_Olark Chat Conversation', False, 22),\n",
       " ('Last Activity_Page Visited on Website', False, 48),\n",
       " ('Last Activity_SMS Sent', True, 1),\n",
       " ('Last Activity_others', False, 10),\n",
       " ('Specialization_Business Administration', False, 52),\n",
       " ('Specialization_E-Business', False, 35),\n",
       " ('Specialization_International Business', False, 44),\n",
       " ('Specialization_Management', False, 37),\n",
       " ('Specialization_Media and Advertising', False, 39),\n",
       " ('Specialization_Others', False, 36),\n",
       " ('Specialization_Rural and Agribusiness', False, 29),\n",
       " ('Specialization_Services Excellence', False, 53),\n",
       " ('Specialization_Travel and Tourism', False, 18),\n",
       " ('What is your current occupation_Housewife', False, 38),\n",
       " ('What is your current occupation_Other', False, 28),\n",
       " ('What is your current occupation_Student', False, 8),\n",
       " ('What is your current occupation_Unemployed', False, 9),\n",
       " ('What is your current occupation_Working Professional', False, 50),\n",
       " ('Tags_Closed by Horizzon', True, 1),\n",
       " ('Tags_Graduation in progress', False, 33),\n",
       " ('Tags_In confusion whether part time or DLP', False, 23),\n",
       " ('Tags_Interested  in full time MBA', False, 7),\n",
       " ('Tags_Interested in Next batch', False, 6),\n",
       " ('Tags_Interested in other courses', False, 3),\n",
       " ('Tags_Lateral student', True, 1),\n",
       " ('Tags_Lost', True, 1),\n",
       " ('Tags_No Phone Number', True, 1),\n",
       " ('Tags_Not Eligible/Not Interested', True, 1),\n",
       " ('Tags_Others', True, 1),\n",
       " ('Tags_Recognition issue (DEC approval)', False, 42),\n",
       " ('Tags_Shall take in the next coming month', False, 12),\n",
       " ('Tags_Still Thinking', False, 15),\n",
       " ('Tags_Try Calling again', False, 2),\n",
       " ('Tags_University not recognized', False, 47),\n",
       " ('Tags_Want to take admission but has financial problems', False, 19),\n",
       " ('Tags_Will revert after reading the email', True, 1),\n",
       " ('Tags_in touch with EINS', False, 20),\n",
       " ('City_Other Cities', False, 54),\n",
       " ('City_Other Cities of Maharashtra', False, 49),\n",
       " ('City_Other Metro Cities', False, 24),\n",
       " ('City_Thane & Outskirts', False, 27),\n",
       " ('City_Tier II Cities', False, 25),\n",
       " ('Last Notable Activity_Email Opened', False, 41),\n",
       " ('Last Notable Activity_Modified', True, 1),\n",
       " ('Last Notable Activity_Olark Chat Conversation', True, 1),\n",
       " ('Last Notable Activity_Other', False, 16),\n",
       " ('Last Notable Activity_Page Visited on Website', False, 30),\n",
       " ('Last Notable Activity_SMS Sent', True, 1)]"
      ]
     },
     "execution_count": 230,
     "metadata": {},
     "output_type": "execute_result"
    }
   ],
   "source": [
    "list(zip(X_train.columns,rfe.support_,rfe.ranking_))"
   ]
  },
  {
   "cell_type": "code",
   "execution_count": 231,
   "id": "08e2b931",
   "metadata": {},
   "outputs": [
    {
     "data": {
      "text/plain": [
       "Index(['Total Time Spent on Website', 'Lead Origin_Lead Add Form',\n",
       "       'Lead Source_Olark Chat', 'Lead Source_Welingak Website',\n",
       "       'Last Activity_SMS Sent', 'Tags_Closed by Horizzon',\n",
       "       'Tags_Lateral student', 'Tags_Lost', 'Tags_No Phone Number',\n",
       "       'Tags_Not Eligible/Not Interested', 'Tags_Others',\n",
       "       'Tags_Will revert after reading the email',\n",
       "       'Last Notable Activity_Modified',\n",
       "       'Last Notable Activity_Olark Chat Conversation',\n",
       "       'Last Notable Activity_SMS Sent'],\n",
       "      dtype='object')"
      ]
     },
     "execution_count": 231,
     "metadata": {},
     "output_type": "execute_result"
    }
   ],
   "source": [
    "cols = X_train.columns[rfe.support_]\n",
    "cols"
   ]
  },
  {
   "cell_type": "markdown",
   "id": "2fae6c67",
   "metadata": {},
   "source": [
    "#### Assesing the model with StatsModels"
   ]
  },
  {
   "cell_type": "markdown",
   "id": "7b553b83",
   "metadata": {},
   "source": [
    "### Model 1"
   ]
  },
  {
   "cell_type": "code",
   "execution_count": 232,
   "id": "248022d7",
   "metadata": {},
   "outputs": [
    {
     "data": {
      "text/html": [
       "<table class=\"simpletable\">\n",
       "<caption>Generalized Linear Model Regression Results</caption>\n",
       "<tr>\n",
       "  <th>Dep. Variable:</th>      <td>Converted</td>    <th>  No. Observations:  </th>  <td>  6194</td>  \n",
       "</tr>\n",
       "<tr>\n",
       "  <th>Model:</th>                 <td>GLM</td>       <th>  Df Residuals:      </th>  <td>  6178</td>  \n",
       "</tr>\n",
       "<tr>\n",
       "  <th>Model Family:</th>       <td>Binomial</td>     <th>  Df Model:          </th>  <td>    15</td>  \n",
       "</tr>\n",
       "<tr>\n",
       "  <th>Link Function:</th>        <td>logit</td>      <th>  Scale:             </th> <td>  1.0000</td> \n",
       "</tr>\n",
       "<tr>\n",
       "  <th>Method:</th>               <td>IRLS</td>       <th>  Log-Likelihood:    </th> <td> -1336.7</td> \n",
       "</tr>\n",
       "<tr>\n",
       "  <th>Date:</th>           <td>Sat, 25 Feb 2023</td> <th>  Deviance:          </th> <td>  2673.3</td> \n",
       "</tr>\n",
       "<tr>\n",
       "  <th>Time:</th>               <td>13:46:46</td>     <th>  Pearson chi2:      </th> <td>7.44e+03</td> \n",
       "</tr>\n",
       "<tr>\n",
       "  <th>No. Iterations:</th>        <td>20</td>        <th>  Covariance Type:   </th> <td>nonrobust</td>\n",
       "</tr>\n",
       "</table>\n",
       "<table class=\"simpletable\">\n",
       "<tr>\n",
       "                        <td></td>                           <th>coef</th>     <th>std err</th>      <th>z</th>      <th>P>|z|</th>  <th>[0.025</th>    <th>0.975]</th>  \n",
       "</tr>\n",
       "<tr>\n",
       "  <th>const</th>                                         <td>   -3.8230</td> <td>    0.148</td> <td>  -25.917</td> <td> 0.000</td> <td>   -4.112</td> <td>   -3.534</td>\n",
       "</tr>\n",
       "<tr>\n",
       "  <th>Total Time Spent on Website</th>                   <td>    1.1121</td> <td>    0.058</td> <td>   19.054</td> <td> 0.000</td> <td>    0.998</td> <td>    1.227</td>\n",
       "</tr>\n",
       "<tr>\n",
       "  <th>Lead Origin_Lead Add Form</th>                     <td>    1.6419</td> <td>    0.360</td> <td>    4.555</td> <td> 0.000</td> <td>    0.935</td> <td>    2.348</td>\n",
       "</tr>\n",
       "<tr>\n",
       "  <th>Lead Source_Olark Chat</th>                        <td>    1.3173</td> <td>    0.141</td> <td>    9.355</td> <td> 0.000</td> <td>    1.041</td> <td>    1.593</td>\n",
       "</tr>\n",
       "<tr>\n",
       "  <th>Lead Source_Welingak Website</th>                  <td>    3.7177</td> <td>    0.811</td> <td>    4.582</td> <td> 0.000</td> <td>    2.127</td> <td>    5.308</td>\n",
       "</tr>\n",
       "<tr>\n",
       "  <th>Last Activity_SMS Sent</th>                        <td>    1.3467</td> <td>    0.224</td> <td>    6.002</td> <td> 0.000</td> <td>    0.907</td> <td>    1.786</td>\n",
       "</tr>\n",
       "<tr>\n",
       "  <th>Tags_Closed by Horizzon</th>                       <td>    8.6212</td> <td>    0.745</td> <td>   11.567</td> <td> 0.000</td> <td>    7.160</td> <td>   10.082</td>\n",
       "</tr>\n",
       "<tr>\n",
       "  <th>Tags_Lateral student</th>                          <td>   24.5987</td> <td> 1.57e+04</td> <td>    0.002</td> <td> 0.999</td> <td>-3.07e+04</td> <td> 3.08e+04</td>\n",
       "</tr>\n",
       "<tr>\n",
       "  <th>Tags_Lost</th>                                     <td>    6.7430</td> <td>    0.396</td> <td>   17.013</td> <td> 0.000</td> <td>    5.966</td> <td>    7.520</td>\n",
       "</tr>\n",
       "<tr>\n",
       "  <th>Tags_No Phone Number</th>                          <td>   -2.5601</td> <td>    1.037</td> <td>   -2.470</td> <td> 0.014</td> <td>   -4.592</td> <td>   -0.529</td>\n",
       "</tr>\n",
       "<tr>\n",
       "  <th>Tags_Not Eligible/Not Interested</th>              <td>   -1.0320</td> <td>    1.026</td> <td>   -1.006</td> <td> 0.314</td> <td>   -3.043</td> <td>    0.979</td>\n",
       "</tr>\n",
       "<tr>\n",
       "  <th>Tags_Others</th>                                   <td>    2.1167</td> <td>    0.136</td> <td>   15.585</td> <td> 0.000</td> <td>    1.851</td> <td>    2.383</td>\n",
       "</tr>\n",
       "<tr>\n",
       "  <th>Tags_Will revert after reading the email</th>      <td>    6.5686</td> <td>    0.216</td> <td>   30.381</td> <td> 0.000</td> <td>    6.145</td> <td>    6.992</td>\n",
       "</tr>\n",
       "<tr>\n",
       "  <th>Last Notable Activity_Modified</th>                <td>   -1.4250</td> <td>    0.148</td> <td>   -9.617</td> <td> 0.000</td> <td>   -1.715</td> <td>   -1.135</td>\n",
       "</tr>\n",
       "<tr>\n",
       "  <th>Last Notable Activity_Olark Chat Conversation</th> <td>   -1.5094</td> <td>    0.400</td> <td>   -3.770</td> <td> 0.000</td> <td>   -2.294</td> <td>   -0.725</td>\n",
       "</tr>\n",
       "<tr>\n",
       "  <th>Last Notable Activity_SMS Sent</th>                <td>    0.8331</td> <td>    0.256</td> <td>    3.253</td> <td> 0.001</td> <td>    0.331</td> <td>    1.335</td>\n",
       "</tr>\n",
       "</table>"
      ],
      "text/plain": [
       "<class 'statsmodels.iolib.summary.Summary'>\n",
       "\"\"\"\n",
       "                 Generalized Linear Model Regression Results                  \n",
       "==============================================================================\n",
       "Dep. Variable:              Converted   No. Observations:                 6194\n",
       "Model:                            GLM   Df Residuals:                     6178\n",
       "Model Family:                Binomial   Df Model:                           15\n",
       "Link Function:                  logit   Scale:                          1.0000\n",
       "Method:                          IRLS   Log-Likelihood:                -1336.7\n",
       "Date:                Sat, 25 Feb 2023   Deviance:                       2673.3\n",
       "Time:                        13:46:46   Pearson chi2:                 7.44e+03\n",
       "No. Iterations:                    20   Covariance Type:             nonrobust\n",
       "=================================================================================================================\n",
       "                                                    coef    std err          z      P>|z|      [0.025      0.975]\n",
       "-----------------------------------------------------------------------------------------------------------------\n",
       "const                                            -3.8230      0.148    -25.917      0.000      -4.112      -3.534\n",
       "Total Time Spent on Website                       1.1121      0.058     19.054      0.000       0.998       1.227\n",
       "Lead Origin_Lead Add Form                         1.6419      0.360      4.555      0.000       0.935       2.348\n",
       "Lead Source_Olark Chat                            1.3173      0.141      9.355      0.000       1.041       1.593\n",
       "Lead Source_Welingak Website                      3.7177      0.811      4.582      0.000       2.127       5.308\n",
       "Last Activity_SMS Sent                            1.3467      0.224      6.002      0.000       0.907       1.786\n",
       "Tags_Closed by Horizzon                           8.6212      0.745     11.567      0.000       7.160      10.082\n",
       "Tags_Lateral student                             24.5987   1.57e+04      0.002      0.999   -3.07e+04    3.08e+04\n",
       "Tags_Lost                                         6.7430      0.396     17.013      0.000       5.966       7.520\n",
       "Tags_No Phone Number                             -2.5601      1.037     -2.470      0.014      -4.592      -0.529\n",
       "Tags_Not Eligible/Not Interested                 -1.0320      1.026     -1.006      0.314      -3.043       0.979\n",
       "Tags_Others                                       2.1167      0.136     15.585      0.000       1.851       2.383\n",
       "Tags_Will revert after reading the email          6.5686      0.216     30.381      0.000       6.145       6.992\n",
       "Last Notable Activity_Modified                   -1.4250      0.148     -9.617      0.000      -1.715      -1.135\n",
       "Last Notable Activity_Olark Chat Conversation    -1.5094      0.400     -3.770      0.000      -2.294      -0.725\n",
       "Last Notable Activity_SMS Sent                    0.8331      0.256      3.253      0.001       0.331       1.335\n",
       "=================================================================================================================\n",
       "\"\"\""
      ]
     },
     "execution_count": 232,
     "metadata": {},
     "output_type": "execute_result"
    }
   ],
   "source": [
    "logregmod1 = sm.GLM(y_train,(sm.add_constant(X_train[cols])),family=sm.families.Binomial())\n",
    "res = logregmod1.fit()\n",
    "res.summary()"
   ]
  },
  {
   "cell_type": "code",
   "execution_count": 233,
   "id": "f88cf052",
   "metadata": {},
   "outputs": [
    {
     "data": {
      "text/html": [
       "<div>\n",
       "<style scoped>\n",
       "    .dataframe tbody tr th:only-of-type {\n",
       "        vertical-align: middle;\n",
       "    }\n",
       "\n",
       "    .dataframe tbody tr th {\n",
       "        vertical-align: top;\n",
       "    }\n",
       "\n",
       "    .dataframe thead th {\n",
       "        text-align: right;\n",
       "    }\n",
       "</style>\n",
       "<table border=\"1\" class=\"dataframe\">\n",
       "  <thead>\n",
       "    <tr style=\"text-align: right;\">\n",
       "      <th></th>\n",
       "      <th>Features</th>\n",
       "      <th>VIF</th>\n",
       "    </tr>\n",
       "  </thead>\n",
       "  <tbody>\n",
       "    <tr>\n",
       "      <th>14</th>\n",
       "      <td>Last Notable Activity_SMS Sent</td>\n",
       "      <td>6.06</td>\n",
       "    </tr>\n",
       "    <tr>\n",
       "      <th>4</th>\n",
       "      <td>Last Activity_SMS Sent</td>\n",
       "      <td>6.04</td>\n",
       "    </tr>\n",
       "    <tr>\n",
       "      <th>1</th>\n",
       "      <td>Lead Origin_Lead Add Form</td>\n",
       "      <td>1.83</td>\n",
       "    </tr>\n",
       "    <tr>\n",
       "      <th>12</th>\n",
       "      <td>Last Notable Activity_Modified</td>\n",
       "      <td>1.73</td>\n",
       "    </tr>\n",
       "    <tr>\n",
       "      <th>11</th>\n",
       "      <td>Tags_Will revert after reading the email</td>\n",
       "      <td>1.68</td>\n",
       "    </tr>\n",
       "    <tr>\n",
       "      <th>2</th>\n",
       "      <td>Lead Source_Olark Chat</td>\n",
       "      <td>1.65</td>\n",
       "    </tr>\n",
       "    <tr>\n",
       "      <th>10</th>\n",
       "      <td>Tags_Others</td>\n",
       "      <td>1.65</td>\n",
       "    </tr>\n",
       "    <tr>\n",
       "      <th>0</th>\n",
       "      <td>Total Time Spent on Website</td>\n",
       "      <td>1.47</td>\n",
       "    </tr>\n",
       "    <tr>\n",
       "      <th>3</th>\n",
       "      <td>Lead Source_Welingak Website</td>\n",
       "      <td>1.33</td>\n",
       "    </tr>\n",
       "    <tr>\n",
       "      <th>5</th>\n",
       "      <td>Tags_Closed by Horizzon</td>\n",
       "      <td>1.21</td>\n",
       "    </tr>\n",
       "    <tr>\n",
       "      <th>13</th>\n",
       "      <td>Last Notable Activity_Olark Chat Conversation</td>\n",
       "      <td>1.07</td>\n",
       "    </tr>\n",
       "    <tr>\n",
       "      <th>7</th>\n",
       "      <td>Tags_Lost</td>\n",
       "      <td>1.06</td>\n",
       "    </tr>\n",
       "    <tr>\n",
       "      <th>9</th>\n",
       "      <td>Tags_Not Eligible/Not Interested</td>\n",
       "      <td>1.04</td>\n",
       "    </tr>\n",
       "    <tr>\n",
       "      <th>8</th>\n",
       "      <td>Tags_No Phone Number</td>\n",
       "      <td>1.02</td>\n",
       "    </tr>\n",
       "    <tr>\n",
       "      <th>6</th>\n",
       "      <td>Tags_Lateral student</td>\n",
       "      <td>1.01</td>\n",
       "    </tr>\n",
       "  </tbody>\n",
       "</table>\n",
       "</div>"
      ],
      "text/plain": [
       "                                         Features   VIF\n",
       "14                 Last Notable Activity_SMS Sent  6.06\n",
       "4                          Last Activity_SMS Sent  6.04\n",
       "1                       Lead Origin_Lead Add Form  1.83\n",
       "12                 Last Notable Activity_Modified  1.73\n",
       "11       Tags_Will revert after reading the email  1.68\n",
       "2                          Lead Source_Olark Chat  1.65\n",
       "10                                    Tags_Others  1.65\n",
       "0                     Total Time Spent on Website  1.47\n",
       "3                    Lead Source_Welingak Website  1.33\n",
       "5                         Tags_Closed by Horizzon  1.21\n",
       "13  Last Notable Activity_Olark Chat Conversation  1.07\n",
       "7                                       Tags_Lost  1.06\n",
       "9                Tags_Not Eligible/Not Interested  1.04\n",
       "8                            Tags_No Phone Number  1.02\n",
       "6                            Tags_Lateral student  1.01"
      ]
     },
     "execution_count": 233,
     "metadata": {},
     "output_type": "execute_result"
    }
   ],
   "source": [
    "#Calculating VIF for the model\n",
    "#Calculate VIF of the model\n",
    "from statsmodels.stats.outliers_influence import variance_inflation_factor\n",
    "vif = pd.DataFrame()\n",
    "X = X_train[cols]\n",
    "vif['Features'] = X.columns\n",
    "vif['VIF'] = [variance_inflation_factor(X.values,i) for i in range(X.shape[1])]\n",
    "vif['VIF'] = round(vif['VIF'],2)\n",
    "vif.sort_values(by = 'VIF',ascending = False)"
   ]
  },
  {
   "cell_type": "markdown",
   "id": "3346860a",
   "metadata": {},
   "source": [
    "#### Model 2"
   ]
  },
  {
   "cell_type": "code",
   "execution_count": 234,
   "id": "55445f57",
   "metadata": {},
   "outputs": [
    {
     "data": {
      "text/html": [
       "<table class=\"simpletable\">\n",
       "<caption>Generalized Linear Model Regression Results</caption>\n",
       "<tr>\n",
       "  <th>Dep. Variable:</th>      <td>Converted</td>    <th>  No. Observations:  </th>  <td>  6194</td>  \n",
       "</tr>\n",
       "<tr>\n",
       "  <th>Model:</th>                 <td>GLM</td>       <th>  Df Residuals:      </th>  <td>  6181</td>  \n",
       "</tr>\n",
       "<tr>\n",
       "  <th>Model Family:</th>       <td>Binomial</td>     <th>  Df Model:          </th>  <td>    12</td>  \n",
       "</tr>\n",
       "<tr>\n",
       "  <th>Link Function:</th>        <td>logit</td>      <th>  Scale:             </th> <td>  1.0000</td> \n",
       "</tr>\n",
       "<tr>\n",
       "  <th>Method:</th>               <td>IRLS</td>       <th>  Log-Likelihood:    </th> <td> -1524.1</td> \n",
       "</tr>\n",
       "<tr>\n",
       "  <th>Date:</th>           <td>Sat, 25 Feb 2023</td> <th>  Deviance:          </th> <td>  3048.2</td> \n",
       "</tr>\n",
       "<tr>\n",
       "  <th>Time:</th>               <td>13:46:54</td>     <th>  Pearson chi2:      </th> <td>6.61e+03</td> \n",
       "</tr>\n",
       "<tr>\n",
       "  <th>No. Iterations:</th>         <td>8</td>        <th>  Covariance Type:   </th> <td>nonrobust</td>\n",
       "</tr>\n",
       "</table>\n",
       "<table class=\"simpletable\">\n",
       "<tr>\n",
       "                        <td></td>                           <th>coef</th>     <th>std err</th>      <th>z</th>      <th>P>|z|</th>  <th>[0.025</th>    <th>0.975]</th>  \n",
       "</tr>\n",
       "<tr>\n",
       "  <th>const</th>                                         <td>   -2.6617</td> <td>    0.110</td> <td>  -24.224</td> <td> 0.000</td> <td>   -2.877</td> <td>   -2.446</td>\n",
       "</tr>\n",
       "<tr>\n",
       "  <th>Total Time Spent on Website</th>                   <td>    1.1117</td> <td>    0.055</td> <td>   20.251</td> <td> 0.000</td> <td>    1.004</td> <td>    1.219</td>\n",
       "</tr>\n",
       "<tr>\n",
       "  <th>Lead Origin_Lead Add Form</th>                     <td>    2.2587</td> <td>    0.350</td> <td>    6.455</td> <td> 0.000</td> <td>    1.573</td> <td>    2.945</td>\n",
       "</tr>\n",
       "<tr>\n",
       "  <th>Lead Source_Olark Chat</th>                        <td>    1.1597</td> <td>    0.130</td> <td>    8.926</td> <td> 0.000</td> <td>    0.905</td> <td>    1.414</td>\n",
       "</tr>\n",
       "<tr>\n",
       "  <th>Lead Source_Welingak Website</th>                  <td>    3.3433</td> <td>    0.804</td> <td>    4.156</td> <td> 0.000</td> <td>    1.767</td> <td>    4.920</td>\n",
       "</tr>\n",
       "<tr>\n",
       "  <th>Tags_Closed by Horizzon</th>                       <td>    7.7473</td> <td>    0.736</td> <td>   10.521</td> <td> 0.000</td> <td>    6.304</td> <td>    9.191</td>\n",
       "</tr>\n",
       "<tr>\n",
       "  <th>Tags_Lost</th>                                     <td>    6.1140</td> <td>    0.390</td> <td>   15.678</td> <td> 0.000</td> <td>    5.350</td> <td>    6.878</td>\n",
       "</tr>\n",
       "<tr>\n",
       "  <th>Tags_No Phone Number</th>                          <td>   -2.2207</td> <td>    1.024</td> <td>   -2.169</td> <td> 0.030</td> <td>   -4.227</td> <td>   -0.214</td>\n",
       "</tr>\n",
       "<tr>\n",
       "  <th>Tags_Not Eligible/Not Interested</th>              <td>   -2.0415</td> <td>    1.026</td> <td>   -1.990</td> <td> 0.047</td> <td>   -4.052</td> <td>   -0.031</td>\n",
       "</tr>\n",
       "<tr>\n",
       "  <th>Tags_Others</th>                                   <td>    1.7200</td> <td>    0.119</td> <td>   14.431</td> <td> 0.000</td> <td>    1.486</td> <td>    1.954</td>\n",
       "</tr>\n",
       "<tr>\n",
       "  <th>Tags_Will revert after reading the email</th>      <td>    6.0773</td> <td>    0.198</td> <td>   30.654</td> <td> 0.000</td> <td>    5.689</td> <td>    6.466</td>\n",
       "</tr>\n",
       "<tr>\n",
       "  <th>Last Notable Activity_Modified</th>                <td>   -1.8029</td> <td>    0.117</td> <td>  -15.409</td> <td> 0.000</td> <td>   -2.032</td> <td>   -1.574</td>\n",
       "</tr>\n",
       "<tr>\n",
       "  <th>Last Notable Activity_Olark Chat Conversation</th> <td>   -2.1860</td> <td>    0.396</td> <td>   -5.523</td> <td> 0.000</td> <td>   -2.962</td> <td>   -1.410</td>\n",
       "</tr>\n",
       "</table>"
      ],
      "text/plain": [
       "<class 'statsmodels.iolib.summary.Summary'>\n",
       "\"\"\"\n",
       "                 Generalized Linear Model Regression Results                  \n",
       "==============================================================================\n",
       "Dep. Variable:              Converted   No. Observations:                 6194\n",
       "Model:                            GLM   Df Residuals:                     6181\n",
       "Model Family:                Binomial   Df Model:                           12\n",
       "Link Function:                  logit   Scale:                          1.0000\n",
       "Method:                          IRLS   Log-Likelihood:                -1524.1\n",
       "Date:                Sat, 25 Feb 2023   Deviance:                       3048.2\n",
       "Time:                        13:46:54   Pearson chi2:                 6.61e+03\n",
       "No. Iterations:                     8   Covariance Type:             nonrobust\n",
       "=================================================================================================================\n",
       "                                                    coef    std err          z      P>|z|      [0.025      0.975]\n",
       "-----------------------------------------------------------------------------------------------------------------\n",
       "const                                            -2.6617      0.110    -24.224      0.000      -2.877      -2.446\n",
       "Total Time Spent on Website                       1.1117      0.055     20.251      0.000       1.004       1.219\n",
       "Lead Origin_Lead Add Form                         2.2587      0.350      6.455      0.000       1.573       2.945\n",
       "Lead Source_Olark Chat                            1.1597      0.130      8.926      0.000       0.905       1.414\n",
       "Lead Source_Welingak Website                      3.3433      0.804      4.156      0.000       1.767       4.920\n",
       "Tags_Closed by Horizzon                           7.7473      0.736     10.521      0.000       6.304       9.191\n",
       "Tags_Lost                                         6.1140      0.390     15.678      0.000       5.350       6.878\n",
       "Tags_No Phone Number                             -2.2207      1.024     -2.169      0.030      -4.227      -0.214\n",
       "Tags_Not Eligible/Not Interested                 -2.0415      1.026     -1.990      0.047      -4.052      -0.031\n",
       "Tags_Others                                       1.7200      0.119     14.431      0.000       1.486       1.954\n",
       "Tags_Will revert after reading the email          6.0773      0.198     30.654      0.000       5.689       6.466\n",
       "Last Notable Activity_Modified                   -1.8029      0.117    -15.409      0.000      -2.032      -1.574\n",
       "Last Notable Activity_Olark Chat Conversation    -2.1860      0.396     -5.523      0.000      -2.962      -1.410\n",
       "=================================================================================================================\n",
       "\"\"\""
      ]
     },
     "execution_count": 234,
     "metadata": {},
     "output_type": "execute_result"
    }
   ],
   "source": [
    "cols = cols.drop('Tags_Lateral student')\n",
    "cols = cols.drop('Last Notable Activity_SMS Sent')\n",
    "cols = cols.drop('Last Activity_SMS Sent')\n",
    "logregmod2 = sm.GLM(y_train,(sm.add_constant(X_train[cols])),family = sm.families.Binomial())\n",
    "res = logregmod2.fit()\n",
    "res.summary()"
   ]
  },
  {
   "cell_type": "code",
   "execution_count": 235,
   "id": "64a6ac80",
   "metadata": {},
   "outputs": [
    {
     "data": {
      "text/html": [
       "<div>\n",
       "<style scoped>\n",
       "    .dataframe tbody tr th:only-of-type {\n",
       "        vertical-align: middle;\n",
       "    }\n",
       "\n",
       "    .dataframe tbody tr th {\n",
       "        vertical-align: top;\n",
       "    }\n",
       "\n",
       "    .dataframe thead th {\n",
       "        text-align: right;\n",
       "    }\n",
       "</style>\n",
       "<table border=\"1\" class=\"dataframe\">\n",
       "  <thead>\n",
       "    <tr style=\"text-align: right;\">\n",
       "      <th></th>\n",
       "      <th>Features</th>\n",
       "      <th>VIF</th>\n",
       "    </tr>\n",
       "  </thead>\n",
       "  <tbody>\n",
       "    <tr>\n",
       "      <th>1</th>\n",
       "      <td>Lead Origin_Lead Add Form</td>\n",
       "      <td>1.810657</td>\n",
       "    </tr>\n",
       "    <tr>\n",
       "      <th>2</th>\n",
       "      <td>Lead Source_Olark Chat</td>\n",
       "      <td>1.621037</td>\n",
       "    </tr>\n",
       "    <tr>\n",
       "      <th>8</th>\n",
       "      <td>Tags_Others</td>\n",
       "      <td>1.540501</td>\n",
       "    </tr>\n",
       "    <tr>\n",
       "      <th>0</th>\n",
       "      <td>Total Time Spent on Website</td>\n",
       "      <td>1.465145</td>\n",
       "    </tr>\n",
       "    <tr>\n",
       "      <th>10</th>\n",
       "      <td>Last Notable Activity_Modified</td>\n",
       "      <td>1.454311</td>\n",
       "    </tr>\n",
       "    <tr>\n",
       "      <th>9</th>\n",
       "      <td>Tags_Will revert after reading the email</td>\n",
       "      <td>1.399377</td>\n",
       "    </tr>\n",
       "    <tr>\n",
       "      <th>3</th>\n",
       "      <td>Lead Source_Welingak Website</td>\n",
       "      <td>1.327094</td>\n",
       "    </tr>\n",
       "    <tr>\n",
       "      <th>4</th>\n",
       "      <td>Tags_Closed by Horizzon</td>\n",
       "      <td>1.211620</td>\n",
       "    </tr>\n",
       "    <tr>\n",
       "      <th>11</th>\n",
       "      <td>Last Notable Activity_Olark Chat Conversation</td>\n",
       "      <td>1.061252</td>\n",
       "    </tr>\n",
       "    <tr>\n",
       "      <th>5</th>\n",
       "      <td>Tags_Lost</td>\n",
       "      <td>1.058185</td>\n",
       "    </tr>\n",
       "    <tr>\n",
       "      <th>7</th>\n",
       "      <td>Tags_Not Eligible/Not Interested</td>\n",
       "      <td>1.036098</td>\n",
       "    </tr>\n",
       "    <tr>\n",
       "      <th>6</th>\n",
       "      <td>Tags_No Phone Number</td>\n",
       "      <td>1.005999</td>\n",
       "    </tr>\n",
       "  </tbody>\n",
       "</table>\n",
       "</div>"
      ],
      "text/plain": [
       "                                         Features       VIF\n",
       "1                       Lead Origin_Lead Add Form  1.810657\n",
       "2                          Lead Source_Olark Chat  1.621037\n",
       "8                                     Tags_Others  1.540501\n",
       "0                     Total Time Spent on Website  1.465145\n",
       "10                 Last Notable Activity_Modified  1.454311\n",
       "9        Tags_Will revert after reading the email  1.399377\n",
       "3                    Lead Source_Welingak Website  1.327094\n",
       "4                         Tags_Closed by Horizzon  1.211620\n",
       "11  Last Notable Activity_Olark Chat Conversation  1.061252\n",
       "5                                       Tags_Lost  1.058185\n",
       "7                Tags_Not Eligible/Not Interested  1.036098\n",
       "6                            Tags_No Phone Number  1.005999"
      ]
     },
     "execution_count": 235,
     "metadata": {},
     "output_type": "execute_result"
    }
   ],
   "source": [
    "#Verifying VIF\n",
    "vif = pd.DataFrame()\n",
    "X = X_train[cols]\n",
    "vif['Features'] = X.columns\n",
    "vif['VIF'] = [variance_inflation_factor(X.values,i) for i in range(X.shape[1])]\n",
    "vif.sort_values(by ='VIF', ascending = False)"
   ]
  },
  {
   "cell_type": "markdown",
   "id": "fc8883b1",
   "metadata": {},
   "source": [
    "#### Model 3"
   ]
  },
  {
   "cell_type": "code",
   "execution_count": 236,
   "id": "8575e6c2",
   "metadata": {},
   "outputs": [
    {
     "data": {
      "text/html": [
       "<table class=\"simpletable\">\n",
       "<caption>Generalized Linear Model Regression Results</caption>\n",
       "<tr>\n",
       "  <th>Dep. Variable:</th>      <td>Converted</td>    <th>  No. Observations:  </th>  <td>  6194</td>  \n",
       "</tr>\n",
       "<tr>\n",
       "  <th>Model:</th>                 <td>GLM</td>       <th>  Df Residuals:      </th>  <td>  6182</td>  \n",
       "</tr>\n",
       "<tr>\n",
       "  <th>Model Family:</th>       <td>Binomial</td>     <th>  Df Model:          </th>  <td>    11</td>  \n",
       "</tr>\n",
       "<tr>\n",
       "  <th>Link Function:</th>        <td>logit</td>      <th>  Scale:             </th> <td>  1.0000</td> \n",
       "</tr>\n",
       "<tr>\n",
       "  <th>Method:</th>               <td>IRLS</td>       <th>  Log-Likelihood:    </th> <td> -1527.9</td> \n",
       "</tr>\n",
       "<tr>\n",
       "  <th>Date:</th>           <td>Sat, 25 Feb 2023</td> <th>  Deviance:          </th> <td>  3055.9</td> \n",
       "</tr>\n",
       "<tr>\n",
       "  <th>Time:</th>               <td>13:47:01</td>     <th>  Pearson chi2:      </th> <td>6.69e+03</td> \n",
       "</tr>\n",
       "<tr>\n",
       "  <th>No. Iterations:</th>         <td>8</td>        <th>  Covariance Type:   </th> <td>nonrobust</td>\n",
       "</tr>\n",
       "</table>\n",
       "<table class=\"simpletable\">\n",
       "<tr>\n",
       "                        <td></td>                           <th>coef</th>     <th>std err</th>      <th>z</th>      <th>P>|z|</th>  <th>[0.025</th>    <th>0.975]</th>  \n",
       "</tr>\n",
       "<tr>\n",
       "  <th>const</th>                                         <td>   -2.7082</td> <td>    0.110</td> <td>  -24.732</td> <td> 0.000</td> <td>   -2.923</td> <td>   -2.494</td>\n",
       "</tr>\n",
       "<tr>\n",
       "  <th>Total Time Spent on Website</th>                   <td>    1.1086</td> <td>    0.055</td> <td>   20.246</td> <td> 0.000</td> <td>    1.001</td> <td>    1.216</td>\n",
       "</tr>\n",
       "<tr>\n",
       "  <th>Lead Origin_Lead Add Form</th>                     <td>    2.2512</td> <td>    0.349</td> <td>    6.450</td> <td> 0.000</td> <td>    1.567</td> <td>    2.935</td>\n",
       "</tr>\n",
       "<tr>\n",
       "  <th>Lead Source_Olark Chat</th>                        <td>    1.1552</td> <td>    0.130</td> <td>    8.904</td> <td> 0.000</td> <td>    0.901</td> <td>    1.410</td>\n",
       "</tr>\n",
       "<tr>\n",
       "  <th>Lead Source_Welingak Website</th>                  <td>    3.3466</td> <td>    0.804</td> <td>    4.162</td> <td> 0.000</td> <td>    1.771</td> <td>    4.923</td>\n",
       "</tr>\n",
       "<tr>\n",
       "  <th>Tags_Closed by Horizzon</th>                       <td>    7.8015</td> <td>    0.736</td> <td>   10.597</td> <td> 0.000</td> <td>    6.359</td> <td>    9.244</td>\n",
       "</tr>\n",
       "<tr>\n",
       "  <th>Tags_Lost</th>                                     <td>    6.1673</td> <td>    0.390</td> <td>   15.826</td> <td> 0.000</td> <td>    5.404</td> <td>    6.931</td>\n",
       "</tr>\n",
       "<tr>\n",
       "  <th>Tags_No Phone Number</th>                          <td>   -2.1709</td> <td>    1.024</td> <td>   -2.121</td> <td> 0.034</td> <td>   -4.177</td> <td>   -0.165</td>\n",
       "</tr>\n",
       "<tr>\n",
       "  <th>Tags_Others</th>                                   <td>    1.7697</td> <td>    0.119</td> <td>   14.922</td> <td> 0.000</td> <td>    1.537</td> <td>    2.002</td>\n",
       "</tr>\n",
       "<tr>\n",
       "  <th>Tags_Will revert after reading the email</th>      <td>    6.1275</td> <td>    0.198</td> <td>   30.962</td> <td> 0.000</td> <td>    5.740</td> <td>    6.515</td>\n",
       "</tr>\n",
       "<tr>\n",
       "  <th>Last Notable Activity_Modified</th>                <td>   -1.8099</td> <td>    0.117</td> <td>  -15.495</td> <td> 0.000</td> <td>   -2.039</td> <td>   -1.581</td>\n",
       "</tr>\n",
       "<tr>\n",
       "  <th>Last Notable Activity_Olark Chat Conversation</th> <td>   -2.1826</td> <td>    0.396</td> <td>   -5.514</td> <td> 0.000</td> <td>   -2.958</td> <td>   -1.407</td>\n",
       "</tr>\n",
       "</table>"
      ],
      "text/plain": [
       "<class 'statsmodels.iolib.summary.Summary'>\n",
       "\"\"\"\n",
       "                 Generalized Linear Model Regression Results                  \n",
       "==============================================================================\n",
       "Dep. Variable:              Converted   No. Observations:                 6194\n",
       "Model:                            GLM   Df Residuals:                     6182\n",
       "Model Family:                Binomial   Df Model:                           11\n",
       "Link Function:                  logit   Scale:                          1.0000\n",
       "Method:                          IRLS   Log-Likelihood:                -1527.9\n",
       "Date:                Sat, 25 Feb 2023   Deviance:                       3055.9\n",
       "Time:                        13:47:01   Pearson chi2:                 6.69e+03\n",
       "No. Iterations:                     8   Covariance Type:             nonrobust\n",
       "=================================================================================================================\n",
       "                                                    coef    std err          z      P>|z|      [0.025      0.975]\n",
       "-----------------------------------------------------------------------------------------------------------------\n",
       "const                                            -2.7082      0.110    -24.732      0.000      -2.923      -2.494\n",
       "Total Time Spent on Website                       1.1086      0.055     20.246      0.000       1.001       1.216\n",
       "Lead Origin_Lead Add Form                         2.2512      0.349      6.450      0.000       1.567       2.935\n",
       "Lead Source_Olark Chat                            1.1552      0.130      8.904      0.000       0.901       1.410\n",
       "Lead Source_Welingak Website                      3.3466      0.804      4.162      0.000       1.771       4.923\n",
       "Tags_Closed by Horizzon                           7.8015      0.736     10.597      0.000       6.359       9.244\n",
       "Tags_Lost                                         6.1673      0.390     15.826      0.000       5.404       6.931\n",
       "Tags_No Phone Number                             -2.1709      1.024     -2.121      0.034      -4.177      -0.165\n",
       "Tags_Others                                       1.7697      0.119     14.922      0.000       1.537       2.002\n",
       "Tags_Will revert after reading the email          6.1275      0.198     30.962      0.000       5.740       6.515\n",
       "Last Notable Activity_Modified                   -1.8099      0.117    -15.495      0.000      -2.039      -1.581\n",
       "Last Notable Activity_Olark Chat Conversation    -2.1826      0.396     -5.514      0.000      -2.958      -1.407\n",
       "=================================================================================================================\n",
       "\"\"\""
      ]
     },
     "execution_count": 236,
     "metadata": {},
     "output_type": "execute_result"
    }
   ],
   "source": [
    "cols = cols.drop(\"Tags_Not Eligible/Not Interested\")\n",
    "logregmod3 = sm.GLM(y_train,(sm.add_constant(X_train[cols])),family = sm.families.Binomial())\n",
    "res = logregmod3.fit()\n",
    "res.summary()"
   ]
  },
  {
   "cell_type": "code",
   "execution_count": 237,
   "id": "d4f1e89e",
   "metadata": {},
   "outputs": [
    {
     "data": {
      "text/html": [
       "<div>\n",
       "<style scoped>\n",
       "    .dataframe tbody tr th:only-of-type {\n",
       "        vertical-align: middle;\n",
       "    }\n",
       "\n",
       "    .dataframe tbody tr th {\n",
       "        vertical-align: top;\n",
       "    }\n",
       "\n",
       "    .dataframe thead th {\n",
       "        text-align: right;\n",
       "    }\n",
       "</style>\n",
       "<table border=\"1\" class=\"dataframe\">\n",
       "  <thead>\n",
       "    <tr style=\"text-align: right;\">\n",
       "      <th></th>\n",
       "      <th>Features</th>\n",
       "      <th>VIF</th>\n",
       "    </tr>\n",
       "  </thead>\n",
       "  <tbody>\n",
       "    <tr>\n",
       "      <th>1</th>\n",
       "      <td>Lead Origin_Lead Add Form</td>\n",
       "      <td>1.810393</td>\n",
       "    </tr>\n",
       "    <tr>\n",
       "      <th>2</th>\n",
       "      <td>Lead Source_Olark Chat</td>\n",
       "      <td>1.620600</td>\n",
       "    </tr>\n",
       "    <tr>\n",
       "      <th>7</th>\n",
       "      <td>Tags_Others</td>\n",
       "      <td>1.529101</td>\n",
       "    </tr>\n",
       "    <tr>\n",
       "      <th>0</th>\n",
       "      <td>Total Time Spent on Website</td>\n",
       "      <td>1.465057</td>\n",
       "    </tr>\n",
       "    <tr>\n",
       "      <th>9</th>\n",
       "      <td>Last Notable Activity_Modified</td>\n",
       "      <td>1.406748</td>\n",
       "    </tr>\n",
       "    <tr>\n",
       "      <th>8</th>\n",
       "      <td>Tags_Will revert after reading the email</td>\n",
       "      <td>1.398212</td>\n",
       "    </tr>\n",
       "    <tr>\n",
       "      <th>3</th>\n",
       "      <td>Lead Source_Welingak Website</td>\n",
       "      <td>1.327067</td>\n",
       "    </tr>\n",
       "    <tr>\n",
       "      <th>4</th>\n",
       "      <td>Tags_Closed by Horizzon</td>\n",
       "      <td>1.209738</td>\n",
       "    </tr>\n",
       "    <tr>\n",
       "      <th>10</th>\n",
       "      <td>Last Notable Activity_Olark Chat Conversation</td>\n",
       "      <td>1.061018</td>\n",
       "    </tr>\n",
       "    <tr>\n",
       "      <th>5</th>\n",
       "      <td>Tags_Lost</td>\n",
       "      <td>1.056865</td>\n",
       "    </tr>\n",
       "    <tr>\n",
       "      <th>6</th>\n",
       "      <td>Tags_No Phone Number</td>\n",
       "      <td>1.005801</td>\n",
       "    </tr>\n",
       "  </tbody>\n",
       "</table>\n",
       "</div>"
      ],
      "text/plain": [
       "                                         Features       VIF\n",
       "1                       Lead Origin_Lead Add Form  1.810393\n",
       "2                          Lead Source_Olark Chat  1.620600\n",
       "7                                     Tags_Others  1.529101\n",
       "0                     Total Time Spent on Website  1.465057\n",
       "9                  Last Notable Activity_Modified  1.406748\n",
       "8        Tags_Will revert after reading the email  1.398212\n",
       "3                    Lead Source_Welingak Website  1.327067\n",
       "4                         Tags_Closed by Horizzon  1.209738\n",
       "10  Last Notable Activity_Olark Chat Conversation  1.061018\n",
       "5                                       Tags_Lost  1.056865\n",
       "6                            Tags_No Phone Number  1.005801"
      ]
     },
     "execution_count": 237,
     "metadata": {},
     "output_type": "execute_result"
    }
   ],
   "source": [
    "#Verifying VIF\n",
    "vif = pd.DataFrame()\n",
    "X = X_train[cols]\n",
    "vif['Features'] = X.columns\n",
    "vif['VIF'] = [variance_inflation_factor(X.values,i) for i in range(X.shape[1])]\n",
    "vif.sort_values(by ='VIF', ascending = False)"
   ]
  },
  {
   "cell_type": "markdown",
   "id": "58248179",
   "metadata": {},
   "source": [
    "All variables have good value of VIF and p-value. So we need not drop any more variables and we can proceed with making predictions using this model only"
   ]
  },
  {
   "cell_type": "markdown",
   "id": "8d16c7c1",
   "metadata": {},
   "source": [
    "#### Final Variables Selected are:"
   ]
  },
  {
   "cell_type": "code",
   "execution_count": 238,
   "id": "9fe4e17f",
   "metadata": {},
   "outputs": [
    {
     "data": {
      "text/plain": [
       "Index(['Total Time Spent on Website', 'Lead Origin_Lead Add Form',\n",
       "       'Lead Source_Olark Chat', 'Lead Source_Welingak Website',\n",
       "       'Tags_Closed by Horizzon', 'Tags_Lost', 'Tags_No Phone Number',\n",
       "       'Tags_Others', 'Tags_Will revert after reading the email',\n",
       "       'Last Notable Activity_Modified',\n",
       "       'Last Notable Activity_Olark Chat Conversation'],\n",
       "      dtype='object')"
      ]
     },
     "execution_count": 238,
     "metadata": {},
     "output_type": "execute_result"
    }
   ],
   "source": [
    "cols"
   ]
  },
  {
   "cell_type": "markdown",
   "id": "2587b4bd",
   "metadata": {},
   "source": [
    "### Step 6: Getting predicted values on train dataset"
   ]
  },
  {
   "cell_type": "code",
   "execution_count": 239,
   "id": "e59fd7c6",
   "metadata": {},
   "outputs": [
    {
     "data": {
      "text/plain": [
       "1217    0.188779\n",
       "4659    0.065939\n",
       "3614    0.954546\n",
       "2194    0.245332\n",
       "437     0.012846\n",
       "6448    0.073655\n",
       "3437    0.214411\n",
       "7161    0.014918\n",
       "8758    0.006171\n",
       "3991    0.074809\n",
       "dtype: float64"
      ]
     },
     "execution_count": 239,
     "metadata": {},
     "output_type": "execute_result"
    }
   ],
   "source": [
    "X_train_sm = sm.add_constant(X_train[cols])\n",
    "y_train_pred = res.predict(X_train_sm)\n",
    "y_train_pred[:10]"
   ]
  },
  {
   "cell_type": "code",
   "execution_count": 240,
   "id": "556bc84d",
   "metadata": {},
   "outputs": [
    {
     "data": {
      "text/plain": [
       "array([0.18877895, 0.06593932, 0.95454607, 0.24533211, 0.01284604,\n",
       "       0.07365541, 0.21441135, 0.01491821, 0.00617119, 0.07480866])"
      ]
     },
     "execution_count": 240,
     "metadata": {},
     "output_type": "execute_result"
    }
   ],
   "source": [
    "y_train_pred = y_train_pred.values.reshape(-1)\n",
    "y_train_pred[:10]"
   ]
  },
  {
   "cell_type": "code",
   "execution_count": 241,
   "id": "8ac9302a",
   "metadata": {},
   "outputs": [
    {
     "data": {
      "text/html": [
       "<div>\n",
       "<style scoped>\n",
       "    .dataframe tbody tr th:only-of-type {\n",
       "        vertical-align: middle;\n",
       "    }\n",
       "\n",
       "    .dataframe tbody tr th {\n",
       "        vertical-align: top;\n",
       "    }\n",
       "\n",
       "    .dataframe thead th {\n",
       "        text-align: right;\n",
       "    }\n",
       "</style>\n",
       "<table border=\"1\" class=\"dataframe\">\n",
       "  <thead>\n",
       "    <tr style=\"text-align: right;\">\n",
       "      <th></th>\n",
       "      <th>Lead_ID</th>\n",
       "      <th>Converted</th>\n",
       "      <th>Converted_prob</th>\n",
       "    </tr>\n",
       "  </thead>\n",
       "  <tbody>\n",
       "    <tr>\n",
       "      <th>0</th>\n",
       "      <td>1217</td>\n",
       "      <td>0</td>\n",
       "      <td>0.188779</td>\n",
       "    </tr>\n",
       "    <tr>\n",
       "      <th>1</th>\n",
       "      <td>4659</td>\n",
       "      <td>0</td>\n",
       "      <td>0.065939</td>\n",
       "    </tr>\n",
       "    <tr>\n",
       "      <th>2</th>\n",
       "      <td>3614</td>\n",
       "      <td>1</td>\n",
       "      <td>0.954546</td>\n",
       "    </tr>\n",
       "    <tr>\n",
       "      <th>3</th>\n",
       "      <td>2194</td>\n",
       "      <td>0</td>\n",
       "      <td>0.245332</td>\n",
       "    </tr>\n",
       "    <tr>\n",
       "      <th>4</th>\n",
       "      <td>437</td>\n",
       "      <td>0</td>\n",
       "      <td>0.012846</td>\n",
       "    </tr>\n",
       "  </tbody>\n",
       "</table>\n",
       "</div>"
      ],
      "text/plain": [
       "   Lead_ID  Converted  Converted_prob\n",
       "0     1217          0        0.188779\n",
       "1     4659          0        0.065939\n",
       "2     3614          1        0.954546\n",
       "3     2194          0        0.245332\n",
       "4      437          0        0.012846"
      ]
     },
     "execution_count": 241,
     "metadata": {},
     "output_type": "execute_result"
    }
   ],
   "source": [
    "#Creating a df with the actual and the predicted probabilities\n",
    "y_train_pred_final = pd.DataFrame()\n",
    "y_train_pred_final['Lead_ID'] = y_train.index\n",
    "y_train_pred_final['Converted'] = y_train.values\n",
    "y_train_pred_final['Converted_prob'] = y_train_pred\n",
    "y_train_pred_final.head()"
   ]
  },
  {
   "cell_type": "code",
   "execution_count": 242,
   "id": "b234e47c",
   "metadata": {},
   "outputs": [],
   "source": [
    "#Creating new column 'predicted' with 1 if Prob > 0.5 else 0\n",
    "y_train_pred_final['predicted'] = y_train_pred_final.Converted_prob.map(lambda x: 1 if x > 0.5 else 0)"
   ]
  },
  {
   "cell_type": "code",
   "execution_count": 84,
   "id": "b9233363",
   "metadata": {},
   "outputs": [
    {
     "data": {
      "text/html": [
       "<div>\n",
       "<style scoped>\n",
       "    .dataframe tbody tr th:only-of-type {\n",
       "        vertical-align: middle;\n",
       "    }\n",
       "\n",
       "    .dataframe tbody tr th {\n",
       "        vertical-align: top;\n",
       "    }\n",
       "\n",
       "    .dataframe thead th {\n",
       "        text-align: right;\n",
       "    }\n",
       "</style>\n",
       "<table border=\"1\" class=\"dataframe\">\n",
       "  <thead>\n",
       "    <tr style=\"text-align: right;\">\n",
       "      <th></th>\n",
       "      <th>Lead_ID</th>\n",
       "      <th>Converted</th>\n",
       "      <th>Converted_prob</th>\n",
       "      <th>predicted</th>\n",
       "    </tr>\n",
       "  </thead>\n",
       "  <tbody>\n",
       "    <tr>\n",
       "      <th>0</th>\n",
       "      <td>1217</td>\n",
       "      <td>0</td>\n",
       "      <td>0.188779</td>\n",
       "      <td>0</td>\n",
       "    </tr>\n",
       "    <tr>\n",
       "      <th>1</th>\n",
       "      <td>4659</td>\n",
       "      <td>0</td>\n",
       "      <td>0.065939</td>\n",
       "      <td>0</td>\n",
       "    </tr>\n",
       "    <tr>\n",
       "      <th>2</th>\n",
       "      <td>3614</td>\n",
       "      <td>1</td>\n",
       "      <td>0.954546</td>\n",
       "      <td>1</td>\n",
       "    </tr>\n",
       "    <tr>\n",
       "      <th>3</th>\n",
       "      <td>2194</td>\n",
       "      <td>0</td>\n",
       "      <td>0.245332</td>\n",
       "      <td>0</td>\n",
       "    </tr>\n",
       "    <tr>\n",
       "      <th>4</th>\n",
       "      <td>437</td>\n",
       "      <td>0</td>\n",
       "      <td>0.012846</td>\n",
       "      <td>0</td>\n",
       "    </tr>\n",
       "  </tbody>\n",
       "</table>\n",
       "</div>"
      ],
      "text/plain": [
       "   Lead_ID  Converted  Converted_prob  predicted\n",
       "0     1217          0        0.188779          0\n",
       "1     4659          0        0.065939          0\n",
       "2     3614          1        0.954546          1\n",
       "3     2194          0        0.245332          0\n",
       "4      437          0        0.012846          0"
      ]
     },
     "execution_count": 84,
     "metadata": {},
     "output_type": "execute_result"
    }
   ],
   "source": [
    "y_train_pred_final.head()"
   ]
  },
  {
   "cell_type": "code",
   "execution_count": 243,
   "id": "92aefc4a",
   "metadata": {},
   "outputs": [],
   "source": [
    "from sklearn.metrics import confusion_matrix,classification_report,recall_score,roc_auc_score,roc_curve,accuracy_score,precision_score,precision_recall_curve"
   ]
  },
  {
   "cell_type": "code",
   "execution_count": 245,
   "id": "b6bb5f64",
   "metadata": {},
   "outputs": [
    {
     "name": "stdout",
     "output_type": "stream",
     "text": [
      "[[3676  151]\n",
      " [ 435 1932]]\n"
     ]
    }
   ],
   "source": [
    "# Confusion matrix\n",
    "confusion = confusion_matrix(y_train_pred_final['Converted'], y_train_pred_final['predicted'] )\n",
    "print(confusion)"
   ]
  },
  {
   "cell_type": "code",
   "execution_count": 246,
   "id": "1ea8600c",
   "metadata": {},
   "outputs": [
    {
     "name": "stdout",
     "output_type": "stream",
     "text": [
      "              precision    recall  f1-score   support\n",
      "\n",
      "           0       0.89      0.96      0.93      3827\n",
      "           1       0.93      0.82      0.87      2367\n",
      "\n",
      "   micro avg       0.91      0.91      0.91      6194\n",
      "   macro avg       0.91      0.89      0.90      6194\n",
      "weighted avg       0.91      0.91      0.90      6194\n",
      "\n"
     ]
    }
   ],
   "source": [
    "#Checking overall accuracy\n",
    "print(classification_report(y_train_pred_final['Converted'], y_train_pred_final['predicted'] ))"
   ]
  },
  {
   "cell_type": "code",
   "execution_count": 247,
   "id": "18e3a2c6",
   "metadata": {},
   "outputs": [
    {
     "name": "stdout",
     "output_type": "stream",
     "text": [
      "0.9053923151436875\n"
     ]
    }
   ],
   "source": [
    "print(accuracy_score(y_train_pred_final['Converted'], y_train_pred_final['predicted'] ))"
   ]
  },
  {
   "cell_type": "markdown",
   "id": "61c23d48",
   "metadata": {},
   "source": [
    "### Summary\n",
    "- Accuracy: 91%\n",
    "- Recall:  82%\n",
    "- Precision:  93%"
   ]
  },
  {
   "cell_type": "markdown",
   "id": "fc9ada5b",
   "metadata": {},
   "source": [
    "### Finding Other Metrics"
   ]
  },
  {
   "cell_type": "code",
   "execution_count": 248,
   "id": "64925f26",
   "metadata": {},
   "outputs": [],
   "source": [
    "TP = confusion[1,1] # true positive \n",
    "TN = confusion[0,0] # true negatives\n",
    "FP = confusion[0,1] # false positives\n",
    "FN = confusion[1,0] # false negatives"
   ]
  },
  {
   "cell_type": "code",
   "execution_count": 249,
   "id": "c83767ad",
   "metadata": {},
   "outputs": [
    {
     "data": {
      "text/plain": [
       "0.8162230671736375"
      ]
     },
     "execution_count": 249,
     "metadata": {},
     "output_type": "execute_result"
    }
   ],
   "source": [
    "#Sensitivity\n",
    "TP / float(TP+FN)"
   ]
  },
  {
   "cell_type": "code",
   "execution_count": 250,
   "id": "1ba0c311",
   "metadata": {},
   "outputs": [
    {
     "data": {
      "text/plain": [
       "0.9605435066631827"
      ]
     },
     "execution_count": 250,
     "metadata": {},
     "output_type": "execute_result"
    }
   ],
   "source": [
    "#Specificity\n",
    "TN / float(TN+FP)"
   ]
  },
  {
   "cell_type": "code",
   "execution_count": 251,
   "id": "a3a4d3a2",
   "metadata": {},
   "outputs": [
    {
     "name": "stdout",
     "output_type": "stream",
     "text": [
      "0.9275084013442151\n"
     ]
    }
   ],
   "source": [
    "# Positive predictive value \n",
    "print (TP / float(TP+FP))"
   ]
  },
  {
   "cell_type": "code",
   "execution_count": 252,
   "id": "40b4f656",
   "metadata": {},
   "outputs": [
    {
     "name": "stdout",
     "output_type": "stream",
     "text": [
      "0.894186329360253\n"
     ]
    }
   ],
   "source": [
    "# Negative predictive value\n",
    "print (TN / float(TN+ FN))"
   ]
  },
  {
   "cell_type": "code",
   "execution_count": 253,
   "id": "84999b10",
   "metadata": {},
   "outputs": [
    {
     "name": "stdout",
     "output_type": "stream",
     "text": [
      "0.03945649333681735\n"
     ]
    }
   ],
   "source": [
    "# False postive rate\n",
    "print(FP/ float(TN+FP))"
   ]
  },
  {
   "cell_type": "markdown",
   "id": "1d7da75f",
   "metadata": {},
   "source": [
    "### Step 7: Plotting ROC Curve"
   ]
  },
  {
   "cell_type": "code",
   "execution_count": 254,
   "id": "f39701b3",
   "metadata": {},
   "outputs": [],
   "source": [
    "def draw_roc( actual, probs ):\n",
    "    fpr, tpr, thresholds = roc_curve( actual, probs,\n",
    "                                              drop_intermediate = False )\n",
    "    auc_score = roc_auc_score( actual, probs )\n",
    "    plt.figure(figsize=(7, 7))\n",
    "    plt.plot( fpr, tpr, label='ROC curve (area = %0.2f)' % auc_score )\n",
    "    plt.plot([0, 1], [0, 1], 'k--')\n",
    "    plt.xlim([0.0, 1.0])\n",
    "    plt.ylim([0.0, 1.05])\n",
    "    plt.xlabel('False Positive Rate or [1 - True Negative Rate]')\n",
    "    plt.ylabel('True Positive Rate')\n",
    "    plt.title('Receiver operating characteristic example')\n",
    "    plt.legend(loc=\"lower right\")\n",
    "    plt.show()\n",
    "\n",
    "    return None"
   ]
  },
  {
   "cell_type": "code",
   "execution_count": 255,
   "id": "4bc0ccf1",
   "metadata": {},
   "outputs": [],
   "source": [
    "fpr, tpr, thresholds = roc_curve( y_train_pred_final.Converted, y_train_pred_final.Converted_prob, drop_intermediate = False )"
   ]
  },
  {
   "cell_type": "code",
   "execution_count": 256,
   "id": "0db274ea",
   "metadata": {},
   "outputs": [
    {
     "data": {
      "image/png": "[encoded data removed]",
      "text/plain": [
       "<Figure size 504x504 with 1 Axes>"
      ]
     },
     "metadata": {
      "needs_background": "light"
     },
     "output_type": "display_data"
    }
   ],
   "source": [
    "draw_roc(y_train_pred_final.Converted, y_train_pred_final.Converted_prob)"
   ]
  },
  {
   "cell_type": "markdown",
   "id": "066129d2",
   "metadata": {},
   "source": [
    "### Optimal Cutoff point"
   ]
  },
  {
   "cell_type": "code",
   "execution_count": 257,
   "id": "73f44cb5",
   "metadata": {},
   "outputs": [
    {
     "data": {
      "text/html": [
       "<div>\n",
       "<style scoped>\n",
       "    .dataframe tbody tr th:only-of-type {\n",
       "        vertical-align: middle;\n",
       "    }\n",
       "\n",
       "    .dataframe tbody tr th {\n",
       "        vertical-align: top;\n",
       "    }\n",
       "\n",
       "    .dataframe thead th {\n",
       "        text-align: right;\n",
       "    }\n",
       "</style>\n",
       "<table border=\"1\" class=\"dataframe\">\n",
       "  <thead>\n",
       "    <tr style=\"text-align: right;\">\n",
       "      <th></th>\n",
       "      <th>Lead_ID</th>\n",
       "      <th>Converted</th>\n",
       "      <th>Converted_prob</th>\n",
       "      <th>predicted</th>\n",
       "      <th>0.0</th>\n",
       "      <th>0.1</th>\n",
       "      <th>0.2</th>\n",
       "      <th>0.3</th>\n",
       "      <th>0.4</th>\n",
       "      <th>0.5</th>\n",
       "      <th>0.6</th>\n",
       "      <th>0.7</th>\n",
       "      <th>0.8</th>\n",
       "      <th>0.9</th>\n",
       "    </tr>\n",
       "  </thead>\n",
       "  <tbody>\n",
       "    <tr>\n",
       "      <th>0</th>\n",
       "      <td>1217</td>\n",
       "      <td>0</td>\n",
       "      <td>0.188779</td>\n",
       "      <td>0</td>\n",
       "      <td>1</td>\n",
       "      <td>1</td>\n",
       "      <td>0</td>\n",
       "      <td>0</td>\n",
       "      <td>0</td>\n",
       "      <td>0</td>\n",
       "      <td>0</td>\n",
       "      <td>0</td>\n",
       "      <td>0</td>\n",
       "      <td>0</td>\n",
       "    </tr>\n",
       "    <tr>\n",
       "      <th>1</th>\n",
       "      <td>4659</td>\n",
       "      <td>0</td>\n",
       "      <td>0.065939</td>\n",
       "      <td>0</td>\n",
       "      <td>1</td>\n",
       "      <td>0</td>\n",
       "      <td>0</td>\n",
       "      <td>0</td>\n",
       "      <td>0</td>\n",
       "      <td>0</td>\n",
       "      <td>0</td>\n",
       "      <td>0</td>\n",
       "      <td>0</td>\n",
       "      <td>0</td>\n",
       "    </tr>\n",
       "    <tr>\n",
       "      <th>2</th>\n",
       "      <td>3614</td>\n",
       "      <td>1</td>\n",
       "      <td>0.954546</td>\n",
       "      <td>1</td>\n",
       "      <td>1</td>\n",
       "      <td>1</td>\n",
       "      <td>1</td>\n",
       "      <td>1</td>\n",
       "      <td>1</td>\n",
       "      <td>1</td>\n",
       "      <td>1</td>\n",
       "      <td>1</td>\n",
       "      <td>1</td>\n",
       "      <td>1</td>\n",
       "    </tr>\n",
       "    <tr>\n",
       "      <th>3</th>\n",
       "      <td>2194</td>\n",
       "      <td>0</td>\n",
       "      <td>0.245332</td>\n",
       "      <td>0</td>\n",
       "      <td>1</td>\n",
       "      <td>1</td>\n",
       "      <td>1</td>\n",
       "      <td>0</td>\n",
       "      <td>0</td>\n",
       "      <td>0</td>\n",
       "      <td>0</td>\n",
       "      <td>0</td>\n",
       "      <td>0</td>\n",
       "      <td>0</td>\n",
       "    </tr>\n",
       "    <tr>\n",
       "      <th>4</th>\n",
       "      <td>437</td>\n",
       "      <td>0</td>\n",
       "      <td>0.012846</td>\n",
       "      <td>0</td>\n",
       "      <td>1</td>\n",
       "      <td>0</td>\n",
       "      <td>0</td>\n",
       "      <td>0</td>\n",
       "      <td>0</td>\n",
       "      <td>0</td>\n",
       "      <td>0</td>\n",
       "      <td>0</td>\n",
       "      <td>0</td>\n",
       "      <td>0</td>\n",
       "    </tr>\n",
       "  </tbody>\n",
       "</table>\n",
       "</div>"
      ],
      "text/plain": [
       "   Lead_ID  Converted  Converted_prob  predicted  0.0  0.1  0.2  0.3  0.4  \\\n",
       "0     1217          0        0.188779          0    1    1    0    0    0   \n",
       "1     4659          0        0.065939          0    1    0    0    0    0   \n",
       "2     3614          1        0.954546          1    1    1    1    1    1   \n",
       "3     2194          0        0.245332          0    1    1    1    0    0   \n",
       "4      437          0        0.012846          0    1    0    0    0    0   \n",
       "\n",
       "   0.5  0.6  0.7  0.8  0.9  \n",
       "0    0    0    0    0    0  \n",
       "1    0    0    0    0    0  \n",
       "2    1    1    1    1    1  \n",
       "3    0    0    0    0    0  \n",
       "4    0    0    0    0    0  "
      ]
     },
     "execution_count": 257,
     "metadata": {},
     "output_type": "execute_result"
    }
   ],
   "source": [
    "# Creating columns with different probability cutoffs \n",
    "numbers = [float(x)/10 for x in range(10)]\n",
    "for i in numbers:\n",
    "    y_train_pred_final[i]= y_train_pred_final.Converted_prob.map(lambda x: 1 if x > i else 0)\n",
    "y_train_pred_final.head()"
   ]
  },
  {
   "cell_type": "code",
   "execution_count": 101,
   "id": "f18e6dfe",
   "metadata": {},
   "outputs": [
    {
     "name": "stdout",
     "output_type": "stream",
     "text": [
      "     prob  accuracy     sensi     speci\n",
      "0.0   0.0  0.382144  1.000000  0.000000\n",
      "0.1   0.1  0.798030  0.959442  0.698197\n",
      "0.2   0.2  0.855667  0.927757  0.811079\n",
      "0.3   0.3  0.886665  0.903676  0.876143\n",
      "0.4   0.4  0.901356  0.830165  0.945388\n",
      "0.5   0.5  0.905392  0.816223  0.960544\n",
      "0.6   0.6  0.899419  0.790030  0.967076\n",
      "0.7   0.7  0.893930  0.761301  0.975960\n",
      "0.8   0.8  0.885373  0.722433  0.986151\n",
      "0.9   0.9  0.874717  0.687368  0.990593\n"
     ]
    }
   ],
   "source": [
    "#calculating accuracy sensitivity and specificity for various probability cutoffs.\n",
    "cutoff_df = pd.DataFrame( columns = ['prob','accuracy','sensi','speci'])\n",
    "\n",
    "num = [0.0,0.1,0.2,0.3,0.4,0.5,0.6,0.7,0.8,0.9]\n",
    "for i in num:\n",
    "    cm1 = confusion_matrix(y_train_pred_final.Converted, y_train_pred_final[i] )\n",
    "    total1=sum(sum(cm1))\n",
    "    accuracy = (cm1[0,0]+cm1[1,1])/total1\n",
    "    \n",
    "    speci = cm1[0,0]/(cm1[0,0]+cm1[0,1])\n",
    "    sensi = cm1[1,1]/(cm1[1,0]+cm1[1,1])\n",
    "    cutoff_df.loc[i] =[ i ,accuracy,sensi,speci]\n",
    "print(cutoff_df)"
   ]
  },
  {
   "cell_type": "code",
   "execution_count": 258,
   "id": "ac565ab1",
   "metadata": {},
   "outputs": [
    {
     "data": {
      "text/plain": [
       "<Figure size 864x432 with 0 Axes>"
      ]
     },
     "metadata": {},
     "output_type": "display_data"
    },
    {
     "data": {
      "image/png": "[encoded data removed]",
      "text/plain": [
       "<Figure size 432x288 with 1 Axes>"
      ]
     },
     "metadata": {
      "needs_background": "light"
     },
     "output_type": "display_data"
    }
   ],
   "source": [
    "#Plotting\n",
    "plt.figure(figsize = (12,6))\n",
    "cutoff_df.plot.line(x='prob', y=['accuracy','sensi','speci'])\n",
    "plt.vlines(x=0.28,ymax = 1.0,ymin=0.0,color='b',linestyle='--')\n",
    "plt.show()"
   ]
  },
  {
   "cell_type": "markdown",
   "id": "7829f744",
   "metadata": {},
   "source": [
    "#### From the above curve, 0.27 is optimum point to take it as cutoff probability"
   ]
  },
  {
   "cell_type": "code",
   "execution_count": 259,
   "id": "ee94e7b2",
   "metadata": {},
   "outputs": [
    {
     "data": {
      "text/html": [
       "<div>\n",
       "<style scoped>\n",
       "    .dataframe tbody tr th:only-of-type {\n",
       "        vertical-align: middle;\n",
       "    }\n",
       "\n",
       "    .dataframe tbody tr th {\n",
       "        vertical-align: top;\n",
       "    }\n",
       "\n",
       "    .dataframe thead th {\n",
       "        text-align: right;\n",
       "    }\n",
       "</style>\n",
       "<table border=\"1\" class=\"dataframe\">\n",
       "  <thead>\n",
       "    <tr style=\"text-align: right;\">\n",
       "      <th></th>\n",
       "      <th>Lead_ID</th>\n",
       "      <th>Converted</th>\n",
       "      <th>Converted_prob</th>\n",
       "      <th>predicted</th>\n",
       "      <th>0.0</th>\n",
       "      <th>0.1</th>\n",
       "      <th>0.2</th>\n",
       "      <th>0.3</th>\n",
       "      <th>0.4</th>\n",
       "      <th>0.5</th>\n",
       "      <th>0.6</th>\n",
       "      <th>0.7</th>\n",
       "      <th>0.8</th>\n",
       "      <th>0.9</th>\n",
       "      <th>final_predicted</th>\n",
       "    </tr>\n",
       "  </thead>\n",
       "  <tbody>\n",
       "    <tr>\n",
       "      <th>0</th>\n",
       "      <td>1217</td>\n",
       "      <td>0</td>\n",
       "      <td>0.188779</td>\n",
       "      <td>0</td>\n",
       "      <td>1</td>\n",
       "      <td>1</td>\n",
       "      <td>0</td>\n",
       "      <td>0</td>\n",
       "      <td>0</td>\n",
       "      <td>0</td>\n",
       "      <td>0</td>\n",
       "      <td>0</td>\n",
       "      <td>0</td>\n",
       "      <td>0</td>\n",
       "      <td>0</td>\n",
       "    </tr>\n",
       "    <tr>\n",
       "      <th>1</th>\n",
       "      <td>4659</td>\n",
       "      <td>0</td>\n",
       "      <td>0.065939</td>\n",
       "      <td>0</td>\n",
       "      <td>1</td>\n",
       "      <td>0</td>\n",
       "      <td>0</td>\n",
       "      <td>0</td>\n",
       "      <td>0</td>\n",
       "      <td>0</td>\n",
       "      <td>0</td>\n",
       "      <td>0</td>\n",
       "      <td>0</td>\n",
       "      <td>0</td>\n",
       "      <td>0</td>\n",
       "    </tr>\n",
       "    <tr>\n",
       "      <th>2</th>\n",
       "      <td>3614</td>\n",
       "      <td>1</td>\n",
       "      <td>0.954546</td>\n",
       "      <td>1</td>\n",
       "      <td>1</td>\n",
       "      <td>1</td>\n",
       "      <td>1</td>\n",
       "      <td>1</td>\n",
       "      <td>1</td>\n",
       "      <td>1</td>\n",
       "      <td>1</td>\n",
       "      <td>1</td>\n",
       "      <td>1</td>\n",
       "      <td>1</td>\n",
       "      <td>1</td>\n",
       "    </tr>\n",
       "    <tr>\n",
       "      <th>3</th>\n",
       "      <td>2194</td>\n",
       "      <td>0</td>\n",
       "      <td>0.245332</td>\n",
       "      <td>0</td>\n",
       "      <td>1</td>\n",
       "      <td>1</td>\n",
       "      <td>1</td>\n",
       "      <td>0</td>\n",
       "      <td>0</td>\n",
       "      <td>0</td>\n",
       "      <td>0</td>\n",
       "      <td>0</td>\n",
       "      <td>0</td>\n",
       "      <td>0</td>\n",
       "      <td>0</td>\n",
       "    </tr>\n",
       "    <tr>\n",
       "      <th>4</th>\n",
       "      <td>437</td>\n",
       "      <td>0</td>\n",
       "      <td>0.012846</td>\n",
       "      <td>0</td>\n",
       "      <td>1</td>\n",
       "      <td>0</td>\n",
       "      <td>0</td>\n",
       "      <td>0</td>\n",
       "      <td>0</td>\n",
       "      <td>0</td>\n",
       "      <td>0</td>\n",
       "      <td>0</td>\n",
       "      <td>0</td>\n",
       "      <td>0</td>\n",
       "      <td>0</td>\n",
       "    </tr>\n",
       "  </tbody>\n",
       "</table>\n",
       "</div>"
      ],
      "text/plain": [
       "   Lead_ID  Converted  Converted_prob  predicted  0.0  0.1  0.2  0.3  0.4  \\\n",
       "0     1217          0        0.188779          0    1    1    0    0    0   \n",
       "1     4659          0        0.065939          0    1    0    0    0    0   \n",
       "2     3614          1        0.954546          1    1    1    1    1    1   \n",
       "3     2194          0        0.245332          0    1    1    1    0    0   \n",
       "4      437          0        0.012846          0    1    0    0    0    0   \n",
       "\n",
       "   0.5  0.6  0.7  0.8  0.9  final_predicted  \n",
       "0    0    0    0    0    0                0  \n",
       "1    0    0    0    0    0                0  \n",
       "2    1    1    1    1    1                1  \n",
       "3    0    0    0    0    0                0  \n",
       "4    0    0    0    0    0                0  "
      ]
     },
     "execution_count": 259,
     "metadata": {},
     "output_type": "execute_result"
    }
   ],
   "source": [
    "y_train_pred_final['final_predicted'] = y_train_pred_final.Converted_prob.map( lambda x: 1 if x > 0.27 else 0)\n",
    "\n",
    "y_train_pred_final.head()"
   ]
  },
  {
   "cell_type": "code",
   "execution_count": 260,
   "id": "e5a308f1",
   "metadata": {},
   "outputs": [
    {
     "data": {
      "text/html": [
       "<div>\n",
       "<style scoped>\n",
       "    .dataframe tbody tr th:only-of-type {\n",
       "        vertical-align: middle;\n",
       "    }\n",
       "\n",
       "    .dataframe tbody tr th {\n",
       "        vertical-align: top;\n",
       "    }\n",
       "\n",
       "    .dataframe thead th {\n",
       "        text-align: right;\n",
       "    }\n",
       "</style>\n",
       "<table border=\"1\" class=\"dataframe\">\n",
       "  <thead>\n",
       "    <tr style=\"text-align: right;\">\n",
       "      <th></th>\n",
       "      <th>Lead_ID</th>\n",
       "      <th>Converted</th>\n",
       "      <th>Converted_prob</th>\n",
       "      <th>predicted</th>\n",
       "      <th>0.0</th>\n",
       "      <th>0.1</th>\n",
       "      <th>0.2</th>\n",
       "      <th>0.3</th>\n",
       "      <th>0.4</th>\n",
       "      <th>0.5</th>\n",
       "      <th>0.6</th>\n",
       "      <th>0.7</th>\n",
       "      <th>0.8</th>\n",
       "      <th>0.9</th>\n",
       "      <th>final_predicted</th>\n",
       "      <th>Lead_Score</th>\n",
       "    </tr>\n",
       "  </thead>\n",
       "  <tbody>\n",
       "    <tr>\n",
       "      <th>0</th>\n",
       "      <td>1217</td>\n",
       "      <td>0</td>\n",
       "      <td>0.188779</td>\n",
       "      <td>0</td>\n",
       "      <td>1</td>\n",
       "      <td>1</td>\n",
       "      <td>0</td>\n",
       "      <td>0</td>\n",
       "      <td>0</td>\n",
       "      <td>0</td>\n",
       "      <td>0</td>\n",
       "      <td>0</td>\n",
       "      <td>0</td>\n",
       "      <td>0</td>\n",
       "      <td>0</td>\n",
       "      <td>19</td>\n",
       "    </tr>\n",
       "    <tr>\n",
       "      <th>1</th>\n",
       "      <td>4659</td>\n",
       "      <td>0</td>\n",
       "      <td>0.065939</td>\n",
       "      <td>0</td>\n",
       "      <td>1</td>\n",
       "      <td>0</td>\n",
       "      <td>0</td>\n",
       "      <td>0</td>\n",
       "      <td>0</td>\n",
       "      <td>0</td>\n",
       "      <td>0</td>\n",
       "      <td>0</td>\n",
       "      <td>0</td>\n",
       "      <td>0</td>\n",
       "      <td>0</td>\n",
       "      <td>7</td>\n",
       "    </tr>\n",
       "    <tr>\n",
       "      <th>2</th>\n",
       "      <td>3614</td>\n",
       "      <td>1</td>\n",
       "      <td>0.954546</td>\n",
       "      <td>1</td>\n",
       "      <td>1</td>\n",
       "      <td>1</td>\n",
       "      <td>1</td>\n",
       "      <td>1</td>\n",
       "      <td>1</td>\n",
       "      <td>1</td>\n",
       "      <td>1</td>\n",
       "      <td>1</td>\n",
       "      <td>1</td>\n",
       "      <td>1</td>\n",
       "      <td>1</td>\n",
       "      <td>95</td>\n",
       "    </tr>\n",
       "    <tr>\n",
       "      <th>3</th>\n",
       "      <td>2194</td>\n",
       "      <td>0</td>\n",
       "      <td>0.245332</td>\n",
       "      <td>0</td>\n",
       "      <td>1</td>\n",
       "      <td>1</td>\n",
       "      <td>1</td>\n",
       "      <td>0</td>\n",
       "      <td>0</td>\n",
       "      <td>0</td>\n",
       "      <td>0</td>\n",
       "      <td>0</td>\n",
       "      <td>0</td>\n",
       "      <td>0</td>\n",
       "      <td>0</td>\n",
       "      <td>25</td>\n",
       "    </tr>\n",
       "    <tr>\n",
       "      <th>4</th>\n",
       "      <td>437</td>\n",
       "      <td>0</td>\n",
       "      <td>0.012846</td>\n",
       "      <td>0</td>\n",
       "      <td>1</td>\n",
       "      <td>0</td>\n",
       "      <td>0</td>\n",
       "      <td>0</td>\n",
       "      <td>0</td>\n",
       "      <td>0</td>\n",
       "      <td>0</td>\n",
       "      <td>0</td>\n",
       "      <td>0</td>\n",
       "      <td>0</td>\n",
       "      <td>0</td>\n",
       "      <td>1</td>\n",
       "    </tr>\n",
       "  </tbody>\n",
       "</table>\n",
       "</div>"
      ],
      "text/plain": [
       "   Lead_ID  Converted  Converted_prob  predicted  0.0  0.1  0.2  0.3  0.4  \\\n",
       "0     1217          0        0.188779          0    1    1    0    0    0   \n",
       "1     4659          0        0.065939          0    1    0    0    0    0   \n",
       "2     3614          1        0.954546          1    1    1    1    1    1   \n",
       "3     2194          0        0.245332          0    1    1    1    0    0   \n",
       "4      437          0        0.012846          0    1    0    0    0    0   \n",
       "\n",
       "   0.5  0.6  0.7  0.8  0.9  final_predicted  Lead_Score  \n",
       "0    0    0    0    0    0                0          19  \n",
       "1    0    0    0    0    0                0           7  \n",
       "2    1    1    1    1    1                1          95  \n",
       "3    0    0    0    0    0                0          25  \n",
       "4    0    0    0    0    0                0           1  "
      ]
     },
     "execution_count": 260,
     "metadata": {},
     "output_type": "execute_result"
    }
   ],
   "source": [
    "#Getting Lead Score\n",
    "y_train_pred_final['Lead_Score'] = y_train_pred_final.Converted_prob.map( lambda x: round(x*100))\n",
    "y_train_pred_final.head()"
   ]
  },
  {
   "cell_type": "code",
   "execution_count": 261,
   "id": "ffc9ded9",
   "metadata": {},
   "outputs": [
    {
     "data": {
      "text/plain": [
       "0.8803680981595092"
      ]
     },
     "execution_count": 261,
     "metadata": {},
     "output_type": "execute_result"
    }
   ],
   "source": [
    "#overall accuaracy\n",
    "accuracy_score(y_train_pred_final.Converted, y_train_pred_final.final_predicted)"
   ]
  },
  {
   "cell_type": "markdown",
   "id": "74f03415",
   "metadata": {},
   "source": [
    "#### Other Metrics"
   ]
  },
  {
   "cell_type": "code",
   "execution_count": 262,
   "id": "425b3a86",
   "metadata": {},
   "outputs": [
    {
     "data": {
      "text/plain": [
       "array([[3301,  526],\n",
       "       [ 215, 2152]], dtype=int64)"
      ]
     },
     "execution_count": 262,
     "metadata": {},
     "output_type": "execute_result"
    }
   ],
   "source": [
    "confusion2 = confusion_matrix(y_train_pred_final.Converted, y_train_pred_final.final_predicted )\n",
    "confusion2"
   ]
  },
  {
   "cell_type": "code",
   "execution_count": 263,
   "id": "eee95a84",
   "metadata": {},
   "outputs": [],
   "source": [
    "TP = confusion2[1,1] # true positive \n",
    "TN = confusion2[0,0] # true negatives\n",
    "FP = confusion2[0,1] # false positives\n",
    "FN = confusion2[1,0] # false negatives"
   ]
  },
  {
   "cell_type": "code",
   "execution_count": 264,
   "id": "338af85a",
   "metadata": {},
   "outputs": [
    {
     "name": "stdout",
     "output_type": "stream",
     "text": [
      "Specificity of the logistic regression model is:  0.86255552652208\n"
     ]
    }
   ],
   "source": [
    "#calculating specificity\n",
    "print(\"Specificity of the logistic regression model is: \",TN / float(TN+FP))"
   ]
  },
  {
   "cell_type": "code",
   "execution_count": 265,
   "id": "c6d3fc34",
   "metadata": {},
   "outputs": [
    {
     "name": "stdout",
     "output_type": "stream",
     "text": [
      "Sensitivity of the logistic regression model is:   0.9091677228559358\n"
     ]
    }
   ],
   "source": [
    "#calculating sensitivity\n",
    "print(\"Sensitivity of the logistic regression model is:  \",TP / float(TP+FN))"
   ]
  },
  {
   "cell_type": "code",
   "execution_count": 266,
   "id": "466710b2",
   "metadata": {},
   "outputs": [
    {
     "name": "stdout",
     "output_type": "stream",
     "text": [
      "Positive Predictive rate: 0.8035847647498133\n",
      "Negative Predictive rate: 0.9388509670079636\n",
      "False positive rate: 0.13744447347792005\n"
     ]
    }
   ],
   "source": [
    "# Positive predictive value \n",
    "print(\"Positive Predictive rate:\",TP / float(TP+FP))\n",
    "\n",
    "# Negative predictive value\n",
    "print(\"Negative Predictive rate:\",TN / float(TN+ FN))\n",
    "\n",
    "#False postive rate\n",
    "print(\"False positive rate:\",FP/ float(TN+FP))"
   ]
  },
  {
   "cell_type": "code",
   "execution_count": 267,
   "id": "b36598ea",
   "metadata": {},
   "outputs": [
    {
     "name": "stdout",
     "output_type": "stream",
     "text": [
      "              precision    recall  f1-score   support\n",
      "\n",
      "           0       0.94      0.86      0.90      3827\n",
      "           1       0.80      0.91      0.85      2367\n",
      "\n",
      "   micro avg       0.88      0.88      0.88      6194\n",
      "   macro avg       0.87      0.89      0.88      6194\n",
      "weighted avg       0.89      0.88      0.88      6194\n",
      "\n"
     ]
    }
   ],
   "source": [
    "print(classification_report(y_train_pred_final.Converted, y_train_pred_final.final_predicted ))"
   ]
  },
  {
   "cell_type": "code",
   "execution_count": 268,
   "id": "b5c8448e",
   "metadata": {},
   "outputs": [
    {
     "name": "stdout",
     "output_type": "stream",
     "text": [
      "0.9053923151436875\n"
     ]
    }
   ],
   "source": [
    "print(accuracy_score(y_train_pred_final['Converted'], y_train_pred_final['predicted'] ))"
   ]
  },
  {
   "cell_type": "markdown",
   "id": "00411038",
   "metadata": {},
   "source": [
    "### Summary\n",
    "- Acuaracy : 90.53%\n",
    "- Precision : 80%\n",
    "- Recall : 91%\n",
    "- f1-score : 85%"
   ]
  },
  {
   "cell_type": "markdown",
   "id": "af3aaf86",
   "metadata": {},
   "source": [
    "### Precision and Recall tradeoff"
   ]
  },
  {
   "cell_type": "code",
   "execution_count": 269,
   "id": "758fad6d",
   "metadata": {},
   "outputs": [
    {
     "data": {
      "image/png": "[encoded data removed]",
      "text/plain": [
       "<Figure size 576x432 with 1 Axes>"
      ]
     },
     "metadata": {
      "needs_background": "light"
     },
     "output_type": "display_data"
    }
   ],
   "source": [
    "from sklearn.metrics import precision_recall_curve\n",
    "p, r, thresholds = precision_recall_curve(y_train_pred_final.Converted, y_train_pred_final.Converted_prob)\n",
    "plt.figure(figsize = (8,6))\n",
    "plt.plot(thresholds, p[:-1], \"g-\")\n",
    "plt.plot(thresholds, r[:-1], \"b-\")\n",
    "plt.vlines(x=0.37,ymax = 1.0,ymin=0.0,color='b',linestyle='--')\n",
    "plt.show()"
   ]
  },
  {
   "cell_type": "markdown",
   "id": "e41391e6",
   "metadata": {},
   "source": [
    "#### 0.38 is tradeoff between Recall and Precision\n",
    "#### Hence we can say that we can consider any prospect lead with conversion rate of 38% to become a Hot Lead"
   ]
  },
  {
   "cell_type": "markdown",
   "id": "0ac2d1da",
   "metadata": {},
   "source": [
    "### Step 8: Predictions on Test data"
   ]
  },
  {
   "cell_type": "code",
   "execution_count": 270,
   "id": "ab0fc0d7",
   "metadata": {},
   "outputs": [
    {
     "data": {
      "text/html": [
       "<div>\n",
       "<style scoped>\n",
       "    .dataframe tbody tr th:only-of-type {\n",
       "        vertical-align: middle;\n",
       "    }\n",
       "\n",
       "    .dataframe tbody tr th {\n",
       "        vertical-align: top;\n",
       "    }\n",
       "\n",
       "    .dataframe thead th {\n",
       "        text-align: right;\n",
       "    }\n",
       "</style>\n",
       "<table border=\"1\" class=\"dataframe\">\n",
       "  <thead>\n",
       "    <tr style=\"text-align: right;\">\n",
       "      <th></th>\n",
       "      <th>Do Not Email</th>\n",
       "      <th>TotalVisits</th>\n",
       "      <th>Total Time Spent on Website</th>\n",
       "      <th>Page Views Per Visit</th>\n",
       "      <th>A free copy of Mastering The Interview</th>\n",
       "      <th>Lead Origin_Landing Page Submission</th>\n",
       "      <th>Lead Origin_Lead Add Form</th>\n",
       "      <th>Lead Origin_Lead Import</th>\n",
       "      <th>Lead Source_Google</th>\n",
       "      <th>Lead Source_Olark Chat</th>\n",
       "      <th>...</th>\n",
       "      <th>City_Other Cities of Maharashtra</th>\n",
       "      <th>City_Other Metro Cities</th>\n",
       "      <th>City_Thane &amp; Outskirts</th>\n",
       "      <th>City_Tier II Cities</th>\n",
       "      <th>Last Notable Activity_Email Opened</th>\n",
       "      <th>Last Notable Activity_Modified</th>\n",
       "      <th>Last Notable Activity_Olark Chat Conversation</th>\n",
       "      <th>Last Notable Activity_Other</th>\n",
       "      <th>Last Notable Activity_Page Visited on Website</th>\n",
       "      <th>Last Notable Activity_SMS Sent</th>\n",
       "    </tr>\n",
       "  </thead>\n",
       "  <tbody>\n",
       "    <tr>\n",
       "      <th>2754</th>\n",
       "      <td>1</td>\n",
       "      <td>-0.394246</td>\n",
       "      <td>-0.619948</td>\n",
       "      <td>-0.663216</td>\n",
       "      <td>0</td>\n",
       "      <td>0</td>\n",
       "      <td>0</td>\n",
       "      <td>0</td>\n",
       "      <td>1</td>\n",
       "      <td>0</td>\n",
       "      <td>...</td>\n",
       "      <td>0</td>\n",
       "      <td>0</td>\n",
       "      <td>0</td>\n",
       "      <td>0</td>\n",
       "      <td>0</td>\n",
       "      <td>0</td>\n",
       "      <td>0</td>\n",
       "      <td>1</td>\n",
       "      <td>0</td>\n",
       "      <td>0</td>\n",
       "    </tr>\n",
       "    <tr>\n",
       "      <th>2179</th>\n",
       "      <td>0</td>\n",
       "      <td>0.655308</td>\n",
       "      <td>-0.659684</td>\n",
       "      <td>1.437865</td>\n",
       "      <td>0</td>\n",
       "      <td>0</td>\n",
       "      <td>0</td>\n",
       "      <td>0</td>\n",
       "      <td>1</td>\n",
       "      <td>0</td>\n",
       "      <td>...</td>\n",
       "      <td>0</td>\n",
       "      <td>0</td>\n",
       "      <td>0</td>\n",
       "      <td>0</td>\n",
       "      <td>1</td>\n",
       "      <td>0</td>\n",
       "      <td>0</td>\n",
       "      <td>0</td>\n",
       "      <td>0</td>\n",
       "      <td>0</td>\n",
       "    </tr>\n",
       "    <tr>\n",
       "      <th>5841</th>\n",
       "      <td>0</td>\n",
       "      <td>-1.093949</td>\n",
       "      <td>-0.882961</td>\n",
       "      <td>-1.188486</td>\n",
       "      <td>0</td>\n",
       "      <td>0</td>\n",
       "      <td>0</td>\n",
       "      <td>0</td>\n",
       "      <td>0</td>\n",
       "      <td>1</td>\n",
       "      <td>...</td>\n",
       "      <td>0</td>\n",
       "      <td>0</td>\n",
       "      <td>0</td>\n",
       "      <td>0</td>\n",
       "      <td>0</td>\n",
       "      <td>1</td>\n",
       "      <td>0</td>\n",
       "      <td>0</td>\n",
       "      <td>0</td>\n",
       "      <td>0</td>\n",
       "    </tr>\n",
       "    <tr>\n",
       "      <th>526</th>\n",
       "      <td>0</td>\n",
       "      <td>-0.044395</td>\n",
       "      <td>1.258991</td>\n",
       "      <td>0.387324</td>\n",
       "      <td>0</td>\n",
       "      <td>1</td>\n",
       "      <td>0</td>\n",
       "      <td>0</td>\n",
       "      <td>1</td>\n",
       "      <td>0</td>\n",
       "      <td>...</td>\n",
       "      <td>0</td>\n",
       "      <td>0</td>\n",
       "      <td>1</td>\n",
       "      <td>0</td>\n",
       "      <td>0</td>\n",
       "      <td>1</td>\n",
       "      <td>0</td>\n",
       "      <td>0</td>\n",
       "      <td>0</td>\n",
       "      <td>0</td>\n",
       "    </tr>\n",
       "    <tr>\n",
       "      <th>3843</th>\n",
       "      <td>0</td>\n",
       "      <td>-0.394246</td>\n",
       "      <td>-0.266109</td>\n",
       "      <td>-0.137946</td>\n",
       "      <td>1</td>\n",
       "      <td>1</td>\n",
       "      <td>0</td>\n",
       "      <td>0</td>\n",
       "      <td>0</td>\n",
       "      <td>0</td>\n",
       "      <td>...</td>\n",
       "      <td>0</td>\n",
       "      <td>0</td>\n",
       "      <td>0</td>\n",
       "      <td>0</td>\n",
       "      <td>1</td>\n",
       "      <td>0</td>\n",
       "      <td>0</td>\n",
       "      <td>0</td>\n",
       "      <td>0</td>\n",
       "      <td>0</td>\n",
       "    </tr>\n",
       "  </tbody>\n",
       "</table>\n",
       "<p>5 rows × 68 columns</p>\n",
       "</div>"
      ],
      "text/plain": [
       "      Do Not Email  TotalVisits  Total Time Spent on Website  \\\n",
       "2754             1    -0.394246                    -0.619948   \n",
       "2179             0     0.655308                    -0.659684   \n",
       "5841             0    -1.093949                    -0.882961   \n",
       "526              0    -0.044395                     1.258991   \n",
       "3843             0    -0.394246                    -0.266109   \n",
       "\n",
       "      Page Views Per Visit  A free copy of Mastering The Interview  \\\n",
       "2754             -0.663216                                       0   \n",
       "2179              1.437865                                       0   \n",
       "5841             -1.188486                                       0   \n",
       "526               0.387324                                       0   \n",
       "3843             -0.137946                                       1   \n",
       "\n",
       "      Lead Origin_Landing Page Submission  Lead Origin_Lead Add Form  \\\n",
       "2754                                    0                          0   \n",
       "2179                                    0                          0   \n",
       "5841                                    0                          0   \n",
       "526                                     1                          0   \n",
       "3843                                    1                          0   \n",
       "\n",
       "      Lead Origin_Lead Import  Lead Source_Google  Lead Source_Olark Chat  \\\n",
       "2754                        0                   1                       0   \n",
       "2179                        0                   1                       0   \n",
       "5841                        0                   0                       1   \n",
       "526                         0                   1                       0   \n",
       "3843                        0                   0                       0   \n",
       "\n",
       "      ...  City_Other Cities of Maharashtra  City_Other Metro Cities  \\\n",
       "2754  ...                                 0                        0   \n",
       "2179  ...                                 0                        0   \n",
       "5841  ...                                 0                        0   \n",
       "526   ...                                 0                        0   \n",
       "3843  ...                                 0                        0   \n",
       "\n",
       "      City_Thane & Outskirts  City_Tier II Cities  \\\n",
       "2754                       0                    0   \n",
       "2179                       0                    0   \n",
       "5841                       0                    0   \n",
       "526                        1                    0   \n",
       "3843                       0                    0   \n",
       "\n",
       "      Last Notable Activity_Email Opened  Last Notable Activity_Modified  \\\n",
       "2754                                   0                               0   \n",
       "2179                                   1                               0   \n",
       "5841                                   0                               1   \n",
       "526                                    0                               1   \n",
       "3843                                   1                               0   \n",
       "\n",
       "      Last Notable Activity_Olark Chat Conversation  \\\n",
       "2754                                              0   \n",
       "2179                                              0   \n",
       "5841                                              0   \n",
       "526                                               0   \n",
       "3843                                              0   \n",
       "\n",
       "      Last Notable Activity_Other  \\\n",
       "2754                            1   \n",
       "2179                            0   \n",
       "5841                            0   \n",
       "526                             0   \n",
       "3843                            0   \n",
       "\n",
       "      Last Notable Activity_Page Visited on Website  \\\n",
       "2754                                              0   \n",
       "2179                                              0   \n",
       "5841                                              0   \n",
       "526                                               0   \n",
       "3843                                              0   \n",
       "\n",
       "      Last Notable Activity_SMS Sent  \n",
       "2754                               0  \n",
       "2179                               0  \n",
       "5841                               0  \n",
       "526                                0  \n",
       "3843                               0  \n",
       "\n",
       "[5 rows x 68 columns]"
      ]
     },
     "execution_count": 270,
     "metadata": {},
     "output_type": "execute_result"
    }
   ],
   "source": [
    "X_test[['TotalVisits','Total Time Spent on Website','Page Views Per Visit']] = scale.transform(X_test[['TotalVisits','Total Time Spent on Website','Page Views Per Visit']])\n",
    "\n",
    "X_test.head()"
   ]
  },
  {
   "cell_type": "code",
   "execution_count": 271,
   "id": "9ce7af60",
   "metadata": {},
   "outputs": [],
   "source": [
    "X_test = X_test[cols]\n",
    "X_test_sm = sm.add_constant(X_test)"
   ]
  },
  {
   "cell_type": "code",
   "execution_count": 272,
   "id": "3319f6c4",
   "metadata": {},
   "outputs": [
    {
     "data": {
      "text/plain": [
       "2754    0.164409\n",
       "2179    0.158446\n",
       "5841    0.070957\n",
       "526     0.042193\n",
       "3843    0.047280\n",
       "946     0.072253\n",
       "190     0.070957\n",
       "8997    0.230740\n",
       "3931    0.043104\n",
       "4794    0.634519\n",
       "dtype: float64"
      ]
     },
     "execution_count": 272,
     "metadata": {},
     "output_type": "execute_result"
    }
   ],
   "source": [
    "#Predicition on test set\n",
    "y_test_pred = res.predict(X_test_sm)\n",
    "y_test_pred[:10]"
   ]
  },
  {
   "cell_type": "code",
   "execution_count": 273,
   "id": "62153c48",
   "metadata": {},
   "outputs": [
    {
     "data": {
      "text/html": [
       "<div>\n",
       "<style scoped>\n",
       "    .dataframe tbody tr th:only-of-type {\n",
       "        vertical-align: middle;\n",
       "    }\n",
       "\n",
       "    .dataframe tbody tr th {\n",
       "        vertical-align: top;\n",
       "    }\n",
       "\n",
       "    .dataframe thead th {\n",
       "        text-align: right;\n",
       "    }\n",
       "</style>\n",
       "<table border=\"1\" class=\"dataframe\">\n",
       "  <thead>\n",
       "    <tr style=\"text-align: right;\">\n",
       "      <th></th>\n",
       "      <th>0</th>\n",
       "    </tr>\n",
       "  </thead>\n",
       "  <tbody>\n",
       "    <tr>\n",
       "      <th>2754</th>\n",
       "      <td>0.164409</td>\n",
       "    </tr>\n",
       "    <tr>\n",
       "      <th>2179</th>\n",
       "      <td>0.158446</td>\n",
       "    </tr>\n",
       "    <tr>\n",
       "      <th>5841</th>\n",
       "      <td>0.070957</td>\n",
       "    </tr>\n",
       "    <tr>\n",
       "      <th>526</th>\n",
       "      <td>0.042193</td>\n",
       "    </tr>\n",
       "    <tr>\n",
       "      <th>3843</th>\n",
       "      <td>0.047280</td>\n",
       "    </tr>\n",
       "  </tbody>\n",
       "</table>\n",
       "</div>"
      ],
      "text/plain": [
       "             0\n",
       "2754  0.164409\n",
       "2179  0.158446\n",
       "5841  0.070957\n",
       "526   0.042193\n",
       "3843  0.047280"
      ]
     },
     "execution_count": 273,
     "metadata": {},
     "output_type": "execute_result"
    }
   ],
   "source": [
    "# Converting y_pred to a dataframe\n",
    "y_pred_df = pd.DataFrame(y_test_pred)\n",
    "y_pred_df.head()"
   ]
  },
  {
   "cell_type": "code",
   "execution_count": 274,
   "id": "a3c4664a",
   "metadata": {},
   "outputs": [],
   "source": [
    "# Converting y_test to dataframe\n",
    "y_test_df = pd.DataFrame(y_test)"
   ]
  },
  {
   "cell_type": "code",
   "execution_count": 275,
   "id": "98ae7c20",
   "metadata": {},
   "outputs": [],
   "source": [
    "# Converting Lead ID to index\n",
    "y_test_df['Lead_ID'] = y_test_df.index"
   ]
  },
  {
   "cell_type": "code",
   "execution_count": 276,
   "id": "01c95d46",
   "metadata": {},
   "outputs": [],
   "source": [
    "#Removing index and appending them in side ways\n",
    "y_test_df.reset_index(drop=True, inplace=True)\n",
    "y_pred_df.reset_index(drop=True, inplace=True)"
   ]
  },
  {
   "cell_type": "code",
   "execution_count": 277,
   "id": "9c06d85e",
   "metadata": {},
   "outputs": [
    {
     "data": {
      "text/html": [
       "<div>\n",
       "<style scoped>\n",
       "    .dataframe tbody tr th:only-of-type {\n",
       "        vertical-align: middle;\n",
       "    }\n",
       "\n",
       "    .dataframe tbody tr th {\n",
       "        vertical-align: top;\n",
       "    }\n",
       "\n",
       "    .dataframe thead th {\n",
       "        text-align: right;\n",
       "    }\n",
       "</style>\n",
       "<table border=\"1\" class=\"dataframe\">\n",
       "  <thead>\n",
       "    <tr style=\"text-align: right;\">\n",
       "      <th></th>\n",
       "      <th>Converted</th>\n",
       "      <th>Lead_ID</th>\n",
       "      <th>0</th>\n",
       "    </tr>\n",
       "  </thead>\n",
       "  <tbody>\n",
       "    <tr>\n",
       "      <th>0</th>\n",
       "      <td>0</td>\n",
       "      <td>2754</td>\n",
       "      <td>0.164409</td>\n",
       "    </tr>\n",
       "    <tr>\n",
       "      <th>1</th>\n",
       "      <td>0</td>\n",
       "      <td>2179</td>\n",
       "      <td>0.158446</td>\n",
       "    </tr>\n",
       "    <tr>\n",
       "      <th>2</th>\n",
       "      <td>0</td>\n",
       "      <td>5841</td>\n",
       "      <td>0.070957</td>\n",
       "    </tr>\n",
       "    <tr>\n",
       "      <th>3</th>\n",
       "      <td>0</td>\n",
       "      <td>526</td>\n",
       "      <td>0.042193</td>\n",
       "    </tr>\n",
       "    <tr>\n",
       "      <th>4</th>\n",
       "      <td>0</td>\n",
       "      <td>3843</td>\n",
       "      <td>0.047280</td>\n",
       "    </tr>\n",
       "  </tbody>\n",
       "</table>\n",
       "</div>"
      ],
      "text/plain": [
       "   Converted  Lead_ID         0\n",
       "0          0     2754  0.164409\n",
       "1          0     2179  0.158446\n",
       "2          0     5841  0.070957\n",
       "3          0      526  0.042193\n",
       "4          0     3843  0.047280"
      ]
     },
     "execution_count": 277,
     "metadata": {},
     "output_type": "execute_result"
    }
   ],
   "source": [
    "# Appending y_test_df and y_pred_1\n",
    "y_pred_final = pd.concat([y_test_df, y_pred_df],axis=1)\n",
    "y_pred_final.head()"
   ]
  },
  {
   "cell_type": "code",
   "execution_count": 278,
   "id": "1a8e52d5",
   "metadata": {},
   "outputs": [],
   "source": [
    "# Renaming and Rearranging\n",
    "y_pred_final= y_pred_final.rename(columns={ 0 : 'Converted_prob'})"
   ]
  },
  {
   "cell_type": "code",
   "execution_count": 279,
   "id": "66fe2404",
   "metadata": {},
   "outputs": [],
   "source": [
    "y_pred_final = y_pred_final.reindex_axis(['Lead_ID','Converted','Converted_prob'], axis=1)"
   ]
  },
  {
   "cell_type": "code",
   "execution_count": 280,
   "id": "321ea5ae",
   "metadata": {},
   "outputs": [
    {
     "data": {
      "text/html": [
       "<div>\n",
       "<style scoped>\n",
       "    .dataframe tbody tr th:only-of-type {\n",
       "        vertical-align: middle;\n",
       "    }\n",
       "\n",
       "    .dataframe tbody tr th {\n",
       "        vertical-align: top;\n",
       "    }\n",
       "\n",
       "    .dataframe thead th {\n",
       "        text-align: right;\n",
       "    }\n",
       "</style>\n",
       "<table border=\"1\" class=\"dataframe\">\n",
       "  <thead>\n",
       "    <tr style=\"text-align: right;\">\n",
       "      <th></th>\n",
       "      <th>Lead_ID</th>\n",
       "      <th>Converted</th>\n",
       "      <th>Converted_prob</th>\n",
       "    </tr>\n",
       "  </thead>\n",
       "  <tbody>\n",
       "    <tr>\n",
       "      <th>0</th>\n",
       "      <td>2754</td>\n",
       "      <td>0</td>\n",
       "      <td>0.164409</td>\n",
       "    </tr>\n",
       "    <tr>\n",
       "      <th>1</th>\n",
       "      <td>2179</td>\n",
       "      <td>0</td>\n",
       "      <td>0.158446</td>\n",
       "    </tr>\n",
       "    <tr>\n",
       "      <th>2</th>\n",
       "      <td>5841</td>\n",
       "      <td>0</td>\n",
       "      <td>0.070957</td>\n",
       "    </tr>\n",
       "    <tr>\n",
       "      <th>3</th>\n",
       "      <td>526</td>\n",
       "      <td>0</td>\n",
       "      <td>0.042193</td>\n",
       "    </tr>\n",
       "    <tr>\n",
       "      <th>4</th>\n",
       "      <td>3843</td>\n",
       "      <td>0</td>\n",
       "      <td>0.047280</td>\n",
       "    </tr>\n",
       "  </tbody>\n",
       "</table>\n",
       "</div>"
      ],
      "text/plain": [
       "   Lead_ID  Converted  Converted_prob\n",
       "0     2754          0        0.164409\n",
       "1     2179          0        0.158446\n",
       "2     5841          0        0.070957\n",
       "3      526          0        0.042193\n",
       "4     3843          0        0.047280"
      ]
     },
     "execution_count": 280,
     "metadata": {},
     "output_type": "execute_result"
    }
   ],
   "source": [
    "y_pred_final.head()"
   ]
  },
  {
   "cell_type": "code",
   "execution_count": 281,
   "id": "60a732b7",
   "metadata": {},
   "outputs": [
    {
     "data": {
      "text/html": [
       "<div>\n",
       "<style scoped>\n",
       "    .dataframe tbody tr th:only-of-type {\n",
       "        vertical-align: middle;\n",
       "    }\n",
       "\n",
       "    .dataframe tbody tr th {\n",
       "        vertical-align: top;\n",
       "    }\n",
       "\n",
       "    .dataframe thead th {\n",
       "        text-align: right;\n",
       "    }\n",
       "</style>\n",
       "<table border=\"1\" class=\"dataframe\">\n",
       "  <thead>\n",
       "    <tr style=\"text-align: right;\">\n",
       "      <th></th>\n",
       "      <th>Lead_ID</th>\n",
       "      <th>Converted</th>\n",
       "      <th>Converted_prob</th>\n",
       "      <th>Lead_Score</th>\n",
       "    </tr>\n",
       "  </thead>\n",
       "  <tbody>\n",
       "    <tr>\n",
       "      <th>0</th>\n",
       "      <td>2754</td>\n",
       "      <td>0</td>\n",
       "      <td>0.164409</td>\n",
       "      <td>16</td>\n",
       "    </tr>\n",
       "    <tr>\n",
       "      <th>1</th>\n",
       "      <td>2179</td>\n",
       "      <td>0</td>\n",
       "      <td>0.158446</td>\n",
       "      <td>16</td>\n",
       "    </tr>\n",
       "    <tr>\n",
       "      <th>2</th>\n",
       "      <td>5841</td>\n",
       "      <td>0</td>\n",
       "      <td>0.070957</td>\n",
       "      <td>7</td>\n",
       "    </tr>\n",
       "    <tr>\n",
       "      <th>3</th>\n",
       "      <td>526</td>\n",
       "      <td>0</td>\n",
       "      <td>0.042193</td>\n",
       "      <td>4</td>\n",
       "    </tr>\n",
       "    <tr>\n",
       "      <th>4</th>\n",
       "      <td>3843</td>\n",
       "      <td>0</td>\n",
       "      <td>0.047280</td>\n",
       "      <td>5</td>\n",
       "    </tr>\n",
       "  </tbody>\n",
       "</table>\n",
       "</div>"
      ],
      "text/plain": [
       "   Lead_ID  Converted  Converted_prob  Lead_Score\n",
       "0     2754          0        0.164409          16\n",
       "1     2179          0        0.158446          16\n",
       "2     5841          0        0.070957           7\n",
       "3      526          0        0.042193           4\n",
       "4     3843          0        0.047280           5"
      ]
     },
     "execution_count": 281,
     "metadata": {},
     "output_type": "execute_result"
    }
   ],
   "source": [
    "#Assigning Lead Scores\n",
    "y_pred_final['Lead_Score'] = y_pred_final.Converted_prob.map( lambda x: round(x*100))\n",
    "y_pred_final.head()"
   ]
  },
  {
   "cell_type": "code",
   "execution_count": 282,
   "id": "33e85d51",
   "metadata": {},
   "outputs": [],
   "source": [
    "#Assuming 0.38 as the cutoff using precision recall tradeoff\n",
    "y_pred_final['final_predicted'] = y_pred_final.Converted_prob.map(lambda x: 1 if x > 0.38 else 0)"
   ]
  },
  {
   "cell_type": "code",
   "execution_count": 283,
   "id": "46dc5bd4",
   "metadata": {},
   "outputs": [
    {
     "data": {
      "text/html": [
       "<div>\n",
       "<style scoped>\n",
       "    .dataframe tbody tr th:only-of-type {\n",
       "        vertical-align: middle;\n",
       "    }\n",
       "\n",
       "    .dataframe tbody tr th {\n",
       "        vertical-align: top;\n",
       "    }\n",
       "\n",
       "    .dataframe thead th {\n",
       "        text-align: right;\n",
       "    }\n",
       "</style>\n",
       "<table border=\"1\" class=\"dataframe\">\n",
       "  <thead>\n",
       "    <tr style=\"text-align: right;\">\n",
       "      <th></th>\n",
       "      <th>Lead_ID</th>\n",
       "      <th>Converted</th>\n",
       "      <th>Converted_prob</th>\n",
       "      <th>Lead_Score</th>\n",
       "      <th>final_predicted</th>\n",
       "    </tr>\n",
       "  </thead>\n",
       "  <tbody>\n",
       "    <tr>\n",
       "      <th>0</th>\n",
       "      <td>2754</td>\n",
       "      <td>0</td>\n",
       "      <td>0.164409</td>\n",
       "      <td>16</td>\n",
       "      <td>0</td>\n",
       "    </tr>\n",
       "    <tr>\n",
       "      <th>1</th>\n",
       "      <td>2179</td>\n",
       "      <td>0</td>\n",
       "      <td>0.158446</td>\n",
       "      <td>16</td>\n",
       "      <td>0</td>\n",
       "    </tr>\n",
       "    <tr>\n",
       "      <th>2</th>\n",
       "      <td>5841</td>\n",
       "      <td>0</td>\n",
       "      <td>0.070957</td>\n",
       "      <td>7</td>\n",
       "      <td>0</td>\n",
       "    </tr>\n",
       "    <tr>\n",
       "      <th>3</th>\n",
       "      <td>526</td>\n",
       "      <td>0</td>\n",
       "      <td>0.042193</td>\n",
       "      <td>4</td>\n",
       "      <td>0</td>\n",
       "    </tr>\n",
       "    <tr>\n",
       "      <th>4</th>\n",
       "      <td>3843</td>\n",
       "      <td>0</td>\n",
       "      <td>0.047280</td>\n",
       "      <td>5</td>\n",
       "      <td>0</td>\n",
       "    </tr>\n",
       "  </tbody>\n",
       "</table>\n",
       "</div>"
      ],
      "text/plain": [
       "   Lead_ID  Converted  Converted_prob  Lead_Score  final_predicted\n",
       "0     2754          0        0.164409          16                0\n",
       "1     2179          0        0.158446          16                0\n",
       "2     5841          0        0.070957           7                0\n",
       "3      526          0        0.042193           4                0\n",
       "4     3843          0        0.047280           5                0"
      ]
     },
     "execution_count": 283,
     "metadata": {},
     "output_type": "execute_result"
    }
   ],
   "source": [
    "y_pred_final.head()"
   ]
  },
  {
   "cell_type": "code",
   "execution_count": 284,
   "id": "b51da43d",
   "metadata": {},
   "outputs": [
    {
     "name": "stdout",
     "output_type": "stream",
     "text": [
      "Accuracy on Test data is  0.9160075329566855\n"
     ]
    }
   ],
   "source": [
    "#Checking overall accuracy\n",
    "print(\"Accuracy on Test data is \",accuracy_score(y_pred_final.Converted, y_pred_final.final_predicted))"
   ]
  },
  {
   "cell_type": "code",
   "execution_count": 285,
   "id": "591f6489",
   "metadata": {},
   "outputs": [
    {
     "data": {
      "text/plain": [
       "array([[1605,   82],\n",
       "       [ 141,  827]], dtype=int64)"
      ]
     },
     "execution_count": 285,
     "metadata": {},
     "output_type": "execute_result"
    }
   ],
   "source": [
    "confusion2 = confusion_matrix(y_pred_final.Converted, y_pred_final.final_predicted )\n",
    "confusion2"
   ]
  },
  {
   "cell_type": "code",
   "execution_count": 286,
   "id": "c5f1c463",
   "metadata": {},
   "outputs": [],
   "source": [
    "TP = confusion2[1,1] # true positive \n",
    "TN = confusion2[0,0] # true negatives\n",
    "FP = confusion2[0,1] # false positives\n",
    "FN = confusion2[1,0] # false negatives"
   ]
  },
  {
   "cell_type": "code",
   "execution_count": 287,
   "id": "7822edb5",
   "metadata": {},
   "outputs": [
    {
     "name": "stdout",
     "output_type": "stream",
     "text": [
      "Specificity of the logistic model on test data is: 0.951393005334914\n"
     ]
    }
   ],
   "source": [
    "#calculating specificity\n",
    "print(\"Specificity of the logistic model on test data is:\",TN / float(TN+FP))"
   ]
  },
  {
   "cell_type": "code",
   "execution_count": 288,
   "id": "8ca18861",
   "metadata": {},
   "outputs": [
    {
     "name": "stdout",
     "output_type": "stream",
     "text": [
      "Sensitivity of the logistic model on test data is: 0.8543388429752066\n"
     ]
    }
   ],
   "source": [
    "#calculating sensitivity\n",
    "print(\"Sensitivity of the logistic model on test data is:\",TP / float(TP+FN))"
   ]
  },
  {
   "cell_type": "code",
   "execution_count": 289,
   "id": "81f758ae",
   "metadata": {},
   "outputs": [
    {
     "name": "stdout",
     "output_type": "stream",
     "text": [
      "              precision    recall  f1-score   support\n",
      "\n",
      "           0       0.92      0.95      0.94      1687\n",
      "           1       0.91      0.85      0.88       968\n",
      "\n",
      "   micro avg       0.92      0.92      0.92      2655\n",
      "   macro avg       0.91      0.90      0.91      2655\n",
      "weighted avg       0.92      0.92      0.92      2655\n",
      "\n"
     ]
    }
   ],
   "source": [
    "print(classification_report(y_pred_final.Converted, y_pred_final.final_predicted))"
   ]
  },
  {
   "cell_type": "code",
   "execution_count": 290,
   "id": "b7500903",
   "metadata": {},
   "outputs": [
    {
     "name": "stdout",
     "output_type": "stream",
     "text": [
      "0.8803680981595092\n"
     ]
    }
   ],
   "source": [
    "print(accuracy_score(y_train_pred_final.Converted, y_train_pred_final.final_predicted ))"
   ]
  },
  {
   "cell_type": "markdown",
   "id": "82e7c441",
   "metadata": {},
   "source": [
    "### Step 9 Final Observation"
   ]
  },
  {
   "cell_type": "markdown",
   "id": "bfee4c4b",
   "metadata": {},
   "source": [
    "**Train Data**\n",
    "- Acuaracy : 90.53%\n",
    "- Precision : 80%\n",
    "- Recall : 91%\n",
    "- f1-score : 85%"
   ]
  },
  {
   "cell_type": "markdown",
   "id": "cc5ab93c",
   "metadata": {},
   "source": [
    "**Test Data**\n",
    "- Acuaracy : 88.03%\n",
    "- Precision : 91%\n",
    "- Recall : 85%\n",
    "- f1-score : 88%"
   ]
  },
  {
   "cell_type": "markdown",
   "id": "e8a43280",
   "metadata": {},
   "source": [
    "#### From the above values of Train and Test data, we can say that model's prediction of conversion rate is good and can help the company in selecting Hot Leads."
   ]
  },
  {
   "cell_type": "markdown",
   "id": "68fda57f",
   "metadata": {},
   "source": [
    "### Step 10 Conclusion"
   ]
  },
  {
   "cell_type": "code",
   "execution_count": 293,
   "id": "872b8e70",
   "metadata": {},
   "outputs": [
    {
     "data": {
      "text/html": [
       "<div>\n",
       "<style scoped>\n",
       "    .dataframe tbody tr th:only-of-type {\n",
       "        vertical-align: middle;\n",
       "    }\n",
       "\n",
       "    .dataframe tbody tr th {\n",
       "        vertical-align: top;\n",
       "    }\n",
       "\n",
       "    .dataframe thead th {\n",
       "        text-align: right;\n",
       "    }\n",
       "</style>\n",
       "<table border=\"1\" class=\"dataframe\">\n",
       "  <thead>\n",
       "    <tr style=\"text-align: right;\">\n",
       "      <th></th>\n",
       "      <th>Lead Number</th>\n",
       "      <th>Converted</th>\n",
       "      <th>Converted_prob</th>\n",
       "      <th>Lead_Score</th>\n",
       "      <th>final_predicted</th>\n",
       "      <th>Do Not Email</th>\n",
       "      <th>TotalVisits</th>\n",
       "      <th>Total Time Spent on Website</th>\n",
       "      <th>Page Views Per Visit</th>\n",
       "      <th>A free copy of Mastering The Interview</th>\n",
       "      <th>...</th>\n",
       "      <th>City_Other Cities of Maharashtra</th>\n",
       "      <th>City_Other Metro Cities</th>\n",
       "      <th>City_Thane &amp; Outskirts</th>\n",
       "      <th>City_Tier II Cities</th>\n",
       "      <th>Last Notable Activity_Email Opened</th>\n",
       "      <th>Last Notable Activity_Modified</th>\n",
       "      <th>Last Notable Activity_Olark Chat Conversation</th>\n",
       "      <th>Last Notable Activity_Other</th>\n",
       "      <th>Last Notable Activity_Page Visited on Website</th>\n",
       "      <th>Last Notable Activity_SMS Sent</th>\n",
       "    </tr>\n",
       "  </thead>\n",
       "  <tbody>\n",
       "    <tr>\n",
       "      <th>0</th>\n",
       "      <td>646938</td>\n",
       "      <td>0</td>\n",
       "      <td>0.188779</td>\n",
       "      <td>19</td>\n",
       "      <td>0</td>\n",
       "      <td>0</td>\n",
       "      <td>2</td>\n",
       "      <td>219</td>\n",
       "      <td>2.0</td>\n",
       "      <td>1</td>\n",
       "      <td>...</td>\n",
       "      <td>1</td>\n",
       "      <td>0</td>\n",
       "      <td>0</td>\n",
       "      <td>0</td>\n",
       "      <td>1</td>\n",
       "      <td>0</td>\n",
       "      <td>0</td>\n",
       "      <td>0</td>\n",
       "      <td>0</td>\n",
       "      <td>0</td>\n",
       "    </tr>\n",
       "    <tr>\n",
       "      <th>1</th>\n",
       "      <td>615031</td>\n",
       "      <td>0</td>\n",
       "      <td>0.065939</td>\n",
       "      <td>7</td>\n",
       "      <td>0</td>\n",
       "      <td>0</td>\n",
       "      <td>12</td>\n",
       "      <td>494</td>\n",
       "      <td>3.0</td>\n",
       "      <td>1</td>\n",
       "      <td>...</td>\n",
       "      <td>0</td>\n",
       "      <td>0</td>\n",
       "      <td>1</td>\n",
       "      <td>0</td>\n",
       "      <td>1</td>\n",
       "      <td>0</td>\n",
       "      <td>0</td>\n",
       "      <td>0</td>\n",
       "      <td>0</td>\n",
       "      <td>0</td>\n",
       "    </tr>\n",
       "    <tr>\n",
       "      <th>2</th>\n",
       "      <td>625866</td>\n",
       "      <td>1</td>\n",
       "      <td>0.954546</td>\n",
       "      <td>95</td>\n",
       "      <td>1</td>\n",
       "      <td>0</td>\n",
       "      <td>6</td>\n",
       "      <td>288</td>\n",
       "      <td>3.0</td>\n",
       "      <td>1</td>\n",
       "      <td>...</td>\n",
       "      <td>0</td>\n",
       "      <td>0</td>\n",
       "      <td>1</td>\n",
       "      <td>0</td>\n",
       "      <td>0</td>\n",
       "      <td>0</td>\n",
       "      <td>0</td>\n",
       "      <td>0</td>\n",
       "      <td>0</td>\n",
       "      <td>1</td>\n",
       "    </tr>\n",
       "    <tr>\n",
       "      <th>3</th>\n",
       "      <td>638579</td>\n",
       "      <td>0</td>\n",
       "      <td>0.245332</td>\n",
       "      <td>25</td>\n",
       "      <td>0</td>\n",
       "      <td>0</td>\n",
       "      <td>4</td>\n",
       "      <td>1222</td>\n",
       "      <td>4.0</td>\n",
       "      <td>0</td>\n",
       "      <td>...</td>\n",
       "      <td>0</td>\n",
       "      <td>0</td>\n",
       "      <td>1</td>\n",
       "      <td>0</td>\n",
       "      <td>1</td>\n",
       "      <td>0</td>\n",
       "      <td>0</td>\n",
       "      <td>0</td>\n",
       "      <td>0</td>\n",
       "      <td>0</td>\n",
       "    </tr>\n",
       "    <tr>\n",
       "      <th>4</th>\n",
       "      <td>655666</td>\n",
       "      <td>0</td>\n",
       "      <td>0.012846</td>\n",
       "      <td>1</td>\n",
       "      <td>0</td>\n",
       "      <td>0</td>\n",
       "      <td>0</td>\n",
       "      <td>0</td>\n",
       "      <td>0.0</td>\n",
       "      <td>0</td>\n",
       "      <td>...</td>\n",
       "      <td>0</td>\n",
       "      <td>0</td>\n",
       "      <td>0</td>\n",
       "      <td>0</td>\n",
       "      <td>0</td>\n",
       "      <td>1</td>\n",
       "      <td>0</td>\n",
       "      <td>0</td>\n",
       "      <td>0</td>\n",
       "      <td>0</td>\n",
       "    </tr>\n",
       "  </tbody>\n",
       "</table>\n",
       "<p>5 rows × 73 columns</p>\n",
       "</div>"
      ],
      "text/plain": [
       "   Lead Number  Converted  Converted_prob  Lead_Score  final_predicted  \\\n",
       "0       646938          0        0.188779          19                0   \n",
       "1       615031          0        0.065939           7                0   \n",
       "2       625866          1        0.954546          95                1   \n",
       "3       638579          0        0.245332          25                0   \n",
       "4       655666          0        0.012846           1                0   \n",
       "\n",
       "   Do Not Email  TotalVisits  Total Time Spent on Website  \\\n",
       "0             0            2                          219   \n",
       "1             0           12                          494   \n",
       "2             0            6                          288   \n",
       "3             0            4                         1222   \n",
       "4             0            0                            0   \n",
       "\n",
       "   Page Views Per Visit  A free copy of Mastering The Interview  ...  \\\n",
       "0                   2.0                                       1  ...   \n",
       "1                   3.0                                       1  ...   \n",
       "2                   3.0                                       1  ...   \n",
       "3                   4.0                                       0  ...   \n",
       "4                   0.0                                       0  ...   \n",
       "\n",
       "   City_Other Cities of Maharashtra  City_Other Metro Cities  \\\n",
       "0                                 1                        0   \n",
       "1                                 0                        0   \n",
       "2                                 0                        0   \n",
       "3                                 0                        0   \n",
       "4                                 0                        0   \n",
       "\n",
       "   City_Thane & Outskirts  City_Tier II Cities  \\\n",
       "0                       0                    0   \n",
       "1                       1                    0   \n",
       "2                       1                    0   \n",
       "3                       1                    0   \n",
       "4                       0                    0   \n",
       "\n",
       "   Last Notable Activity_Email Opened  Last Notable Activity_Modified  \\\n",
       "0                                   1                               0   \n",
       "1                                   1                               0   \n",
       "2                                   0                               0   \n",
       "3                                   1                               0   \n",
       "4                                   0                               1   \n",
       "\n",
       "   Last Notable Activity_Olark Chat Conversation  Last Notable Activity_Other  \\\n",
       "0                                              0                            0   \n",
       "1                                              0                            0   \n",
       "2                                              0                            0   \n",
       "3                                              0                            0   \n",
       "4                                              0                            0   \n",
       "\n",
       "   Last Notable Activity_Page Visited on Website  \\\n",
       "0                                              0   \n",
       "1                                              0   \n",
       "2                                              0   \n",
       "3                                              0   \n",
       "4                                              0   \n",
       "\n",
       "   Last Notable Activity_SMS Sent  \n",
       "0                               0  \n",
       "1                               0  \n",
       "2                               1  \n",
       "3                               0  \n",
       "4                               0  \n",
       "\n",
       "[5 rows x 73 columns]"
      ]
     },
     "execution_count": 293,
     "metadata": {},
     "output_type": "execute_result"
    }
   ],
   "source": [
    "#### Leads and Lead scores summary\n",
    "cols1 = y_pred_final.columns\n",
    "all_leads = pd.concat([y_train_pred_final[cols1],y_pred_final])\n",
    "\n",
    "# Let us observe the behaviour of leads for various original attributes of the dataframe\n",
    "all_leads = pd.merge(all_leads,df_lead.reset_index(), left_on = 'Lead_ID',right_on = 'index', how = 'left').drop(['Converted_y','index','Lead_ID'],axis =1)\n",
    "all_leads.rename(columns = {'Converted_x':'Converted'}, inplace = True)\n",
    "\n",
    "# Changing the position of `Lead Number` column\n",
    "col_position = all_leads.columns.tolist()\n",
    "col_position.insert(0, col_position.pop(col_position.index('Lead Number')))\n",
    "all_leads = all_leads.reindex(columns = col_position)\n",
    "all_leads.head()"
   ]
  },
  {
   "cell_type": "markdown",
   "id": "7945d0e9",
   "metadata": {},
   "source": [
    "#### Hot leads with more than 80% lead score(conversion_rate)"
   ]
  },
  {
   "cell_type": "code",
   "execution_count": 294,
   "id": "50a11bd0",
   "metadata": {},
   "outputs": [
    {
     "data": {
      "text/html": [
       "<div>\n",
       "<style scoped>\n",
       "    .dataframe tbody tr th:only-of-type {\n",
       "        vertical-align: middle;\n",
       "    }\n",
       "\n",
       "    .dataframe tbody tr th {\n",
       "        vertical-align: top;\n",
       "    }\n",
       "\n",
       "    .dataframe thead th {\n",
       "        text-align: right;\n",
       "    }\n",
       "</style>\n",
       "<table border=\"1\" class=\"dataframe\">\n",
       "  <thead>\n",
       "    <tr style=\"text-align: right;\">\n",
       "      <th></th>\n",
       "      <th>Lead Number</th>\n",
       "      <th>Converted</th>\n",
       "      <th>Converted_prob</th>\n",
       "      <th>Lead_Score</th>\n",
       "      <th>final_predicted</th>\n",
       "      <th>Do Not Email</th>\n",
       "      <th>TotalVisits</th>\n",
       "      <th>Total Time Spent on Website</th>\n",
       "      <th>Page Views Per Visit</th>\n",
       "      <th>A free copy of Mastering The Interview</th>\n",
       "      <th>...</th>\n",
       "      <th>City_Other Cities of Maharashtra</th>\n",
       "      <th>City_Other Metro Cities</th>\n",
       "      <th>City_Thane &amp; Outskirts</th>\n",
       "      <th>City_Tier II Cities</th>\n",
       "      <th>Last Notable Activity_Email Opened</th>\n",
       "      <th>Last Notable Activity_Modified</th>\n",
       "      <th>Last Notable Activity_Olark Chat Conversation</th>\n",
       "      <th>Last Notable Activity_Other</th>\n",
       "      <th>Last Notable Activity_Page Visited on Website</th>\n",
       "      <th>Last Notable Activity_SMS Sent</th>\n",
       "    </tr>\n",
       "  </thead>\n",
       "  <tbody>\n",
       "    <tr>\n",
       "      <th>3600</th>\n",
       "      <td>647212</td>\n",
       "      <td>1</td>\n",
       "      <td>0.996450</td>\n",
       "      <td>100</td>\n",
       "      <td>1</td>\n",
       "      <td>0</td>\n",
       "      <td>9</td>\n",
       "      <td>1524</td>\n",
       "      <td>9.0</td>\n",
       "      <td>1</td>\n",
       "      <td>...</td>\n",
       "      <td>0</td>\n",
       "      <td>0</td>\n",
       "      <td>0</td>\n",
       "      <td>0</td>\n",
       "      <td>0</td>\n",
       "      <td>0</td>\n",
       "      <td>0</td>\n",
       "      <td>0</td>\n",
       "      <td>0</td>\n",
       "      <td>1</td>\n",
       "    </tr>\n",
       "    <tr>\n",
       "      <th>3448</th>\n",
       "      <td>603586</td>\n",
       "      <td>1</td>\n",
       "      <td>0.998283</td>\n",
       "      <td>100</td>\n",
       "      <td>1</td>\n",
       "      <td>0</td>\n",
       "      <td>0</td>\n",
       "      <td>0</td>\n",
       "      <td>0.0</td>\n",
       "      <td>0</td>\n",
       "      <td>...</td>\n",
       "      <td>0</td>\n",
       "      <td>0</td>\n",
       "      <td>0</td>\n",
       "      <td>0</td>\n",
       "      <td>1</td>\n",
       "      <td>0</td>\n",
       "      <td>0</td>\n",
       "      <td>0</td>\n",
       "      <td>0</td>\n",
       "      <td>0</td>\n",
       "    </tr>\n",
       "    <tr>\n",
       "      <th>3291</th>\n",
       "      <td>608305</td>\n",
       "      <td>1</td>\n",
       "      <td>0.999915</td>\n",
       "      <td>100</td>\n",
       "      <td>1</td>\n",
       "      <td>0</td>\n",
       "      <td>3</td>\n",
       "      <td>1431</td>\n",
       "      <td>1.0</td>\n",
       "      <td>1</td>\n",
       "      <td>...</td>\n",
       "      <td>0</td>\n",
       "      <td>0</td>\n",
       "      <td>0</td>\n",
       "      <td>0</td>\n",
       "      <td>0</td>\n",
       "      <td>0</td>\n",
       "      <td>0</td>\n",
       "      <td>0</td>\n",
       "      <td>1</td>\n",
       "      <td>0</td>\n",
       "    </tr>\n",
       "    <tr>\n",
       "      <th>3298</th>\n",
       "      <td>603490</td>\n",
       "      <td>1</td>\n",
       "      <td>0.996762</td>\n",
       "      <td>100</td>\n",
       "      <td>1</td>\n",
       "      <td>0</td>\n",
       "      <td>7</td>\n",
       "      <td>1568</td>\n",
       "      <td>7.0</td>\n",
       "      <td>0</td>\n",
       "      <td>...</td>\n",
       "      <td>1</td>\n",
       "      <td>0</td>\n",
       "      <td>0</td>\n",
       "      <td>0</td>\n",
       "      <td>0</td>\n",
       "      <td>0</td>\n",
       "      <td>0</td>\n",
       "      <td>0</td>\n",
       "      <td>0</td>\n",
       "      <td>1</td>\n",
       "    </tr>\n",
       "    <tr>\n",
       "      <th>3322</th>\n",
       "      <td>595178</td>\n",
       "      <td>1</td>\n",
       "      <td>0.998910</td>\n",
       "      <td>100</td>\n",
       "      <td>1</td>\n",
       "      <td>0</td>\n",
       "      <td>14</td>\n",
       "      <td>1290</td>\n",
       "      <td>3.5</td>\n",
       "      <td>1</td>\n",
       "      <td>...</td>\n",
       "      <td>0</td>\n",
       "      <td>0</td>\n",
       "      <td>0</td>\n",
       "      <td>0</td>\n",
       "      <td>1</td>\n",
       "      <td>0</td>\n",
       "      <td>0</td>\n",
       "      <td>0</td>\n",
       "      <td>0</td>\n",
       "      <td>0</td>\n",
       "    </tr>\n",
       "  </tbody>\n",
       "</table>\n",
       "<p>5 rows × 73 columns</p>\n",
       "</div>"
      ],
      "text/plain": [
       "      Lead Number  Converted  Converted_prob  Lead_Score  final_predicted  \\\n",
       "3600       647212          1        0.996450         100                1   \n",
       "3448       603586          1        0.998283         100                1   \n",
       "3291       608305          1        0.999915         100                1   \n",
       "3298       603490          1        0.996762         100                1   \n",
       "3322       595178          1        0.998910         100                1   \n",
       "\n",
       "      Do Not Email  TotalVisits  Total Time Spent on Website  \\\n",
       "3600             0            9                         1524   \n",
       "3448             0            0                            0   \n",
       "3291             0            3                         1431   \n",
       "3298             0            7                         1568   \n",
       "3322             0           14                         1290   \n",
       "\n",
       "      Page Views Per Visit  A free copy of Mastering The Interview  ...  \\\n",
       "3600                   9.0                                       1  ...   \n",
       "3448                   0.0                                       0  ...   \n",
       "3291                   1.0                                       1  ...   \n",
       "3298                   7.0                                       0  ...   \n",
       "3322                   3.5                                       1  ...   \n",
       "\n",
       "      City_Other Cities of Maharashtra  City_Other Metro Cities  \\\n",
       "3600                                 0                        0   \n",
       "3448                                 0                        0   \n",
       "3291                                 0                        0   \n",
       "3298                                 1                        0   \n",
       "3322                                 0                        0   \n",
       "\n",
       "      City_Thane & Outskirts  City_Tier II Cities  \\\n",
       "3600                       0                    0   \n",
       "3448                       0                    0   \n",
       "3291                       0                    0   \n",
       "3298                       0                    0   \n",
       "3322                       0                    0   \n",
       "\n",
       "      Last Notable Activity_Email Opened  Last Notable Activity_Modified  \\\n",
       "3600                                   0                               0   \n",
       "3448                                   1                               0   \n",
       "3291                                   0                               0   \n",
       "3298                                   0                               0   \n",
       "3322                                   1                               0   \n",
       "\n",
       "      Last Notable Activity_Olark Chat Conversation  \\\n",
       "3600                                              0   \n",
       "3448                                              0   \n",
       "3291                                              0   \n",
       "3298                                              0   \n",
       "3322                                              0   \n",
       "\n",
       "      Last Notable Activity_Other  \\\n",
       "3600                            0   \n",
       "3448                            0   \n",
       "3291                            0   \n",
       "3298                            0   \n",
       "3322                            0   \n",
       "\n",
       "      Last Notable Activity_Page Visited on Website  \\\n",
       "3600                                              0   \n",
       "3448                                              0   \n",
       "3291                                              1   \n",
       "3298                                              0   \n",
       "3322                                              0   \n",
       "\n",
       "      Last Notable Activity_SMS Sent  \n",
       "3600                               1  \n",
       "3448                               0  \n",
       "3291                               0  \n",
       "3298                               1  \n",
       "3322                               0  \n",
       "\n",
       "[5 rows x 73 columns]"
      ]
     },
     "execution_count": 294,
     "metadata": {},
     "output_type": "execute_result"
    }
   ],
   "source": [
    "Hot_leads = all_leads.loc[all_leads['Lead_Score'] > 80,:].sort_values(by = 'Lead_Score', ascending = False)\n",
    "Hot_leads.head()"
   ]
  },
  {
   "cell_type": "code",
   "execution_count": 296,
   "id": "94673a43",
   "metadata": {},
   "outputs": [
    {
     "data": {
      "text/html": [
       "<div>\n",
       "<style scoped>\n",
       "    .dataframe tbody tr th:only-of-type {\n",
       "        vertical-align: middle;\n",
       "    }\n",
       "\n",
       "    .dataframe tbody tr th {\n",
       "        vertical-align: top;\n",
       "    }\n",
       "\n",
       "    .dataframe thead th {\n",
       "        text-align: right;\n",
       "    }\n",
       "</style>\n",
       "<table border=\"1\" class=\"dataframe\">\n",
       "  <thead>\n",
       "    <tr style=\"text-align: right;\">\n",
       "      <th></th>\n",
       "      <th>Lead_ID</th>\n",
       "      <th>Converted</th>\n",
       "      <th>Converted_prob</th>\n",
       "      <th>Lead_Score</th>\n",
       "      <th>final_predicted</th>\n",
       "      <th>Total Time Spent on Website</th>\n",
       "      <th>Lead Origin_Lead Add Form</th>\n",
       "      <th>Lead Source_Olark Chat</th>\n",
       "      <th>Lead Source_Welingak Website</th>\n",
       "      <th>Tags_Closed by Horizzon</th>\n",
       "      <th>Tags_Lost</th>\n",
       "      <th>Tags_No Phone Number</th>\n",
       "      <th>Tags_Others</th>\n",
       "      <th>Tags_Will revert after reading the email</th>\n",
       "      <th>Last Notable Activity_Modified</th>\n",
       "      <th>Last Notable Activity_Olark Chat Conversation</th>\n",
       "    </tr>\n",
       "  </thead>\n",
       "  <tbody>\n",
       "    <tr>\n",
       "      <th>968</th>\n",
       "      <td>4982</td>\n",
       "      <td>1</td>\n",
       "      <td>0.997896</td>\n",
       "      <td>100</td>\n",
       "      <td>1</td>\n",
       "      <td>1774</td>\n",
       "      <td>0</td>\n",
       "      <td>0</td>\n",
       "      <td>0</td>\n",
       "      <td>0</td>\n",
       "      <td>0</td>\n",
       "      <td>0</td>\n",
       "      <td>0</td>\n",
       "      <td>1</td>\n",
       "      <td>0</td>\n",
       "      <td>0</td>\n",
       "    </tr>\n",
       "    <tr>\n",
       "      <th>3900</th>\n",
       "      <td>5662</td>\n",
       "      <td>1</td>\n",
       "      <td>0.997323</td>\n",
       "      <td>100</td>\n",
       "      <td>1</td>\n",
       "      <td>1659</td>\n",
       "      <td>0</td>\n",
       "      <td>0</td>\n",
       "      <td>0</td>\n",
       "      <td>0</td>\n",
       "      <td>0</td>\n",
       "      <td>0</td>\n",
       "      <td>0</td>\n",
       "      <td>1</td>\n",
       "      <td>0</td>\n",
       "      <td>0</td>\n",
       "    </tr>\n",
       "    <tr>\n",
       "      <th>7034</th>\n",
       "      <td>2392</td>\n",
       "      <td>1</td>\n",
       "      <td>0.996603</td>\n",
       "      <td>100</td>\n",
       "      <td>1</td>\n",
       "      <td>1545</td>\n",
       "      <td>0</td>\n",
       "      <td>0</td>\n",
       "      <td>0</td>\n",
       "      <td>0</td>\n",
       "      <td>0</td>\n",
       "      <td>0</td>\n",
       "      <td>0</td>\n",
       "      <td>1</td>\n",
       "      <td>0</td>\n",
       "      <td>0</td>\n",
       "    </tr>\n",
       "    <tr>\n",
       "      <th>4959</th>\n",
       "      <td>3286</td>\n",
       "      <td>1</td>\n",
       "      <td>0.999630</td>\n",
       "      <td>100</td>\n",
       "      <td>1</td>\n",
       "      <td>0</td>\n",
       "      <td>1</td>\n",
       "      <td>0</td>\n",
       "      <td>1</td>\n",
       "      <td>1</td>\n",
       "      <td>0</td>\n",
       "      <td>0</td>\n",
       "      <td>0</td>\n",
       "      <td>0</td>\n",
       "      <td>1</td>\n",
       "      <td>0</td>\n",
       "    </tr>\n",
       "    <tr>\n",
       "      <th>4072</th>\n",
       "      <td>5334</td>\n",
       "      <td>1</td>\n",
       "      <td>0.995822</td>\n",
       "      <td>100</td>\n",
       "      <td>1</td>\n",
       "      <td>1446</td>\n",
       "      <td>0</td>\n",
       "      <td>0</td>\n",
       "      <td>0</td>\n",
       "      <td>0</td>\n",
       "      <td>0</td>\n",
       "      <td>0</td>\n",
       "      <td>0</td>\n",
       "      <td>1</td>\n",
       "      <td>0</td>\n",
       "      <td>0</td>\n",
       "    </tr>\n",
       "  </tbody>\n",
       "</table>\n",
       "</div>"
      ],
      "text/plain": [
       "      Lead_ID  Converted  Converted_prob  Lead_Score  final_predicted  \\\n",
       "968      4982          1        0.997896         100                1   \n",
       "3900     5662          1        0.997323         100                1   \n",
       "7034     2392          1        0.996603         100                1   \n",
       "4959     3286          1        0.999630         100                1   \n",
       "4072     5334          1        0.995822         100                1   \n",
       "\n",
       "      Total Time Spent on Website  Lead Origin_Lead Add Form  \\\n",
       "968                          1774                          0   \n",
       "3900                         1659                          0   \n",
       "7034                         1545                          0   \n",
       "4959                            0                          1   \n",
       "4072                         1446                          0   \n",
       "\n",
       "      Lead Source_Olark Chat  Lead Source_Welingak Website  \\\n",
       "968                        0                             0   \n",
       "3900                       0                             0   \n",
       "7034                       0                             0   \n",
       "4959                       0                             1   \n",
       "4072                       0                             0   \n",
       "\n",
       "      Tags_Closed by Horizzon  Tags_Lost  Tags_No Phone Number  Tags_Others  \\\n",
       "968                         0          0                     0            0   \n",
       "3900                        0          0                     0            0   \n",
       "7034                        0          0                     0            0   \n",
       "4959                        1          0                     0            0   \n",
       "4072                        0          0                     0            0   \n",
       "\n",
       "      Tags_Will revert after reading the email  \\\n",
       "968                                          1   \n",
       "3900                                         1   \n",
       "7034                                         1   \n",
       "4959                                         0   \n",
       "4072                                         1   \n",
       "\n",
       "      Last Notable Activity_Modified  \\\n",
       "968                                0   \n",
       "3900                               0   \n",
       "7034                               0   \n",
       "4959                               1   \n",
       "4072                               0   \n",
       "\n",
       "      Last Notable Activity_Olark Chat Conversation  \n",
       "968                                               0  \n",
       "3900                                              0  \n",
       "7034                                              0  \n",
       "4959                                              0  \n",
       "4072                                              0  "
      ]
     },
     "execution_count": 296,
     "metadata": {},
     "output_type": "execute_result"
    }
   ],
   "source": [
    "#### Leads and their relationship with other variables\n",
    "\n",
    "#Concatinating predictions on train & test data\n",
    "cols2 = y_pred_final.columns\n",
    "lead_score = pd.concat([y_train_pred_final[cols2],y_pred_final[cols2]])\n",
    "\n",
    "# concatinating Variables selected in our final regression model\n",
    "lead_score = pd.merge(lead_score,df_lead[cols].reset_index(), left_on = 'Lead_ID',right_on = 'index', how = 'left')\n",
    "lead_score = lead_score.sort_values(by = 'Lead_Score', ascending = False)\n",
    "lead_score.drop('index',axis = 1,inplace = True)\n",
    "lead_score.head()"
   ]
  },
  {
   "cell_type": "markdown",
   "id": "017a4e41",
   "metadata": {},
   "source": [
    "### Summary\n",
    "- To achieve maximum conversion with less amount of time spent on cold calling company should invest time on Hot Leads i.e, Leads who has more than 80% conversion rate. All the Potential Leads can be approached when the sales person have enough time to invest as the conversion rate is comparitively less."
   ]
  }
 ],
 "metadata": {
  "kernelspec": {
   "display_name": "Python 3 (ipykernel)",
   "language": "python",
   "name": "python3"
  },
  "language_info": {
   "codemirror_mode": {
    "name": "ipython",
    "version": 3
   },
   "file_extension": ".py",
   "mimetype": "text/x-python",
   "name": "python",
   "nbconvert_exporter": "python",
   "pygments_lexer": "ipython3",
   "version": "3.9.12"
  }
 },
 "nbformat": 4,
 "nbformat_minor": 5
}
